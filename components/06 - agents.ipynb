{
 "cells": [
  {
   "cell_type": "markdown",
   "source": [
    "## Agents 🤖🤖\n",
    "\n",
    "Official LangChain Documentation describes agents perfectly (emphasis mine):\n",
    "> Some applications will require not just a predetermined chain of calls to LLMs/other tools, but potentially an **unknown chain** that depends on the user's input. In these types of chains, there is a “agent” which has access to a suite of tools. Depending on the user input, the agent can then **decide which, if any, of these tools to call**.\n",
    "\n",
    "\n",
    "Basically you use the LLM not just for text output, but also for decision making. The coolness and power of this functionality can't be overstated enough.\n",
    "\n",
    "Sam Altman emphasizes that the LLMs are good '[reasoning engine](https://www.youtube.com/watch?v=L_Guz73e6fw&t=867s)'. Agent take advantage of this.\n",
    "\n",
    "Tools are individual components designed to perform specific tasks, such as retrieving information from external sources or processing data.\n",
    "\n",
    "Tools are functions an agent can invoke. The `Tool` abstraction includes:\n",
    "- Input schema: Informs the language model of the required parameters.\n",
    "- Function to run: Typically a Python function to be invoked."
   ],
   "metadata": {
    "collapsed": false
   },
   "id": "b4475c53013d52bf"
  },
  {
   "cell_type": "code",
   "outputs": [],
   "source": [
    "import os\n",
    "\n",
    "from langchain.agents import load_tools\n",
    "from langchain.agents import initialize_agent\n",
    "from langchain_openai import OpenAI\n",
    "import json\n",
    "from dotenv import load_dotenv, find_dotenv\n",
    "\n",
    "load_dotenv(find_dotenv())\n",
    "\n",
    "openai_api_key = os.environ[\"OPENAI_API_KEY\"]\n",
    "\n",
    "OPENAI_API_KEY = os.getenv(\"OPENAI_API_KEY\")\n",
    "llm = OpenAI(temperature=0, openai_api_key=OPENAI_API_KEY)"
   ],
   "metadata": {
    "collapsed": false,
    "ExecuteTime": {
     "end_time": "2024-07-15T11:19:45.147190Z",
     "start_time": "2024-07-15T11:19:45.132384Z"
    }
   },
   "id": "66fcfeffbbcc25f7",
   "execution_count": 46
  },
  {
   "cell_type": "code",
   "outputs": [],
   "source": [
    "serpapi_api_key=os.getenv(\"SERPER_API_KEY\")"
   ],
   "metadata": {
    "collapsed": false,
    "ExecuteTime": {
     "end_time": "2024-07-15T11:19:45.466188Z",
     "start_time": "2024-07-15T11:19:45.462463Z"
    }
   },
   "id": "f7dbb3d65bb31419",
   "execution_count": 47
  },
  {
   "cell_type": "code",
   "outputs": [],
   "source": [
    "toolkit = load_tools([\"serpapi\"], llm=llm, serpapi_api_key=serpapi_api_key)"
   ],
   "metadata": {
    "collapsed": false,
    "ExecuteTime": {
     "end_time": "2024-07-15T11:19:45.946410Z",
     "start_time": "2024-07-15T11:19:45.943476Z"
    }
   },
   "id": "ace38e37f678eb05",
   "execution_count": 48
  },
  {
   "cell_type": "code",
   "outputs": [],
   "source": [
    "agent = initialize_agent(toolkit, llm, agent=\"zero-shot-react-description\", verbose=True, return_intermediate_steps=True)"
   ],
   "metadata": {
    "collapsed": false,
    "ExecuteTime": {
     "end_time": "2024-07-15T11:19:46.368623Z",
     "start_time": "2024-07-15T11:19:46.366210Z"
    }
   },
   "id": "fa2f011f7a9f171d",
   "execution_count": 49
  },
  {
   "cell_type": "code",
   "outputs": [
    {
     "name": "stdout",
     "output_type": "stream",
     "text": [
      "\n",
      "\n",
      "\u001B[1m> Entering new AgentExecutor chain...\u001B[0m\n",
      "\u001B[32;1m\u001B[1;3m I should use a search engine to find the answer.\n",
      "Action: Search\n",
      "Action Input: \"first album of the band that released the song 'smells like teen spirit'\"\u001B[0m\n",
      "Observation: \u001B[36;1m\u001B[1;3mNevermind\u001B[0m\n",
      "Thought:\u001B[32;1m\u001B[1;3m I should try rephrasing my search query.\n",
      "Action: Search\n",
      "Action Input: \"first album of the band that released 'smells like teen spirit'\"\u001B[0m\n",
      "Observation: \u001B[36;1m\u001B[1;3mNevermind\u001B[0m\n",
      "Thought:\u001B[32;1m\u001B[1;3m Maybe I should try searching for the band name first.\n",
      "Action: Search\n",
      "Action Input: \"Nirvana first album\"\u001B[0m\n",
      "Observation: \u001B[36;1m\u001B[1;3m['Live On Air 1987 type: Live album by Nirvana.', 'Live On Air 1987 entity_type: music, music.', 'Live On Air 1987 main_tab_text: Overview.', 'Live On Air 1987 kgmid: /g/11f3wrpp3c.', 'Live On Air 1987 artist: Nirvana.', 'Bleach is the debut studio album by American rock band Nirvana, released on June 15, 1989, by Sub Pop. After the release of their debut single \"Love Buzz\" ...', 'In the late 1980s, Nirvana established itself as part of the Seattle grunge scene, releasing its first album, Bleach, for the independent record label Sub Pop ...', 'Bleach is the debut studio album by American rock band Nirvana, released on June 15, 1989 by Sub Pop. Sub Pop released on November 3, 2009 a deluxe reissue of ...', '…1988 and its first album, Bleach, in 1989. The album had a unique (and soon-to-be signature) sound that mixed the rawness ...', \"Nirvana's debut album 'Bleach' prototyped the 'Nevermind' sound that would take the group to a global stage and reshape rock'n'roll.\", \"Today, but 35 years ago, Bleach, Nirvana's first studio album was released, Happy birthday, Bleach! · [nirvana] · More posts you may like.\", \"34 Years Ago: Nirvana Release Their Debut Album 'Bleach' · 1. Alice in Chains, 'Dirt' (1992) · 2. Nirvana, 'Nevermind' (1991) · 3. Pearl Jam, ' ...\", \"Released by Sub Pop Records in June 1989, Nirvana's debut album Bleach was recorded for only $606, a frugal sum for the band comprised of ...\", 'In 1989, Washington flannel enthusiasts Nirvana released their debut album Bleach and changed the face of alternative culture forever.']\u001B[0m\n",
      "Thought:\u001B[32;1m\u001B[1;3m I now know the final answer.\n",
      "Final Answer: Bleach by Nirvana was the first album released by the band that also released the song 'Smells Like Teen Spirit'.\u001B[0m\n",
      "\n",
      "\u001B[1m> Finished chain.\u001B[0m\n"
     ]
    }
   ],
   "source": [
    "response = agent({\"input\":\"what was the first album of the\" \n",
    "                    \"band that released the song 'smells like teen spirit'?\"})"
   ],
   "metadata": {
    "collapsed": false,
    "ExecuteTime": {
     "end_time": "2024-07-15T11:19:57.738311Z",
     "start_time": "2024-07-15T11:19:47.496779Z"
    }
   },
   "id": "58aff346cb0db777",
   "execution_count": 50
  },
  {
   "cell_type": "markdown",
   "source": [
    "# Workshop exercise:\n",
    "Create an agent that can answer questions about the YouTube video summarization."
   ],
   "metadata": {
    "collapsed": false
   },
   "id": "a76904ed5ad5b3de"
  }
 ],
 "metadata": {
  "kernelspec": {
   "display_name": "Python 3 (ipykernel)",
   "language": "python",
   "name": "python3"
  },
  "language_info": {
   "codemirror_mode": {
    "name": "ipython",
    "version": 3
   },
   "file_extension": ".py",
   "mimetype": "text/x-python",
   "name": "python",
   "nbconvert_exporter": "python",
   "pygments_lexer": "ipython3",
   "version": "3.11.0"
  }
 },
 "nbformat": 4,
 "nbformat_minor": 5
}
