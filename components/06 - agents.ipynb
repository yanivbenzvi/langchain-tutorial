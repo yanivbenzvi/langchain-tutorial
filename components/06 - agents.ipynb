{
 "cells": [
  {
   "cell_type": "markdown",
   "id": "b4475c53013d52bf",
   "metadata": {
    "collapsed": false,
    "jupyter": {
     "outputs_hidden": false
    }
   },
   "source": [
    "## Agents 🤖🤖\n",
    "\n",
    "Official LangChain Documentation describes agents perfectly (emphasis mine):\n",
    "> Some applications will require not just a predetermined chain of calls to LLMs/other tools, but potentially an **unknown chain** that depends on the user's input. In these types of chains, there is a “agent” which has access to a suite of tools. Depending on the user input, the agent can then **decide which, if any, of these tools to call**.\n",
    "\n",
    "\n",
    "Basically you use the LLM not just for text output, but also for decision making. The coolness and power of this functionality can't be overstated enough.\n",
    "\n",
    "Sam Altman emphasizes that the LLMs are good '[reasoning engine](https://www.youtube.com/watch?v=L_Guz73e6fw&t=867s)'. Agent take advantage of this.\n",
    "\n",
    "Tools are individual components designed to perform specific tasks, such as retrieving information from external sources or processing data.\n",
    "\n",
    "Tools are functions an agent can invoke. The `Tool` abstraction includes:\n",
    "- Input schema: Informs the language model of the required parameters.\n",
    "- Function to run: Typically a Python function to be invoked."
   ]
  },
  {
   "cell_type": "code",
   "execution_count": 1,
   "id": "66fcfeffbbcc25f7",
   "metadata": {
    "ExecuteTime": {
     "end_time": "2024-07-15T11:19:45.147190Z",
     "start_time": "2024-07-15T11:19:45.132384Z"
    },
    "collapsed": false,
    "jupyter": {
     "outputs_hidden": false
    }
   },
   "outputs": [],
   "source": [
    "import os\n",
    "\n",
    "from langchain.agents import load_tools\n",
    "from langchain.agents import initialize_agent\n",
    "from langchain_openai import OpenAI\n",
    "import json\n",
    "from dotenv import load_dotenv, find_dotenv\n",
    "\n",
    "load_dotenv(find_dotenv())\n",
    "\n",
    "openai_api_key = os.environ[\"OPENAI_API_KEY\"]\n",
    "\n",
    "OPENAI_API_KEY = os.getenv(\"OPENAI_API_KEY\")\n",
    "llm = OpenAI(temperature=0, openai_api_key=OPENAI_API_KEY)"
   ]
  },
  {
   "cell_type": "code",
   "execution_count": 2,
   "id": "f7dbb3d65bb31419",
   "metadata": {
    "ExecuteTime": {
     "end_time": "2024-07-15T11:19:45.466188Z",
     "start_time": "2024-07-15T11:19:45.462463Z"
    },
    "collapsed": false,
    "jupyter": {
     "outputs_hidden": false
    }
   },
   "outputs": [],
   "source": [
    "serpapi_api_key=os.getenv(\"SERPER_API_KEY\")"
   ]
  },
  {
   "cell_type": "code",
   "execution_count": 3,
   "id": "ace38e37f678eb05",
   "metadata": {
    "ExecuteTime": {
     "end_time": "2024-07-15T11:19:45.946410Z",
     "start_time": "2024-07-15T11:19:45.943476Z"
    },
    "collapsed": false,
    "jupyter": {
     "outputs_hidden": false
    }
   },
   "outputs": [],
   "source": [
    "toolkit = load_tools([\"serpapi\"], llm=llm, serpapi_api_key=serpapi_api_key)"
   ]
  },
  {
   "cell_type": "code",
   "execution_count": 4,
   "id": "fa2f011f7a9f171d",
   "metadata": {
    "ExecuteTime": {
     "end_time": "2024-07-15T11:19:46.368623Z",
     "start_time": "2024-07-15T11:19:46.366210Z"
    },
    "collapsed": false,
    "jupyter": {
     "outputs_hidden": false
    }
   },
   "outputs": [
    {
     "name": "stderr",
     "output_type": "stream",
     "text": [
      "/Users/yanivbenzvi/develop/tikal/langchain-tutorial/.venv/lib/python3.11/site-packages/langchain_core/_api/deprecation.py:139: LangChainDeprecationWarning: The function `initialize_agent` was deprecated in LangChain 0.1.0 and will be removed in 0.3.0. Use Use new agent constructor methods like create_react_agent, create_json_agent, create_structured_chat_agent, etc. instead.\n",
      "  warn_deprecated(\n"
     ]
    }
   ],
   "source": [
    "agent = initialize_agent(toolkit, llm, agent=\"zero-shot-react-description\", verbose=True, return_intermediate_steps=True)"
   ]
  },
  {
   "cell_type": "code",
   "execution_count": 8,
   "id": "58aff346cb0db777",
   "metadata": {
    "ExecuteTime": {
     "end_time": "2024-07-15T11:19:57.738311Z",
     "start_time": "2024-07-15T11:19:47.496779Z"
    },
    "collapsed": false,
    "jupyter": {
     "outputs_hidden": false
    }
   },
   "outputs": [
    {
     "name": "stdout",
     "output_type": "stream",
     "text": [
      "\n",
      "\n",
      "\u001b[1m> Entering new AgentExecutor chain...\u001b[0m\n",
      "\u001b[32;1m\u001b[1;3m I should always think about what to do\n",
      "Action: Search\n",
      "Action Input: \"first album of the band that released the song 'smells like teen spirit'\"\u001b[0m\n",
      "Observation: \u001b[36;1m\u001b[1;3mNevermind\u001b[0m\n",
      "Thought:\u001b[32;1m\u001b[1;3m I should now search for the release date of the album\n",
      "Action: Search\n",
      "Action Input: \"release date of Nevermind album\"\u001b[0m\n",
      "Observation: \u001b[36;1m\u001b[1;3m[\"Nevermind is the second studio album by the American rock band Nirvana, released on September 24, 1991, by DGC Records. It was Nirvana's first release on a ...\", 'Nevermind is the second studio album by the American rock band, Nirvana. It was released on September 24, 1991 by DGC Records. It was produced by Butch Vig ...', '“Nevermind” was released on September 24, 1991 and reached No. 1 on the Billboard 200 albums chart in the issue dated January 11, 1992 — three ...', 'February 20, 1967, Aberdeen, Washington, U.S.. (Show more). Died: April 5, 1994, Seattle, Washington (aged 27). (Show ...', '31 years ago, on September 24th, 1991, Nirvana released the album \"Nevermind\", which turned out to be one of the biggest Alternative Rock ...', \"Nirvana's 'Nevermind,' released on September 24, 1991, emerged quietly but soon began to redefine rock, not just for the 90s, but forever.\", \"#6 Nirvana, 'Nevermind' (1991). Jul 4. Written By Brett Schewitz.\", 'Nevermind was released on September 24, 1991. Throughout 1992 it was the most talked about and most imitated record in the world. Grohl says ...', 'It was released on September 24, 1991. The album was highly influential.']\u001b[0m\n",
      "Thought:\u001b[32;1m\u001b[1;3m I now know the final answer\n",
      "Final Answer: The first album of the band that released the song 'smells like teen spirit' was Nevermind, released on September 24, 1991.\u001b[0m\n",
      "\n",
      "\u001b[1m> Finished chain.\u001b[0m\n"
     ]
    }
   ],
   "source": [
    "response = agent({\"input\":\"what was the first album of the\" \n",
    "                    \"band that released the song 'smells like teen spirit'?\"})"
   ]
  },
  {
   "cell_type": "markdown",
   "id": "a76904ed5ad5b3de",
   "metadata": {
    "collapsed": false,
    "jupyter": {
     "outputs_hidden": false
    }
   },
   "source": [
    "# Workshop exercise:\n",
    "Create an agent that can answer questions about the YouTube video summarization."
   ]
  }
 ],
 "metadata": {
  "kernelspec": {
   "display_name": "Python 3 (ipykernel)",
   "language": "python",
   "name": "python3"
  },
  "language_info": {
   "codemirror_mode": {
    "name": "ipython",
    "version": 3
   },
   "file_extension": ".py",
   "mimetype": "text/x-python",
   "name": "python",
   "nbconvert_exporter": "python",
   "pygments_lexer": "ipython3",
   "version": "3.11.0"
  }
 },
 "nbformat": 4,
 "nbformat_minor": 5
}
