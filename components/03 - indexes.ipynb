{
 "cells": [
  {
   "cell_type": "markdown",
   "id": "bb40085a944482ee",
   "metadata": {
    "collapsed": false,
    "jupyter": {
     "outputs_hidden": false
    }
   },
   "source": [
    "# Indexes - Structuring documents to LLMs can work with them"
   ]
  },
  {
   "cell_type": "markdown",
   "id": "993b66fe8eb19306",
   "metadata": {
    "collapsed": false,
    "jupyter": {
     "outputs_hidden": false
    }
   },
   "source": [
    "## Document Loaders\n",
    "Easy ways to import data from other sources. Shared functionality with [OpenAI Plugins](https://openai.com/blog/chatgpt-plugins) [specifically retrieval plugins](https://github.com/openai/chatgpt-retrieval-plugin)\n",
    "\n",
    "See a [big list](https://python.langchain.com/en/latest/modules/indexes/document_loaders.html) of document loaders here. A bunch more on [Llama Index](https://llamahub.ai/) as well."
   ]
  },
  {
   "cell_type": "code",
   "execution_count": 2,
   "id": "34e89b7d4bd3266f",
   "metadata": {
    "ExecuteTime": {
     "end_time": "2024-07-08T11:19:31.242627Z",
     "start_time": "2024-07-08T11:19:31.034615Z"
    },
    "collapsed": false,
    "jupyter": {
     "outputs_hidden": false
    }
   },
   "outputs": [],
   "source": [
    "from langchain.document_loaders import TextLoader\n",
    "import langchain \n",
    "langchain.debug = True"
   ]
  },
  {
   "cell_type": "code",
   "execution_count": 7,
   "id": "22be6d95b0781b28",
   "metadata": {
    "ExecuteTime": {
     "end_time": "2024-07-08T11:22:05.666330Z",
     "start_time": "2024-07-08T11:22:05.637925Z"
    },
    "collapsed": false,
    "jupyter": {
     "outputs_hidden": false
    }
   },
   "outputs": [],
   "source": [
    "# TextLoader - Load text from a file\n",
    "text_loader = TextLoader(file_path=\"../data/sample_loader.txt\", encoding=\"utf-8\")\n",
    "data = text_loader.load()\n"
   ]
  },
  {
   "cell_type": "code",
   "execution_count": 8,
   "id": "25944752963dabbe",
   "metadata": {
    "ExecuteTime": {
     "end_time": "2024-07-08T11:22:06.032961Z",
     "start_time": "2024-07-08T11:22:06.021644Z"
    },
    "collapsed": false,
    "jupyter": {
     "outputs_hidden": false
    }
   },
   "outputs": [
    {
     "name": "stdout",
     "output_type": "stream",
     "text": [
      "s little back\n",
      "      library, or book-closet, _au troisième_, No. 33, _Rue Dunôt,\n",
      "      Faubourg St. Germain_. For one hour at lea\n"
     ]
    }
   ],
   "source": [
    "print(data[0].page_content[1855:1984])"
   ]
  },
  {
   "cell_type": "markdown",
   "id": "4538b4648b826e3b",
   "metadata": {
    "collapsed": false,
    "jupyter": {
     "outputs_hidden": false
    }
   },
   "source": [
    "## Text Splitters\n",
    "Often times your document is too long (like a book) for your LLM. You need to split it up into chunks. Text splitters help with this.\n",
    "\n",
    "There are many ways you could split your text into chunks, experiment with [different ones](https://python.langchain.com/en/latest/modules/indexes/text_splitters.html) to see which is best for you."
   ]
  },
  {
   "cell_type": "code",
   "execution_count": 10,
   "id": "2a9966fd8811368d",
   "metadata": {
    "ExecuteTime": {
     "end_time": "2024-07-08T11:23:52.923263Z",
     "start_time": "2024-07-08T11:23:52.868831Z"
    },
    "collapsed": false,
    "jupyter": {
     "outputs_hidden": false
    }
   },
   "outputs": [],
   "source": [
    "from langchain.text_splitter import RecursiveCharacterTextSplitter"
   ]
  },
  {
   "cell_type": "code",
   "execution_count": 11,
   "id": "7796508b5a9c3407",
   "metadata": {
    "ExecuteTime": {
     "end_time": "2024-07-08T11:27:03.480237Z",
     "start_time": "2024-07-08T11:27:03.465279Z"
    },
    "collapsed": false,
    "jupyter": {
     "outputs_hidden": false
    }
   },
   "outputs": [
    {
     "data": {
      "text/plain": [
       "[Document(page_content='The Project Gutenberg eBook of The Works of Edgar Allan Poe — Volume 2\\n    \\nThis ebook is for the use of anyone anywhere in the United States and'),\n",
       " Document(page_content='most other parts of the world at no cost and with almost no restrictions\\nwhatsoever. You may copy it, give it away or re-use it under the terms'),\n",
       " Document(page_content='of the Project Gutenberg License included with this ebook or online\\nat www.gutenberg.org. If you are not located in the United States,'),\n",
       " Document(page_content='you will have to check the laws of the country where you are located\\nbefore using this eBook.'),\n",
       " Document(page_content='Title: The Works of Edgar Allan Poe — Volume 2\\n\\nAuthor: Edgar Allan Poe'),\n",
       " Document(page_content='Release date: April 1, 2000 [eBook #2148]\\n                Most recently updated: May 19, 2024\\n\\nLanguage: English\\n\\nCredits: David Widger'),\n",
       " Document(page_content='*** START OF THE PROJECT GUTENBERG EBOOK THE WORKS OF EDGAR ALLAN POE — VOLUME 2 ***\\n\\n\\n\\n\\nThe Works of Edgar Allan Poe\\n\\nby Edgar Allan Poe'),\n",
       " Document(page_content='by Edgar Allan Poe\\n\\nThe Raven Edition\\n\\nVOLUME II.\\n\\n\\nContents'),\n",
       " Document(page_content='THE PURLOINED LETTER\\n THE THOUSAND-AND-SECOND TALE OF SCHEHERAZADE\\n A DESCENT INTO THE MAELSTROM.\\n VON KEMPELEN AND HIS DISCOVERY'),\n",
       " Document(page_content='MESMERIC REVELATION\\n THE FACTS IN THE CASE OF M. VALDEMAR\\n THE BLACK CAT.\\n THE FALL OF THE HOUSE OF USHER\\n SILENCE—A FABLE'),\n",
       " Document(page_content='SILENCE—A FABLE\\n THE MASQUE OF THE RED DEATH.\\n THE CASK OF AMONTILLADO.\\n THE IMP OF THE PERVERSE\\n THE ISLAND OF THE FAY\\n THE ASSIGNATION'),\n",
       " Document(page_content='THE ASSIGNATION\\n THE PIT AND THE PENDULUM\\n THE PREMATURE BURIAL\\n THE DOMAIN OF ARNHEIM\\n LANDOR’S COTTAGE\\n WILLIAM WILSO\\n THE TELL-TALE HEART.'),\n",
       " Document(page_content='BERENICE\\n ELEONORA\\n NOTES TO THE SECOND VOLUME'),\n",
       " Document(page_content='[Redactor’s Note—Some endnotes are by Poe and some were added by\\nGriswold. In this volume the notes are at the end.]\\n\\n\\n\\n\\nTHE PURLOINED LETTER'),\n",
       " Document(page_content='Nil sapientiæ odiosius acumine nimio.—_Seneca_.'),\n",
       " Document(page_content='At Paris, just after dark one gusty evening in the autumn of 18-,\\n      I was enjoying the twofold luxury of meditation and a meerschaum,'),\n",
       " Document(page_content='in company with my friend C. Auguste Dupin, in his little back\\n      library, or book-closet, _au troisième_, No. 33, _Rue Dunôt,'),\n",
       " Document(page_content='Faubourg St. Germain_. For one hour at least we had maintained a\\n      profound silence; while each, to any casual observer, might have'),\n",
       " Document(page_content='seemed intently and exclusively occupied with the curling eddies\\n      of smoke that oppressed the atmosphere of the chamber. For'),\n",
       " Document(page_content='myself, however, I was mentally discussing certain topics which\\n      had formed matter for conversation between us at an earlier'),\n",
       " Document(page_content='period of the evening; I mean the affair of the Rue Morgue, and\\n      the mystery attending the murder of Marie Rogêt. I looked upon'),\n",
       " Document(page_content='it, therefore, as something of a coincidence, when the door of\\n      our apartment was thrown open and admitted our old acquaintance,'),\n",
       " Document(page_content='Monsieur G——, the Prefect of the Parisian police.'),\n",
       " Document(page_content='We gave him a hearty welcome; for there was nearly half as much\\n      of the entertaining as of the contemptible about the man, and we'),\n",
       " Document(page_content='had not seen him for several years. We had been sitting in the\\n      dark, and Dupin now arose for the purpose of lighting a lamp, but'),\n",
       " Document(page_content='sat down again, without doing so, upon G.‘s saying that he had\\n      called to consult us, or rather to ask the opinion of my friend,'),\n",
       " Document(page_content='about some official business which had occasioned a great deal of\\n      trouble.'),\n",
       " Document(page_content='“If it is any point requiring reflection,” observed Dupin, as he\\n      forebore to enkindle the wick, “we shall examine it to better'),\n",
       " Document(page_content='purpose in the dark.”'),\n",
       " Document(page_content='“That is another of your odd notions,” said the Prefect, who had\\n      a fashion of calling every thing “odd” that was beyond his'),\n",
       " Document(page_content='comprehension, and thus lived amid an absolute legion of\\n      “oddities.”'),\n",
       " Document(page_content='“Very true,” said Dupin, as he supplied his visitor with a pipe,\\n      and rolled towards him a comfortable chair.'),\n",
       " Document(page_content='“And what is the difficulty now?” I asked. “Nothing more in the\\n      assassination way, I hope?”'),\n",
       " Document(page_content='“Oh no; nothing of that nature. The fact is, the business is very\\n      simple indeed, and I make no doubt that we can manage it'),\n",
       " Document(page_content='sufficiently well ourselves; but then I thought Dupin would like\\n      to hear the details of it, because it is so excessively odd.”'),\n",
       " Document(page_content='“Simple and odd,” said Dupin.'),\n",
       " Document(page_content='“Why, yes; and not exactly that, either. The fact is, we have all\\n      been a good deal puzzled because the affair is so simple, and yet'),\n",
       " Document(page_content='baffles us altogether.”'),\n",
       " Document(page_content='“Perhaps it is the very simplicity of the thing which puts you at\\n      fault,” said my friend.'),\n",
       " Document(page_content='“What nonsense you do talk!” replied the Prefect, laughing\\n      heartily.\\n\\n      “Perhaps the mystery is a little too plain,” said Dupin.'),\n",
       " Document(page_content='“Oh, good heavens! who ever heard of such an idea?”\\n\\n      “A little too self-evident.”'),\n",
       " Document(page_content='“Ha! ha! ha—ha! ha! ha!—ho! ho! ho!” roared our visitor,\\n      profoundly amused, “oh, Dupin, you will be the death of me yet!”'),\n",
       " Document(page_content='“And what, after all, is the matter on hand?” I asked.'),\n",
       " Document(page_content='“Why, I will tell you,” replied the Prefect, as he gave a long,\\n      steady and contemplative puff, and settled himself in his chair.'),\n",
       " Document(page_content='“I will tell you in a few words; but, before I begin, let me\\n      caution you that this is an affair demanding the greatest'),\n",
       " Document(page_content='secrecy, and that I should most probably lose the position I now\\n      hold, were it known that I confided it to any one.”'),\n",
       " Document(page_content='“Proceed,” said I.\\n\\n      “Or not,” said Dupin.'),\n",
       " Document(page_content='“Well, then; I have received personal information, from a very\\n      high quarter, that a certain document of the last importance has'),\n",
       " Document(page_content='been purloined from the royal apartments. The individual who\\n      purloined it is known; this beyond a doubt; he was seen to take'),\n",
       " Document(page_content='it. It is known, also, that it still remains in his possession.”'),\n",
       " Document(page_content='“How is this known?” asked Dupin.'),\n",
       " Document(page_content='“It is clearly inferred,” replied the Prefect, “from the nature\\n      of the document, and from the non-appearance of certain results'),\n",
       " Document(page_content='which would at once arise from its passing out of the robber’s\\n      possession; that is to say, from his employing it as he must'),\n",
       " Document(page_content='design in the end to employ it.”'),\n",
       " Document(page_content='“Be a little more explicit,” I said.'),\n",
       " Document(page_content='“Well, I may venture so far as to say that the paper gives its\\n      holder a certain power in a certain quarter where such power is'),\n",
       " Document(page_content='immensely valuable.” The Prefect was fond of the cant of\\n      diplomacy.'),\n",
       " Document(page_content='“Still I do not quite understand,” said Dupin.'),\n",
       " Document(page_content='“No? Well; the disclosure of the document to a third person, who\\n      shall be nameless, would bring in question the honor of a'),\n",
       " Document(page_content='personage of most exalted station; and this fact gives the holder\\n      of the document an ascendancy over the illustrious personage'),\n",
       " Document(page_content='whose honor and peace are so jeopardized.”'),\n",
       " Document(page_content='“But this ascendancy,” I interposed, “would depend upon the\\n      robber’s knowledge of the loser’s knowledge of the robber. Who'),\n",
       " Document(page_content='would dare—”'),\n",
       " Document(page_content='“The thief,” said G., “is the Minister D——, who dares all things,\\n      those unbecoming as well as those becoming a man. The method of'),\n",
       " Document(page_content='the theft was not less ingenious than bold. The document in\\n      question—a letter, to be frank—had been received by the personage'),\n",
       " Document(page_content='robbed while alone in the royal boudoir. During its perusal she\\n      was suddenly interrupted by the entrance of the other exalted'),\n",
       " Document(page_content='personage from whom especially it was her wish to conceal it.\\n      After a hurried and vain endeavor to thrust it in a drawer, she'),\n",
       " Document(page_content='was forced to place it, open as it was, upon a table. The\\n      address, however, was uppermost, and, the contents thus'),\n",
       " Document(page_content='unexposed, the letter escaped notice. At this juncture enters the\\n      Minister D——. His lynx eye immediately perceives the paper,'),\n",
       " Document(page_content='recognises the handwriting of the address, observes the confusion\\n      of the personage addressed, and fathoms her secret. After some'),\n",
       " Document(page_content='business transactions, hurried through in his ordinary manner, he\\n      produces a letter somewhat similar to the one in question, opens'),\n",
       " Document(page_content='it, pretends to read it, and then places it in close\\n      juxtaposition to the other. Again he converses, for some fifteen'),\n",
       " Document(page_content='minutes, upon the public affairs. At length, in taking leave, he\\n      takes also from the table the letter to which he had no claim.'),\n",
       " Document(page_content='Its rightful owner saw, but, of course, dared not call attention\\n      to the act, in the presence of the third personage who stood at'),\n",
       " Document(page_content='her elbow. The minister decamped; leaving his own letter—one of\\n      no importance—upon the table.”'),\n",
       " Document(page_content='“Here, then,” said Dupin to me, “you have precisely what you\\n      demand to make the ascendancy complete—the robber’s knowledge of'),\n",
       " Document(page_content='the loser’s knowledge of the robber.”'),\n",
       " Document(page_content='“Yes,” replied the Prefect; “and the power thus attained has, for\\n      some months past, been wielded, for political purposes, to a very'),\n",
       " Document(page_content='dangerous extent. The personage robbed is more thoroughly\\n      convinced, every day, of the necessity of reclaiming her letter.'),\n",
       " Document(page_content='But this, of course, cannot be done openly. In fine, driven to\\n      despair, she has committed the matter to me.”'),\n",
       " Document(page_content='“Than whom,” said Dupin, amid a perfect whirlwind of smoke, “no\\n      more sagacious agent could, I suppose, be desired, or even'),\n",
       " Document(page_content='imagined.”'),\n",
       " Document(page_content='“You flatter me,” replied the Prefect; “but it is possible that\\n      some such opinion may have been entertained.”'),\n",
       " Document(page_content='“It is clear,” said I, “as you observe, that the letter is still\\n      in possession of the minister; since it is this possession, and'),\n",
       " Document(page_content='not any employment of the letter, which bestows the power. With\\n      the employment the power departs.”'),\n",
       " Document(page_content='“True,” said G.; “and upon this conviction I proceeded. My first\\n      care was to make thorough search of the minister’s hotel; and'),\n",
       " Document(page_content='here my chief embarrassment lay in the necessity of searching\\n      without his knowledge. Beyond all things, I have been warned of'),\n",
       " Document(page_content='the danger which would result from giving him reason to suspect\\n      our design.”'),\n",
       " Document(page_content='“But,” said I, “you are quite au fait in these investigations.\\n      The Parisian police have done this thing often before.”'),\n",
       " Document(page_content='“Oh, yes; and for this reason I did not despair. The habits of\\n      the minister gave me, too, a great advantage. He is frequently'),\n",
       " Document(page_content='absent from home all night. His servants are by no means\\n      numerous. They sleep at a distance from their master’s apartment,'),\n",
       " Document(page_content='and, being chiefly Neapolitans, are readily made drunk. I have\\n      keys, as you know, with which I can open any chamber or cabinet'),\n",
       " Document(page_content='in Paris. For three months a night has not passed, during the\\n      greater part of which I have not been engaged, personally, in'),\n",
       " Document(page_content='ransacking the D—— Hotel. My honor is interested, and, to mention\\n      a great secret, the reward is enormous. So I did not abandon the'),\n",
       " Document(page_content='search until I had become fully satisfied that the thief is a\\n      more astute man than myself. I fancy that I have investigated'),\n",
       " Document(page_content='every nook and corner of the premises in which it is possible\\n      that the paper can be concealed.”'),\n",
       " Document(page_content='“But is it not possible,” I suggested, “that although the letter\\n      may be in possession of the minister, as it unquestionably is, he'),\n",
       " Document(page_content='may have concealed it elsewhere than upon his own premises?”'),\n",
       " Document(page_content='“This is barely possible,” said Dupin. “The present peculiar\\n      condition of affairs at court, and especially of those intrigues'),\n",
       " Document(page_content='in which D—— is known to be involved, would render the instant\\n      availability of the document—its susceptibility of being produced'),\n",
       " Document(page_content='at a moment’s notice—a point of nearly equal importance with its\\n      possession.”'),\n",
       " Document(page_content='“Its susceptibility of being produced?” said I.\\n\\n      “That is to say, of being destroyed,” said Dupin.'),\n",
       " Document(page_content='“True,” I observed; “the paper is clearly then upon the premises.\\n      As for its being upon the person of the minister, we may consider'),\n",
       " Document(page_content='that as out of the question.”'),\n",
       " Document(page_content='“Entirely,” said the Prefect. “He has been twice waylaid, as if\\n      by footpads, and his person rigorously searched under my own'),\n",
       " Document(page_content='inspection.”'),\n",
       " Document(page_content='“You might have spared yourself this trouble,” said Dupin. “D——,\\n      I presume, is not altogether a fool, and, if not, must have'),\n",
       " Document(page_content='anticipated these waylayings, as a matter of course.”'),\n",
       " Document(page_content='“Not altogether a fool,” said G., “but then he’s a poet, which I\\n      take to be only one remove from a fool.”'),\n",
       " Document(page_content='“True,” said Dupin, after a long and thoughtful whiff from his\\n      meerschaum, “although I have been guilty of certain doggrel'),\n",
       " Document(page_content='myself.”'),\n",
       " Document(page_content='“Suppose you detail,” said I, “the particulars of your search.”'),\n",
       " Document(page_content='“Why the fact is, we took our time, and we searched _everywhere_.\\n      I have had long experience in these affairs. I took the entire'),\n",
       " Document(page_content='building, room by room; devoting the nights of a whole week to\\n      each. We examined, first, the furniture of each apartment. We'),\n",
       " Document(page_content='opened every possible drawer; and I presume you know that, to a\\n      properly trained police agent, such a thing as a secret drawer is'),\n",
       " Document(page_content='impossible. Any man is a dolt who permits a ‘secret’ drawer to\\n      escape him in a search of this kind. The thing is so plain. There'),\n",
       " Document(page_content='is a certain amount of bulk—of space—to be accounted for in every\\n      cabinet. Then we have accurate rules. The fiftieth part of a line'),\n",
       " Document(page_content='could not escape us. After the cabinets we took the chairs. The\\n      cushions we probed with the fine long needles you have seen me'),\n",
       " Document(page_content='employ. From the tables we removed the tops.”'),\n",
       " Document(page_content='“Why so?”'),\n",
       " Document(page_content='“Sometimes the top of a table, or other similarly arranged piece\\n      of furniture, is removed by the person wishing to conceal an'),\n",
       " Document(page_content='article; then the leg is excavated, the article deposited within\\n      the cavity, and the top replaced. The bottoms and tops of'),\n",
       " Document(page_content='bedposts are employed in the same way.”'),\n",
       " Document(page_content='“But could not the cavity be detected by sounding?” I asked.'),\n",
       " Document(page_content='“By no means, if, when the article is deposited, a sufficient\\n      wadding of cotton be placed around it. Besides, in our case, we'),\n",
       " Document(page_content='were obliged to proceed without noise.”'),\n",
       " Document(page_content='“But you could not have removed—you could not have taken to\\n      pieces all articles of furniture in which it would have been'),\n",
       " Document(page_content='possible to make a deposit in the manner you mention. A letter\\n      may be compressed into a thin spiral roll, not differing much in'),\n",
       " Document(page_content='shape or bulk from a large knitting-needle, and in this form it\\n      might be inserted into the rung of a chair, for example. You did'),\n",
       " Document(page_content='not take to pieces all the chairs?”'),\n",
       " Document(page_content='“Certainly not; but we did better—we examined the rungs of every\\n      chair in the hotel, and, indeed the jointings of every'),\n",
       " Document(page_content='description of furniture, by the aid of a most powerful\\n      microscope. Had there been any traces of recent disturbance we'),\n",
       " Document(page_content='should not have failed to detect it instantly. A single grain of\\n      gimlet-dust, for example, would have been as obvious as an apple.'),\n",
       " Document(page_content='Any disorder in the glueing—any unusual gaping in the\\n      joints—would have sufficed to insure detection.”'),\n",
       " Document(page_content='“I presume you looked to the mirrors, between the boards and the\\n      plates, and you probed the beds and the bed-clothes, as well as'),\n",
       " Document(page_content='the curtains and carpets.”'),\n",
       " Document(page_content='“That of course; and when we had absolutely completed every\\n      particle of the furniture in this way, then we examined the house'),\n",
       " Document(page_content='itself. We divided its entire surface into compartments, which we\\n      numbered, so that none might be missed; then we scrutinized each'),\n",
       " Document(page_content='individual square inch throughout the premises, including the two\\n      houses immediately adjoining, with the microscope, as before.”'),\n",
       " Document(page_content='“The two houses adjoining!” I exclaimed; “you must have had a\\n      great deal of trouble.”'),\n",
       " Document(page_content='“We had; but the reward offered is prodigious!”\\n\\n      “You include the grounds about the houses?”'),\n",
       " Document(page_content='“All the grounds are paved with brick. They gave us comparatively\\n      little trouble. We examined the moss between the bricks, and'),\n",
       " Document(page_content='found it undisturbed.”'),\n",
       " Document(page_content='“You looked among D——‘s papers, of course, and into the books of\\n      the library?”'),\n",
       " Document(page_content='“Certainly; we opened every package and parcel; we not only\\n      opened every book, but we turned over every leaf in each volume,'),\n",
       " Document(page_content='not contenting ourselves with a mere shake, according to the\\n      fashion of some of our police officers. We also measured the'),\n",
       " Document(page_content='thickness of every book-cover, with the most accurate\\n      admeasurement, and applied to each the most jealous scrutiny of'),\n",
       " Document(page_content='the microscope. Had any of the bindings been recently meddled\\n      with, it would have been utterly impossible that the fact should'),\n",
       " Document(page_content='have escaped observation. Some five or six volumes, just from the\\n      hands of the binder, we carefully probed, longitudinally, with'),\n",
       " Document(page_content='the needles.”'),\n",
       " Document(page_content='“You explored the floors beneath the carpets?”'),\n",
       " Document(page_content='“Beyond doubt. We removed every carpet, and examined the boards\\n      with the microscope.”\\n\\n      “And the paper on the walls?”\\n\\n      “Yes.”'),\n",
       " Document(page_content='“Yes.”\\n\\n      “You looked into the cellars?”\\n\\n      “We did.”'),\n",
       " Document(page_content='“We did.”\\n\\n      “Then,” I said, “you have been making a miscalculation, and the\\n      letter is not upon the premises, as you suppose.”'),\n",
       " Document(page_content='“I fear you are right there,” said the Prefect. “And now, Dupin,\\n      what would you advise me to do?”'),\n",
       " Document(page_content='“To make a thorough re-search of the premises.”'),\n",
       " Document(page_content='“That is absolutely needless,” replied G——. “I am not more sure\\n      that I breathe than I am that the letter is not at the Hotel.”'),\n",
       " Document(page_content='“I have no better advice to give you,” said Dupin. “You have, of\\n      course, an accurate description of the letter?”'),\n",
       " Document(page_content='“Oh yes!”—And here the Prefect, producing a memorandum-book,\\n      proceeded to read aloud a minute account of the internal, and'),\n",
       " Document(page_content='especially of the external appearance of the missing document.\\n      Soon after finishing the perusal of this description, he took his'),\n",
       " Document(page_content='departure, more entirely depressed in spirits than I had ever\\n      known the good gentleman before.'),\n",
       " Document(page_content='In about a month afterwards he paid us another visit, and found\\n      us occupied very nearly as before. He took a pipe and a chair and'),\n",
       " Document(page_content='entered into some ordinary conversation. At length I said,—'),\n",
       " Document(page_content='“Well, but G——, what of the purloined letter? I presume you have\\n      at last made up your mind that there is no such thing as'),\n",
       " Document(page_content='overreaching the Minister?”'),\n",
       " Document(page_content='“Confound him, say I—yes; I made the re-examination, however, as\\n      Dupin suggested—but it was all labor lost, as I knew it would'),\n",
       " Document(page_content='be.”'),\n",
       " Document(page_content='“How much was the reward offered, did you say?” asked Dupin.'),\n",
       " Document(page_content='“Why, a very great deal—a very liberal reward—I don’t like to say\\n      how much, precisely; but one thing I will say, that I wouldn’t'),\n",
       " Document(page_content='mind giving my individual check for fifty thousand francs to any\\n      one who could obtain me that letter. The fact is, it is becoming'),\n",
       " Document(page_content='of more and more importance every day; and the reward has been\\n      lately doubled. If it were trebled, however, I could do no more'),\n",
       " Document(page_content='than I have done.”'),\n",
       " Document(page_content='“Why, yes,” said Dupin, drawlingly, between the whiffs of his\\n      meerschaum, “I really—think, G——, you have not exerted'),\n",
       " Document(page_content='yourself—to the utmost in this matter. You might—do a little\\n      more, I think, eh?”'),\n",
       " Document(page_content='“How?—in what way?”'),\n",
       " Document(page_content='“Why—puff, puff—you might—puff, puff—employ counsel in the\\n      matter, eh?—puff, puff, puff. Do you remember the story they tell'),\n",
       " Document(page_content='of Abernethy?”'),\n",
       " Document(page_content='“No; hang Abernethy!”'),\n",
       " Document(page_content='“To be sure! hang him and welcome. But, once upon a time, a\\n      certain rich miser conceived the design of spunging upon this'),\n",
       " Document(page_content='Abernethy for a medical opinion. Getting up, for this purpose, an\\n      ordinary conversation in a private company, he insinuated his'),\n",
       " Document(page_content='case to the physician, as that of an imaginary individual.'),\n",
       " Document(page_content='“‘We will suppose,’ said the miser, ‘that his symptoms are such\\n      and such; now, doctor, what would you have directed him to take?’'),\n",
       " Document(page_content='“‘Take!’ said Abernethy, ‘why, take advice, to be sure.’”'),\n",
       " Document(page_content='“But,” said the Prefect, a little discomposed, “I am perfectly\\n      willing to take advice, and to pay for it. I would really give'),\n",
       " Document(page_content='fifty thousand francs to any one who would aid me in the matter.”'),\n",
       " Document(page_content='“In that case,” replied Dupin, opening a drawer, and producing a\\n      check-book, “you may as well fill me up a check for the amount'),\n",
       " Document(page_content='mentioned. When you have signed it, I will hand you the letter.”'),\n",
       " Document(page_content='I was astounded. The Prefect appeared absolutely\\n      thunder-stricken. For some minutes he remained speechless and'),\n",
       " Document(page_content='motionless, looking incredulously at my friend with open mouth,\\n      and eyes that seemed starting from their sockets; then,'),\n",
       " Document(page_content='apparently recovering himself in some measure, he seized a pen,\\n      and after several pauses and vacant stares, finally filled up and'),\n",
       " Document(page_content='signed a check for fifty thousand francs, and handed it across\\n      the table to Dupin. The latter examined it carefully and'),\n",
       " Document(page_content='deposited it in his pocket-book; then, unlocking an escritoire,\\n      took thence a letter and gave it to the Prefect. This functionary'),\n",
       " Document(page_content='grasped it in a perfect agony of joy, opened it with a trembling\\n      hand, cast a rapid glance at its contents, and then, scrambling'),\n",
       " Document(page_content='and struggling to the door, rushed at length unceremoniously from\\n      the room and from the house, without having uttered a syllable'),\n",
       " Document(page_content='since Dupin had requested him to fill up the check.'),\n",
       " Document(page_content='When he had gone, my friend entered into some explanations.'),\n",
       " Document(page_content='“The Parisian police,” he said, “are exceedingly able in their\\n      way. They are persevering, ingenious, cunning, and thoroughly'),\n",
       " Document(page_content='versed in the knowledge which their duties seem chiefly to\\n      demand. Thus, when G—— detailed to us his mode of searching the'),\n",
       " Document(page_content='premises at the Hotel D——, I felt entire confidence in his having\\n      made a satisfactory investigation—so far as his labors extended.”'),\n",
       " Document(page_content='“So far as his labors extended?” said I.'),\n",
       " Document(page_content='“Yes,” said Dupin. “The measures adopted were not only the best\\n      of their kind, but carried out to absolute perfection. Had the'),\n",
       " Document(page_content='letter been deposited within the range of their search, these\\n      fellows would, beyond a question, have found it.”'),\n",
       " Document(page_content='I merely laughed—but he seemed quite serious in all that he said.'),\n",
       " Document(page_content='“The measures, then,” he continued, “were good in their kind, and\\n      well executed; their defect lay in their being inapplicable to'),\n",
       " Document(page_content='the case, and to the man. A certain set of highly ingenious\\n      resources are, with the Prefect, a sort of Procrustean bed, to'),\n",
       " Document(page_content='which he forcibly adapts his designs. But he perpetually errs by\\n      being too deep or too shallow for the matter in hand; and many a'),\n",
       " Document(page_content='schoolboy is a better reasoner than he. I knew one about eight\\n      years of age, whose success at guessing in the game of ‘even and'),\n",
       " Document(page_content='odd’ attracted universal admiration. This game is simple, and is\\n      played with marbles. One player holds in his hand a number of'),\n",
       " Document(page_content='these toys, and demands of another whether that number is even or\\n      odd. If the guess is right, the guesser wins one; if wrong, he'),\n",
       " Document(page_content='loses one. The boy to whom I allude won all the marbles of the\\n      school. Of course he had some principle of guessing; and this lay'),\n",
       " Document(page_content='in mere observation and admeasurement of the astuteness of his\\n      opponents. For example, an arrant simpleton is his opponent, and,'),\n",
       " Document(page_content='holding up his closed hand, asks, ‘are they even or odd?’ Our\\n      schoolboy replies, ‘odd,’ and loses; but upon the second trial he'),\n",
       " Document(page_content='wins, for he then says to himself, ‘the simpleton had them even\\n      upon the first trial, and his amount of cunning is just'),\n",
       " Document(page_content='sufficient to make him have them odd upon the second; I will\\n      therefore guess odd;’—he guesses odd, and wins. Now, with a'),\n",
       " Document(page_content='simpleton a degree above the first, he would have reasoned thus:\\n      ‘This fellow finds that in the first instance I guessed odd, and,'),\n",
       " Document(page_content='in the second, he will propose to himself, upon the first\\n      impulse, a simple variation from even to odd, as did the first'),\n",
       " Document(page_content='simpleton; but then a second thought will suggest that this is\\n      too simple a variation, and finally he will decide upon putting'),\n",
       " Document(page_content='it even as before. I will therefore guess even;’—he guesses even,\\n      and wins. Now this mode of reasoning in the schoolboy, whom his'),\n",
       " Document(page_content='fellows termed ‘lucky,’—what, in its last analysis, is it?”'),\n",
       " Document(page_content='“It is merely,” I said, “an identification of the reasoner’s\\n      intellect with that of his opponent.”'),\n",
       " Document(page_content='“It is,” said Dupin; “and, upon inquiring of the boy by what\\n      means he effected the thorough identification in which his'),\n",
       " Document(page_content='success consisted, I received answer as follows: ‘When I wish to\\n      find out how wise, or how stupid, or how good, or how wicked is'),\n",
       " Document(page_content='any one, or what are his thoughts at the moment, I fashion the\\n      expression of my face, as accurately as possible, in accordance'),\n",
       " Document(page_content='with the expression of his, and then wait to see what thoughts or\\n      sentiments arise in my mind or heart, as if to match or'),\n",
       " Document(page_content='correspond with the expression.’ This response of the schoolboy\\n      lies at the bottom of all the spurious profundity which has been'),\n",
       " Document(page_content='attributed to Rochefoucault, to La Bougive, to Machiavelli, and\\n      to Campanella.”'),\n",
       " Document(page_content='“And the identification,” I said, “of the reasoner’s intellect\\n      with that of his opponent, depends, if I understand you aright,'),\n",
       " Document(page_content='upon the accuracy with which the opponent’s intellect is\\n      admeasured.”'),\n",
       " Document(page_content='“For its practical value it depends upon this,” replied Dupin;\\n      “and the Prefect and his cohort fail so frequently, first, by'),\n",
       " Document(page_content='default of this identification, and, secondly, by\\n      ill-admeasurement, or rather through non-admeasurement, of the'),\n",
       " Document(page_content='intellect with which they are engaged. They consider only their\\n      own ideas of ingenuity; and, in searching for anything hidden,'),\n",
       " Document(page_content='advert only to the modes in which they would have hidden it. They\\n      are right in this much—that their own ingenuity is a faithful'),\n",
       " Document(page_content='representative of that of the mass; but when the cunning of the\\n      individual felon is diverse in character from their own, the'),\n",
       " Document(page_content='felon foils them, of course. This always happens when it is above\\n      their own, and very usually when it is below. They have no'),\n",
       " Document(page_content='variation of principle in their investigations; at best, when\\n      urged by some unusual emergency—by some extraordinary reward—they'),\n",
       " Document(page_content='extend or exaggerate their old modes of practice, without\\n      touching their principles. What, for example, in this case of'),\n",
       " Document(page_content='D——, has been done to vary the principle of action? What is all\\n      this boring, and probing, and sounding, and scrutinizing with the'),\n",
       " Document(page_content='microscope and dividing the surface of the building into\\n      registered square inches—what is it all but an exaggeration of'),\n",
       " Document(page_content='the application of the one principle or set of principles of\\n      search, which are based upon the one set of notions regarding'),\n",
       " Document(page_content='human ingenuity, to which the Prefect, in the long routine of his\\n      duty, has been accustomed? Do you not see he has taken it for'),\n",
       " Document(page_content='granted that all men proceed to conceal a letter,—not exactly in\\n      a gimlet hole bored in a chair-leg—but, at least, in some'),\n",
       " Document(page_content='out-of-the-way hole or corner suggested by the same tenor of\\n      thought which would urge a man to secrete a letter in a'),\n",
       " Document(page_content='gimlet-hole bored in a chair-leg? And do you not see also, that\\n      such recherchés nooks for concealment are adapted only for'),\n",
       " Document(page_content='ordinary occasions, and would be adopted only by ordinary\\n      intellects; for, in all cases of concealment, a disposal of the'),\n",
       " Document(page_content='article concealed—a disposal of it in this recherché manner,—is,\\n      in the very first instance, presumable and presumed; and thus its'),\n",
       " Document(page_content='discovery depends, not at all upon the acumen, but altogether\\n      upon the mere care, patience, and determination of the seekers;'),\n",
       " Document(page_content='and where the case is of importance—or, what amounts to the same\\n      thing in the political eyes, when the reward is of magnitude,—the'),\n",
       " Document(page_content='qualities in question have never been known to fail. You will now\\n      understand what I meant in suggesting that, had the purloined'),\n",
       " Document(page_content='letter been hidden any where within the limits of the Prefect’s\\n      examination—in other words, had the principle of its concealment'),\n",
       " Document(page_content='been comprehended within the principles of the Prefect—its\\n      discovery would have been a matter altogether beyond question.'),\n",
       " Document(page_content='This functionary, however, has been thoroughly mystified; and the\\n      remote source of his defeat lies in the supposition that the'),\n",
       " Document(page_content='Minister is a fool, because he has acquired renown as a poet. All\\n      fools are poets; this the Prefect feels; and he is merely guilty'),\n",
       " Document(page_content='of a non distributio medii in thence inferring that all poets are\\n      fools.”'),\n",
       " Document(page_content='“But is this really the poet?” I asked. “There are two brothers,\\n      I know; and both have attained reputation in letters. The'),\n",
       " Document(page_content='Minister I believe has written learnedly on the Differential\\n      Calculus. He is a mathematician, and no poet.”'),\n",
       " Document(page_content='“You are mistaken; I know him well; he is both. As poet and\\n      mathematician, he would reason well; as mere mathematician, he'),\n",
       " Document(page_content='could not have reasoned at all, and thus would have been at the\\n      mercy of the Prefect.”'),\n",
       " Document(page_content='“You surprise me,” I said, “by these opinions, which have been\\n      contradicted by the voice of the world. You do not mean to set at'),\n",
       " Document(page_content='naught the well-digested idea of centuries. The mathematical\\n      reason has long been regarded as the reason par excellence.”'),\n",
       " Document(page_content='“‘Il y a à parièr,’” replied Dupin, quoting from Chamfort, “‘que\\n      toute idée publique, toute convention reçue est une sottise, car'),\n",
       " Document(page_content='elle a convenue au plus grand nombre.’ The mathematicians, I\\n      grant you, have done their best to promulgate the popular error'),\n",
       " Document(page_content='to which you allude, and which is none the less an error for its\\n      promulgation as truth. With an art worthy a better cause, for'),\n",
       " Document(page_content='example, they have insinuated the term ‘analysis’ into\\n      application to algebra. The French are the originators of this'),\n",
       " Document(page_content='particular deception; but if a term is of any importance—if words\\n      derive any value from applicability—then ‘analysis’ conveys'),\n",
       " Document(page_content='‘algebra’ about as much as, in Latin, ‘ambitus’ implies\\n      ‘ambition,’ ‘_religio_’ ‘religion,’ or ‘_homines honesti_’ a set'),\n",
       " Document(page_content='of _honorable_ men.”'),\n",
       " Document(page_content='“You have a quarrel on hand, I see,” said I, “with some of the\\n      algebraists of Paris; but proceed.”'),\n",
       " Document(page_content='“I dispute the availability, and thus the value, of that reason\\n      which is cultivated in any especial form other than the'),\n",
       " Document(page_content='abstractly logical. I dispute, in particular, the reason educed\\n      by mathematical study. The mathematics are the science of form'),\n",
       " Document(page_content='and quantity; mathematical reasoning is merely logic applied to\\n      observation upon form and quantity. The great error lies in'),\n",
       " Document(page_content='supposing that even the truths of what is called pure algebra,\\n      are abstract or general truths. And this error is so egregious'),\n",
       " Document(page_content='that I am confounded at the universality with which it has been\\n      received. Mathematical axioms are not axioms of general truth.'),\n",
       " Document(page_content='What is true of relation—of form and quantity—is often grossly\\n      false in regard to morals, for example. In this latter science it'),\n",
       " Document(page_content='is very usually untrue that the aggregated parts are equal to the\\n      whole. In chemistry also the axiom fails. In the consideration of'),\n",
       " Document(page_content='motive it fails; for two motives, each of a given value, have\\n      not, necessarily, a value when united, equal to the sum of their'),\n",
       " Document(page_content='values apart. There are numerous other mathematical truths which\\n      are only truths within the limits of relation. But the'),\n",
       " Document(page_content='mathematician argues, from his finite truths, through habit, as\\n      if they were of an absolutely general applicability—as the world'),\n",
       " Document(page_content='indeed imagines them to be. Bryant, in his very learned\\n      ‘Mythology,’ mentions an analogous source of error, when he says'),\n",
       " Document(page_content='that ‘although the Pagan fables are not believed, yet we forget\\n      ourselves continually, and make inferences from them as existing'),\n",
       " Document(page_content='realities.’ With the algebraists, however, who are Pagans\\n      themselves, the ‘Pagan fables’ are believed, and the inferences'),\n",
       " Document(page_content='are made, not so much through lapse of memory, as through an\\n      unaccountable addling of the brains. In short, I never yet'),\n",
       " Document(page_content='encountered the mere mathematician who could be trusted out of\\n      equal roots, or one who did not clandestinely hold it as a point'),\n",
       " Document(page_content='of his faith that x2+px was absolutely and unconditionally equal\\n      to q. Say to one of these gentlemen, by way of experiment, if you'),\n",
       " Document(page_content='please, that you believe occasions may occur where x2+px is not\\n      altogether equal to q, and, having made him understand what you'),\n",
       " Document(page_content='mean, get out of his reach as speedily as convenient, for, beyond\\n      doubt, he will endeavor to knock you down.'),\n",
       " Document(page_content='“I mean to say,” continued Dupin, while I merely laughed at his\\n      last observations, “that if the Minister had been no more than a'),\n",
       " Document(page_content='mathematician, the Prefect would have been under no necessity of\\n      giving me this check. I know him, however, as both mathematician'),\n",
       " Document(page_content='and poet, and my measures were adapted to his capacity, with\\n      reference to the circumstances by which he was surrounded. I knew'),\n",
       " Document(page_content='him as a courtier, too, and as a bold intriguant. Such a man, I\\n      considered, could not fail to be aware of the ordinary policial'),\n",
       " Document(page_content='modes of action. He could not have failed to anticipate—and\\n      events have proved that he did not fail to anticipate—the'),\n",
       " Document(page_content='waylayings to which he was subjected. He must have foreseen, I\\n      reflected, the secret investigations of his premises. His'),\n",
       " Document(page_content='frequent absences from home at night, which were hailed by the\\n      Prefect as certain aids to his success, I regarded only as ruses,'),\n",
       " Document(page_content='to afford opportunity for thorough search to the police, and thus\\n      the sooner to impress them with the conviction to which G——, in'),\n",
       " Document(page_content='fact, did finally arrive—the conviction that the letter was not\\n      upon the premises. I felt, also, that the whole train of thought,'),\n",
       " Document(page_content='which I was at some pains in detailing to you just now,\\n      concerning the invariable principle of policial action in'),\n",
       " Document(page_content='searches for articles concealed—I felt that this whole train of\\n      thought would necessarily pass through the mind of the Minister.'),\n",
       " Document(page_content='It would imperatively lead him to despise all the ordinary nooks\\n      of concealment. He could not, I reflected, be so weak as not to'),\n",
       " Document(page_content='see that the most intricate and remote recess of his hotel would\\n      be as open as his commonest closets to the eyes, to the probes,'),\n",
       " Document(page_content='to the gimlets, and to the microscopes of the Prefect. I saw, in\\n      fine, that he would be driven, as a matter of course, to'),\n",
       " Document(page_content='simplicity, if not deliberately induced to it as a matter of\\n      choice. You will remember, perhaps, how desperately the Prefect'),\n",
       " Document(page_content='laughed when I suggested, upon our first interview, that it was\\n      just possible this mystery troubled him so much on account of its'),\n",
       " Document(page_content='being so very self-evident.”'),\n",
       " Document(page_content='“Yes,” said I, “I remember his merriment well. I really thought\\n      he would have fallen into convulsions.”'),\n",
       " Document(page_content='“The material world,” continued Dupin, “abounds with very strict\\n      analogies to the immaterial; and thus some color of truth has'),\n",
       " Document(page_content='been given to the rhetorical dogma, that metaphor, or simile, may\\n      be made to strengthen an argument, as well as to embellish a'),\n",
       " Document(page_content='description. The principle of the vis inertiæ, for example, seems\\n      to be identical in physics and metaphysics. It is not more true'),\n",
       " Document(page_content='in the former, that a large body is with more difficulty set in\\n      motion than a smaller one, and that its subsequent momentum is'),\n",
       " Document(page_content='commensurate with this difficulty, than it is, in the latter,\\n      that intellects of the vaster capacity, while more forcible, more'),\n",
       " Document(page_content='constant, and more eventful in their movements than those of\\n      inferior grade, are yet the less readily moved, and more'),\n",
       " Document(page_content='embarrassed and full of hesitation in the first few steps of\\n      their progress. Again: have you ever noticed which of the street'),\n",
       " Document(page_content='signs, over the shop-doors, are the most attractive of\\n      attention?”'),\n",
       " Document(page_content='“I have never given the matter a thought,” I said.'),\n",
       " Document(page_content='“There is a game of puzzles,” he resumed, “which is played upon a\\n      map. One party playing requires another to find a given word—the'),\n",
       " Document(page_content='name of town, river, state or empire—any word, in short, upon the\\n      motley and perplexed surface of the chart. A novice in the game'),\n",
       " Document(page_content='generally seeks to embarrass his opponents by giving them the\\n      most minutely lettered names; but the adept selects such words as'),\n",
       " Document(page_content='stretch, in large characters, from one end of the chart to the\\n      other. These, like the over-largely lettered signs and placards'),\n",
       " Document(page_content='of the street, escape observation by dint of being excessively\\n      obvious; and here the physical oversight is precisely analogous'),\n",
       " Document(page_content='with the moral inapprehension by which the intellect suffers to\\n      pass unnoticed those considerations which are too obtrusively and'),\n",
       " Document(page_content='too palpably self-evident. But this is a point, it appears,\\n      somewhat above or beneath the understanding of the Prefect. He'),\n",
       " Document(page_content='never once thought it probable, or possible, that the Minister\\n      had deposited the letter immediately beneath the nose of the'),\n",
       " Document(page_content='whole world, by way of best preventing any portion of that world\\n      from perceiving it.'),\n",
       " Document(page_content='“But the more I reflected upon the daring, dashing, and\\n      discriminating ingenuity of D——; upon the fact that the document'),\n",
       " Document(page_content='must always have been at hand, if he intended to use it to good\\n      purpose; and upon the decisive evidence, obtained by the Prefect,'),\n",
       " Document(page_content='that it was not hidden within the limits of that dignitary’s\\n      ordinary search—the more satisfied I became that, to conceal this'),\n",
       " Document(page_content='letter, the Minister had resorted to the comprehensive and\\n      sagacious expedient of not attempting to conceal it at all.'),\n",
       " Document(page_content='“Full of these ideas, I prepared myself with a pair of green\\n      spectacles, and called one fine morning, quite by accident, at'),\n",
       " Document(page_content='the Ministerial hotel. I found D—— at home, yawning, lounging,\\n      and dawdling, as usual, and pretending to be in the last'),\n",
       " Document(page_content='extremity of ennui. He is, perhaps, the most really energetic\\n      human being now alive—but that is only when nobody sees him.'),\n",
       " Document(page_content='“To be even with him, I complained of my weak eyes, and lamented\\n      the necessity of the spectacles, under cover of which I'),\n",
       " Document(page_content='cautiously and thoroughly surveyed the whole apartment, while\\n      seemingly intent only upon the conversation of my host.'),\n",
       " Document(page_content='“I paid especial attention to a large writing-table near which he\\n      sat, and upon which lay confusedly, some miscellaneous letters'),\n",
       " Document(page_content='and other papers, with one or two musical instruments and a few\\n      books. Here, however, after a long and very deliberate scrutiny,'),\n",
       " Document(page_content='I saw nothing to excite particular suspicion.'),\n",
       " Document(page_content='“At length my eyes, in going the circuit of the room, fell upon a\\n      trumpery fillagree card-rack of pasteboard, that hung dangling by'),\n",
       " Document(page_content='a dirty blue ribbon, from a little brass knob just beneath the\\n      middle of the mantel-piece. In this rack, which had three or four'),\n",
       " Document(page_content='compartments, were five or six visiting cards and a solitary\\n      letter. This last was much soiled and crumpled. It was torn'),\n",
       " Document(page_content='nearly in two, across the middle—as if a design, in the first\\n      instance, to tear it entirely up as worthless, had been altered,'),\n",
       " Document(page_content='or stayed, in the second. It had a large black seal, bearing the\\n      D—— cipher _very_ conspicuously, and was addressed, in a'),\n",
       " Document(page_content='diminutive female hand, to D——, the minister, himself. It was\\n      thrust carelessly, and even, as it seemed, contemptuously, into'),\n",
       " Document(page_content='one of the uppermost divisions of the rack.'),\n",
       " Document(page_content='“No sooner had I glanced at this letter, than I concluded it to\\n      be that of which I was in search. To be sure, it was, to all'),\n",
       " Document(page_content='appearance, radically different from the one of which the Prefect\\n      had read us so minute a description. Here the seal was large and'),\n",
       " Document(page_content='black, with the D—— cipher; there it was small and red, with the\\n      ducal arms of the S—— family. Here, the address, to the Minister,'),\n",
       " Document(page_content='diminutive and feminine; there the superscription, to a certain\\n      royal personage, was markedly bold and decided; the size alone'),\n",
       " Document(page_content='formed a point of correspondence. But, then, the radicalness of\\n      these differences, which was excessive; the dirt; the soiled and'),\n",
       " Document(page_content='torn condition of the paper, so inconsistent with the true\\n      methodical habits of D——, and so suggestive of a design to delude'),\n",
       " Document(page_content='the beholder into an idea of the worthlessness of the\\n      document—these things, together with the hyper-obtrusive'),\n",
       " Document(page_content='situation of this document, full in the view of every visitor,\\n      and thus exactly in accordance with the conclusions to which I'),\n",
       " Document(page_content='had previously arrived; these things, I say, were strongly\\n      corroborative of suspicion, in one who came with the intention to'),\n",
       " Document(page_content='suspect.'),\n",
       " Document(page_content='“I protracted my visit as long as possible, and, while I\\n      maintained a most animated discussion with the Minister upon a'),\n",
       " Document(page_content='topic which I knew well had never failed to interest and excite\\n      him, I kept my attention really riveted upon the letter. In this'),\n",
       " Document(page_content='examination, I committed to memory its external appearance and\\n      arrangement in the rack; and also fell, at length, upon a'),\n",
       " Document(page_content='discovery which set at rest whatever trivial doubt I might have\\n      entertained. In scrutinizing the edges of the paper, I observed'),\n",
       " Document(page_content='them to be more chafed than seemed necessary. They presented the\\n      broken appearance which is manifested when a stiff paper, having'),\n",
       " Document(page_content='been once folded and pressed with a folder, is refolded in a\\n      reversed direction, in the same creases or edges which had formed'),\n",
       " Document(page_content='the original fold. This discovery was sufficient. It was clear to\\n      me that the letter had been turned, as a glove, inside out,'),\n",
       " Document(page_content='re-directed, and re-sealed. I bade the Minister good morning, and\\n      took my departure at once, leaving a gold snuff-box upon the'),\n",
       " Document(page_content='table.'),\n",
       " Document(page_content='“The next morning I called for the snuff-box, when we resumed,\\n      quite eagerly, the conversation of the preceding day. While thus'),\n",
       " Document(page_content='engaged, however, a loud report, as if of a pistol, was heard\\n      immediately beneath the windows of the hotel, and was succeeded'),\n",
       " Document(page_content='by a series of fearful screams, and the shoutings of a terrified\\n      mob. D—— rushed to a casement, threw it open, and looked out. In'),\n",
       " Document(page_content='the meantime, I stepped to the card-rack, took the letter, put it\\n      in my pocket, and replaced it by a fac-simile, (so far as regards'),\n",
       " Document(page_content='externals,) which I had carefully prepared at my\\n      lodgings—imitating the D—— cipher, very readily, by means of a'),\n",
       " Document(page_content='seal formed of bread.'),\n",
       " Document(page_content='“The disturbance in the street had been occasioned by the frantic\\n      behavior of a man with a musket. He had fired it among a crowd of'),\n",
       " Document(page_content='women and children. It proved, however, to have been without\\n      ball, and the fellow was suffered to go his way as a lunatic or a'),\n",
       " Document(page_content='drunkard. When he had gone, D—— came from the window, whither I\\n      had followed him immediately upon securing the object in view.'),\n",
       " Document(page_content='Soon afterwards I bade him farewell. The pretended lunatic was a\\n      man in my own pay.”'),\n",
       " Document(page_content='“But what purpose had you,” I asked, “in replacing the letter by\\n      a fac-simile? Would it not have been better, at the first visit,'),\n",
       " Document(page_content='to have seized it openly, and departed?”'),\n",
       " Document(page_content='“D——,” replied Dupin, “is a desperate man, and a man of nerve.\\n      His hotel, too, is not without attendants devoted to his'),\n",
       " Document(page_content='interests. Had I made the wild attempt you suggest, I might never\\n      have left the Ministerial presence alive. The good people of'),\n",
       " Document(page_content='Paris might have heard of me no more. But I had an object apart\\n      from these considerations. You know my political prepossessions.'),\n",
       " Document(page_content='In this matter, I act as a partisan of the lady concerned. For\\n      eighteen months the Minister has had her in his power. She has'),\n",
       " Document(page_content='now him in hers—since, being unaware that the letter is not in\\n      his possession, he will proceed with his exactions as if it was.'),\n",
       " Document(page_content='Thus will he inevitably commit himself, at once, to his political\\n      destruction. His downfall, too, will not be more precipitate than'),\n",
       " Document(page_content='awkward. It is all very well to talk about the facilis descensus\\n      Averni; but in all kinds of climbing, as Catalani said of'),\n",
       " Document(page_content='singing, it is far more easy to get up than to come down. In the\\n      present instance I have no sympathy—at least no pity—for him who'),\n",
       " Document(page_content='descends. He is that monstrum horrendum, an unprincipled man of\\n      genius. I confess, however, that I should like very well to know'),\n",
       " Document(page_content='the precise character of his thoughts, when, being defied by her\\n      whom the Prefect terms ‘a certain personage’ he is reduced to'),\n",
       " Document(page_content='opening the letter which I left for him in the card-rack.”'),\n",
       " Document(page_content='“How? did you put any thing particular in it?”'),\n",
       " Document(page_content='“Why—it did not seem altogether right to leave the interior\\n      blank—that would have been insulting. D——, at Vienna once, did me'),\n",
       " Document(page_content='an evil turn, which I told him, quite good-humoredly, that I\\n      should remember. So, as I knew he would feel some curiosity in'),\n",
       " Document(page_content='regard to the identity of the person who had outwitted him, I\\n      thought it a pity not to give him a clue. He is well acquainted'),\n",
       " Document(page_content='with my MS., and I just copied into the middle of the blank sheet\\n      the words—'),\n",
       " Document(page_content='“‘— — Un dessein si funeste,\\n      S’il n’est digne d’Atrée, est digne de Thyeste.\\n\\n      They are to be found in Crébillon’s ‘Atrée.’”'),\n",
       " Document(page_content='THE THOUSAND-AND-SECOND TALE OF SCHEHERAZADE\\n\\n\\nTruth is stranger than fiction.—_Old Saying_'),\n",
       " Document(page_content='Having had occasion, lately, in the course of some Oriental\\n      investigations, to consult the Tellmenow Isitsöornot, a work'),\n",
       " Document(page_content='which (like the Zohar of Simeon Jochaides) is scarcely known at\\n      all, even in Europe; and which has never been quoted, to my'),\n",
       " Document(page_content='knowledge, by any American—if we except, perhaps, the author of\\n      the “Curiosities of American Literature”;—having had occasion, I'),\n",
       " Document(page_content='say, to turn over some pages of the first-mentioned very\\n      remarkable work, I was not a little astonished to discover that'),\n",
       " Document(page_content='the literary world has hitherto been strangely in error\\n      respecting the fate of the vizier’s daughter, Scheherazade, as'),\n",
       " Document(page_content='that fate is depicted in the “Arabian Nights”; and that the\\n      _dénouement_ there given, if not altogether inaccurate, as far as'),\n",
       " Document(page_content='it goes, is at least to blame in not having gone very much\\n      farther.'),\n",
       " Document(page_content='For full information on this interesting topic, I must refer the\\n      inquisitive reader to the “Isitsöornot” itself; but in the'),\n",
       " Document(page_content='meantime, I shall be pardoned for giving a summary of what I\\n      there discovered.'),\n",
       " Document(page_content='It will be remembered, that, in the usual version of the tales, a\\n      certain monarch having good cause to be jealous of his queen, not'),\n",
       " Document(page_content='only puts her to death, but makes a vow, by his beard and the\\n      prophet, to espouse each night the most beautiful maiden in his'),\n",
       " Document(page_content='dominions, and the next morning to deliver her up to the\\n      executioner.'),\n",
       " Document(page_content='Having fulfilled this vow for many years to the letter, and with\\n      a religious punctuality and method that conferred great credit'),\n",
       " Document(page_content='upon him as a man of devout feeling and excellent sense, he was\\n      interrupted one afternoon (no doubt at his prayers) by a visit'),\n",
       " Document(page_content='from his grand vizier, to whose daughter, it appears, there had\\n      occurred an idea.'),\n",
       " Document(page_content='Her name was Scheherazade, and her idea was, that she would\\n      either redeem the land from the depopulating tax upon its beauty,'),\n",
       " Document(page_content='or perish, after the approved fashion of all heroines, in the\\n      attempt.'),\n",
       " Document(page_content='Accordingly, and although we do not find it to be leap-year\\n      (which makes the sacrifice more meritorious), she deputes her'),\n",
       " Document(page_content='father, the grand vizier, to make an offer to the king of her\\n      hand. This hand the king eagerly accepts—(he had intended to take'),\n",
       " Document(page_content='it at all events, and had put off the matter from day to day,\\n      only through fear of the vizier),—but, in accepting it now, he'),\n",
       " Document(page_content='gives all parties very distinctly to understand, that, grand\\n      vizier or no grand vizier, he has not the slightest design of'),\n",
       " Document(page_content='giving up one iota of his vow or of his privileges. When,\\n      therefore, the fair Scheherazade insisted upon marrying the king,'),\n",
       " Document(page_content='and did actually marry him despite her father’s excellent advice\\n      not to do any thing of the kind—when she would and did marry him,'),\n",
       " Document(page_content='I say, will I, nill I, it was with her beautiful black eyes as\\n      thoroughly open as the nature of the case would allow.'),\n",
       " Document(page_content='It seems, however, that this politic damsel (who had been reading\\n      Machiavelli, beyond doubt), had a very ingenious little plot in'),\n",
       " Document(page_content='her mind. On the night of the wedding, she contrived, upon I\\n      forget what specious pretence, to have her sister occupy a couch'),\n",
       " Document(page_content='sufficiently near that of the royal pair to admit of easy\\n      conversation from bed to bed; and, a little before cock-crowing,'),\n",
       " Document(page_content='she took care to awaken the good monarch, her husband (who bore\\n      her none the worse will because he intended to wring her neck on'),\n",
       " Document(page_content='the morrow),—she managed to awaken him, I say, (although on\\n      account of a capital conscience and an easy digestion, he slept'),\n",
       " Document(page_content='well) by the profound interest of a story (about a rat and a\\n      black cat, I think) which she was narrating (all in an undertone,'),\n",
       " Document(page_content='of course) to her sister. When the day broke, it so happened that\\n      this history was not altogether finished, and that Scheherazade,'),\n",
       " Document(page_content='in the nature of things could not finish it just then, since it\\n      was high time for her to get up and be bowstrung—a thing very'),\n",
       " Document(page_content='little more pleasant than hanging, only a trifle more genteel!'),\n",
       " Document(page_content='The king’s curiosity, however, prevailing, I am sorry to say,\\n      even over his sound religious principles, induced him for this'),\n",
       " Document(page_content='once to postpone the fulfilment of his vow until next morning,\\n      for the purpose and with the hope of hearing that night how it'),\n",
       " Document(page_content='fared in the end with the black cat (a black cat, I think it was)\\n      and the rat.'),\n",
       " Document(page_content='The night having arrived, however, the lady Scheherazade not only\\n      put the finishing stroke to the black cat and the rat (the rat'),\n",
       " Document(page_content='was blue) but before she well knew what she was about, found\\n      herself deep in the intricacies of a narration, having reference'),\n",
       " Document(page_content='(if I am not altogether mistaken) to a pink horse (with green\\n      wings) that went, in a violent manner, by clockwork, and was'),\n",
       " Document(page_content='wound up with an indigo key. With this history the king was even\\n      more profoundly interested than with the other—and, as the day'),\n",
       " Document(page_content='broke before its conclusion (notwithstanding all the queen’s\\n      endeavors to get through with it in time for the bowstringing),'),\n",
       " Document(page_content='there was again no resource but to postpone that ceremony as\\n      before, for twenty-four hours. The next night there happened a'),\n",
       " Document(page_content='similar accident with a similar result; and then the next—and\\n      then again the next; so that, in the end, the good monarch,'),\n",
       " Document(page_content='having been unavoidably deprived of all opportunity to keep his\\n      vow during a period of no less than one thousand and one nights,'),\n",
       " Document(page_content='either forgets it altogether by the expiration of this time, or\\n      gets himself absolved of it in the regular way, or (what is more'),\n",
       " Document(page_content='probable) breaks it outright, as well as the head of his father\\n      confessor. At all events, Scheherazade, who, being lineally'),\n",
       " Document(page_content='descended from Eve, fell heir, perhaps, to the whole seven\\n      baskets of talk, which the latter lady, we all know, picked up'),\n",
       " Document(page_content='from under the trees in the garden of Eden; Scheherazade, I say,\\n      finally triumphed, and the tariff upon beauty was repealed.'),\n",
       " Document(page_content='Now, this conclusion (which is that of the story as we have it\\n      upon record) is, no doubt, excessively proper and pleasant—but'),\n",
       " Document(page_content='alas! like a great many pleasant things, is more pleasant than\\n      true, and I am indebted altogether to the “Isitsöornot” for the'),\n",
       " Document(page_content='means of correcting the error. “Le mieux,” says a French proverb,\\n      “est l’ennemi du bien,” and, in mentioning that Scheherazade had'),\n",
       " Document(page_content='inherited the seven baskets of talk, I should have added that she\\n      put them out at compound interest until they amounted to'),\n",
       " Document(page_content='seventy-seven.'),\n",
       " Document(page_content='“My dear sister,” said she, on the thousand-and-second night, (I\\n      quote the language of the “Isitsöornot” at this point, verbatim)'),\n",
       " Document(page_content='“my dear sister,” said she, “now that all this little difficulty\\n      about the bowstring has blown over, and that this odious tax is'),\n",
       " Document(page_content='so happily repealed, I feel that I have been guilty of great\\n      indiscretion in withholding from you and the king (who I am sorry'),\n",
       " Document(page_content='to say, snores—a thing no gentleman would do) the full conclusion\\n      of Sinbad the sailor. This person went through numerous other and'),\n",
       " Document(page_content='more interesting adventures than those which I related; but the\\n      truth is, I felt sleepy on the particular night of their'),\n",
       " Document(page_content='narration, and so was seduced into cutting them short—a grievous\\n      piece of misconduct, for which I only trust that Allah will'),\n",
       " Document(page_content='forgive me. But even yet it is not too late to remedy my great\\n      neglect—and as soon as I have given the king a pinch or two in'),\n",
       " Document(page_content='order to wake him up so far that he may stop making that horrible\\n      noise, I will forthwith entertain you (and him if he pleases)'),\n",
       " Document(page_content='with the sequel of this very remarkable story.”'),\n",
       " Document(page_content='Hereupon the sister of Scheherazade, as I have it from the\\n      “Isitsöornot,” expressed no very particular intensity of'),\n",
       " Document(page_content='gratification; but the king, having been sufficiently pinched, at\\n      length ceased snoring, and finally said, “Hum!” and then “Hoo!”'),\n",
       " Document(page_content='when the queen, understanding these words (which are no doubt\\n      Arabic) to signify that he was all attention, and would do his'),\n",
       " Document(page_content='best not to snore any more—the queen, I say, having arranged\\n      these matters to her satisfaction, re-entered thus, at once, into'),\n",
       " Document(page_content='the history of Sinbad the sailor:'),\n",
       " Document(page_content='“‘At length, in my old age,’ [these are the words of Sinbad\\n      himself, as retailed by Scheherazade]—‘at length, in my old age,'),\n",
       " Document(page_content='and after enjoying many years of tranquillity at home, I became\\n      once more possessed of a desire of visiting foreign countries;'),\n",
       " Document(page_content='and one day, without acquainting any of my family with my design,\\n      I packed up some bundles of such merchandise as was most precious'),\n",
       " Document(page_content='and least bulky, and, engaging a porter to carry them, went with\\n      him down to the sea-shore, to await the arrival of any chance'),\n",
       " Document(page_content='vessel that might convey me out of the kingdom into some region\\n      which I had not as yet explored.'),\n",
       " Document(page_content='“‘Having deposited the packages upon the sands, we sat down\\n      beneath some trees, and looked out into the ocean in the hope of'),\n",
       " Document(page_content='perceiving a ship, but during several hours we saw none whatever.\\n      At length I fancied that I could hear a singular buzzing or'),\n",
       " Document(page_content='humming sound; and the porter, after listening awhile, declared\\n      that he also could distinguish it. Presently it grew louder, and'),\n",
       " Document(page_content='then still louder, so that we could have no doubt that the object\\n      which caused it was approaching us. At length, on the edge of the'),\n",
       " Document(page_content='horizon, we discovered a black speck, which rapidly increased in\\n      size until we made it out to be a vast monster, swimming with a'),\n",
       " Document(page_content='great part of its body above the surface of the sea. It came\\n      toward us with inconceivable swiftness, throwing up huge waves of'),\n",
       " Document(page_content='foam around its breast, and illuminating all that part of the sea\\n      through which it passed, with a long line of fire that extended'),\n",
       " Document(page_content='far off into the distance.'),\n",
       " Document(page_content='“‘As the thing drew near we saw it very distinctly. Its length\\n      was equal to that of three of the loftiest trees that grow, and'),\n",
       " Document(page_content='it was as wide as the great hall of audience in your palace, O\\n      most sublime and munificent of the Caliphs. Its body, which was'),\n",
       " Document(page_content='unlike that of ordinary fishes, was as solid as a rock, and of a\\n      jetty blackness throughout all that portion of it which floated'),\n",
       " Document(page_content='above the water, with the exception of a narrow blood-red streak\\n      that completely begirdled it. The belly, which floated beneath'),\n",
       " Document(page_content='the surface, and of which we could get only a glimpse now and\\n      then as the monster rose and fell with the billows, was entirely'),\n",
       " Document(page_content='covered with metallic scales, of a color like that of the moon in\\n      misty weather. The back was flat and nearly white, and from it'),\n",
       " Document(page_content='there extended upwards of six spines, about half the length of\\n      the whole body.'),\n",
       " Document(page_content='“‘This horrible creature had no mouth that we could perceive;\\n      but, as if to make up for this deficiency, it was provided with'),\n",
       " Document(page_content='at least four score of eyes, that protruded from their sockets\\n      like those of the green dragon-fly, and were arranged all around'),\n",
       " Document(page_content='the body in two rows, one above the other, and parallel to the\\n      blood-red streak, which seemed to answer the purpose of an'),\n",
       " Document(page_content='eyebrow. Two or three of these dreadful eyes were much larger\\n      than the others, and had the appearance of solid gold.'),\n",
       " Document(page_content='“‘Although this beast approached us, as I have before said, with\\n      the greatest rapidity, it must have been moved altogether by'),\n",
       " Document(page_content='necromancy—for it had neither fins like a fish nor web-feet like\\n      a duck, nor wings like the seashell which is blown along in the'),\n",
       " Document(page_content='manner of a vessel; nor yet did it writhe itself forward as do\\n      the eels. Its head and its tail were shaped precisely alike,'),\n",
       " Document(page_content='only, not far from the latter, were two small holes that served\\n      for nostrils, and through which the monster puffed out its thick'),\n",
       " Document(page_content='breath with prodigious violence, and with a shrieking,\\n      disagreeable noise.'),\n",
       " Document(page_content='“‘Our terror at beholding this hideous thing was very great, but\\n      it was even surpassed by our astonishment, when upon getting a'),\n",
       " Document(page_content='nearer look, we perceived upon the creature’s back a vast number\\n      of animals about the size and shape of men, and altogether much'),\n",
       " Document(page_content='resembling them, except that they wore no garments (as men do),\\n      being supplied (by nature, no doubt) with an ugly uncomfortable'),\n",
       " Document(page_content='covering, a good deal like cloth, but fitting so tight to the\\n      skin, as to render the poor wretches laughably awkward, and put'),\n",
       " Document(page_content='them apparently to severe pain. On the very tips of their heads\\n      were certain square-looking boxes, which, at first sight, I'),\n",
       " Document(page_content='thought might have been intended to answer as turbans, but I soon\\n      discovered that they were excessively heavy and solid, and I'),\n",
       " Document(page_content='therefore concluded they were contrivances designed, by their\\n      great weight, to keep the heads of the animals steady and safe'),\n",
       " Document(page_content='upon their shoulders. Around the necks of the creatures were\\n      fastened black collars, (badges of servitude, no doubt,) such as'),\n",
       " Document(page_content='we keep on our dogs, only much wider and infinitely stiffer, so\\n      that it was quite impossible for these poor victims to move their'),\n",
       " Document(page_content='heads in any direction without moving the body at the same time;\\n      and thus they were doomed to perpetual contemplation of their'),\n",
       " Document(page_content='noses—a view puggish and snubby in a wonderful, if not positively\\n      in an awful degree.'),\n",
       " Document(page_content='“‘When the monster had nearly reached the shore where we stood,\\n      it suddenly pushed out one of its eyes to a great extent, and'),\n",
       " Document(page_content='emitted from it a terrible flash of fire, accompanied by a dense\\n      cloud of smoke, and a noise that I can compare to nothing but'),\n",
       " Document(page_content='thunder. As the smoke cleared away, we saw one of the odd\\n      man-animals standing near the head of the large beast with a'),\n",
       " Document(page_content='trumpet in his hand, through which (putting it to his mouth) he\\n      presently addressed us in loud, harsh, and disagreeable accents,'),\n",
       " Document(page_content='that, perhaps, we should have mistaken for language, had they not\\n      come altogether through the nose.'),\n",
       " Document(page_content='“‘Being thus evidently spoken to, I was at a loss how to reply,\\n      as I could in no manner understand what was said; and in this'),\n",
       " Document(page_content='difficulty I turned to the porter, who was near swooning through\\n      affright, and demanded of him his opinion as to what species of'),\n",
       " Document(page_content='monster it was, what it wanted, and what kind of creatures those\\n      were that so swarmed upon its back. To this the porter replied,'),\n",
       " Document(page_content='as well as he could for trepidation, that he had once before\\n      heard of this sea-beast; that it was a cruel demon, with bowels'),\n",
       " Document(page_content='of sulphur and blood of fire, created by evil genii as the means\\n      of inflicting misery upon mankind; that the things upon its back'),\n",
       " Document(page_content='were vermin, such as sometimes infest cats and dogs, only a\\n      little larger and more savage; and that these vermin had their'),\n",
       " Document(page_content='uses, however evil—for, through the torture they caused the beast\\n      by their nibbling and stingings, it was goaded into that degree'),\n",
       " Document(page_content='of wrath which was requisite to make it roar and commit ill, and\\n      so fulfil the vengeful and malicious designs of the wicked genii.'),\n",
       " Document(page_content='“This account determined me to take to my heels, and, without\\n      once even looking behind me, I ran at full speed up into the'),\n",
       " Document(page_content='hills, while the porter ran equally fast, although nearly in an\\n      opposite direction, so that, by these means, he finally made his'),\n",
       " Document(page_content='escape with my bundles, of which I have no doubt he took\\n      excellent care—although this is a point I cannot determine, as I'),\n",
       " Document(page_content='do not remember that I ever beheld him again.'),\n",
       " Document(page_content='“‘For myself, I was so hotly pursued by a swarm of the men-vermin\\n      (who had come to the shore in boats) that I was very soon'),\n",
       " Document(page_content='overtaken, bound hand and foot, and conveyed to the beast, which\\n      immediately swam out again into the middle of the sea.'),\n",
       " Document(page_content='“‘I now bitterly repented my folly in quitting a comfortable home\\n      to peril my life in such adventures as this; but regret being'),\n",
       " Document(page_content='useless, I made the best of my condition, and exerted myself to\\n      secure the goodwill of the man-animal that owned the trumpet, and'),\n",
       " Document(page_content='who appeared to exercise authority over his fellows. I succeeded\\n      so well in this endeavor that, in a few days, the creature'),\n",
       " Document(page_content='bestowed upon me various tokens of his favor, and in the end even\\n      went to the trouble of teaching me the rudiments of what it was'),\n",
       " Document(page_content='vain enough to denominate its language; so that, at length, I was\\n      enabled to converse with it readily, and came to make it'),\n",
       " Document(page_content='comprehend the ardent desire I had of seeing the world.'),\n",
       " Document(page_content='“‘Washish squashish squeak, Sinbad, hey-diddle diddle, grunt unt\\n      grumble, hiss, fiss, whiss,’ said he to me, one day after'),\n",
       " Document(page_content='dinner—but I beg a thousand pardons, I had forgotten that your\\n      majesty is not conversant with the dialect of the Cock-neighs (so'),\n",
       " Document(page_content='the man-animals were called; I presume because their language\\n      formed the connecting link between that of the horse and that of'),\n",
       " Document(page_content='the rooster). With your permission, I will translate. ‘Washish\\n      squashish,’ and so forth:—that is to say, ‘I am happy to find, my'),\n",
       " Document(page_content='dear Sinbad, that you are really a very excellent fellow; we are\\n      now about doing a thing which is called circumnavigating the'),\n",
       " Document(page_content='globe; and since you are so desirous of seeing the world, I will\\n      strain a point and give you a free passage upon back of the'),\n",
       " Document(page_content='beast.’”'),\n",
       " Document(page_content='When the Lady Scheherazade had proceeded thus far, relates the\\n      “Isitsöornot,” the king turned over from his left side to his'),\n",
       " Document(page_content='right, and said:'),\n",
       " Document(page_content='“It is, in fact, very surprising, my dear queen, that you\\n      omitted, hitherto, these latter adventures of Sinbad. Do you know'),\n",
       " Document(page_content='I think them exceedingly entertaining and strange?”'),\n",
       " Document(page_content='The king having thus expressed himself, we are told, the fair\\n      Scheherazade resumed her history in the following words:'),\n",
       " Document(page_content='“Sinbad went on in this manner with his narrative—‘I thanked the\\n      man-animal for its kindness, and soon found myself very much at'),\n",
       " Document(page_content='home on the beast, which swam at a prodigious rate through the\\n      ocean; although the surface of the latter is, in that part of the'),\n",
       " Document(page_content='world, by no means flat, but round like a pomegranate, so that we\\n      went—so to say—either up hill or down hill all the time.’'),\n",
       " Document(page_content='“That I think, was very singular,” interrupted the king.\\n\\n      “Nevertheless, it is quite true,” replied Scheherazade.'),\n",
       " Document(page_content='“I have my doubts,” rejoined the king; “but, pray, be so good as\\n      to go on with the story.”'),\n",
       " Document(page_content='“I will,” said the queen. “‘The beast,’ continued Sinbad to the\\n      caliph, ‘swam, as I have related, up hill and down hill until, at'),\n",
       " Document(page_content='length, we arrived at an island, many hundreds of miles in\\n      circumference, but which, nevertheless, had been built in the'),\n",
       " Document(page_content='middle of the sea by a colony of little things like\\n      caterpillars.’” (*1)'),\n",
       " Document(page_content='“Hum!” said the king.'),\n",
       " Document(page_content='“‘Leaving this island,’ said Sinbad—(for Scheherazade, it must be\\n      understood, took no notice of her husband’s ill-mannered'),\n",
       " Document(page_content='ejaculation) ‘leaving this island, we came to another where the\\n      forests were of solid stone, and so hard that they shivered to'),\n",
       " Document(page_content='pieces the finest-tempered axes with which we endeavoured to cut\\n      them down.’” (*2)'),\n",
       " Document(page_content='“Hum!” said the king, again; but Scheherazade, paying him no\\n      attention, continued in the language of Sinbad.'),\n",
       " Document(page_content='“‘Passing beyond this last island, we reached a country where\\n      there was a cave that ran to the distance of thirty or forty'),\n",
       " Document(page_content='miles within the bowels of the earth, and that contained a\\n      greater number of far more spacious and more magnificent palaces'),\n",
       " Document(page_content='than are to be found in all Damascus and Bagdad. From the roofs\\n      of these palaces there hung myriads of gems, like diamonds, but'),\n",
       " Document(page_content='larger than men; and in among the streets of towers and pyramids\\n      and temples, there flowed immense rivers as black as ebony, and'),\n",
       " Document(page_content='swarming with fish that had no eyes.’” (*3)'),\n",
       " Document(page_content='“Hum!” said the king.'),\n",
       " Document(page_content='“‘We then swam into a region of the sea where we found a lofty\\n      mountain, down whose sides there streamed torrents of melted'),\n",
       " Document(page_content='metal, some of which were twelve miles wide and sixty miles long\\n      (*4); while from an abyss on the summit, issued so vast a'),\n",
       " Document(page_content='quantity of ashes that the sun was entirely blotted out from the\\n      heavens, and it became darker than the darkest midnight; so that'),\n",
       " Document(page_content='when we were even at the distance of a hundred and fifty miles\\n      from the mountain, it was impossible to see the whitest object,'),\n",
       " Document(page_content='however close we held it to our eyes.’” (*5)'),\n",
       " Document(page_content='“Hum!” said the king.'),\n",
       " Document(page_content='“‘After quitting this coast, the beast continued his voyage until\\n      we met with a land in which the nature of things seemed'),\n",
       " Document(page_content='reversed—for we here saw a great lake, at the bottom of which,\\n      more than a hundred feet beneath the surface of the water, there'),\n",
       " Document(page_content='flourished in full leaf a forest of tall and luxuriant trees.’”\\n      (*6)'),\n",
       " Document(page_content='“Hoo!” said the king.'),\n",
       " Document(page_content='“Some hundred miles farther on brought us to a climate where the\\n      atmosphere was so dense as to sustain iron or steel, just as our'),\n",
       " Document(page_content='own does feather.’” (*7)'),\n",
       " Document(page_content='“Fiddle de dee,” said the king.'),\n",
       " Document(page_content='“Proceeding still in the same direction, we presently arrived at\\n      the most magnificent region in the whole world. Through it there'),\n",
       " Document(page_content='meandered a glorious river for several thousands of miles. This\\n      river was of unspeakable depth, and of a transparency richer than'),\n",
       " Document(page_content='that of amber. It was from three to six miles in width; and its\\n      banks which arose on either side to twelve hundred feet in'),\n",
       " Document(page_content='perpendicular height, were crowned with ever-blossoming trees and\\n      perpetual sweet-scented flowers, that made the whole territory'),\n",
       " Document(page_content='one gorgeous garden; but the name of this luxuriant land was the\\n      Kingdom of Horror, and to enter it was inevitable death.’” (*8)'),\n",
       " Document(page_content='“Humph!” said the king.'),\n",
       " Document(page_content='“‘We left this kingdom in great haste, and, after some days, came\\n      to another, where we were astonished to perceive myriads of'),\n",
       " Document(page_content='monstrous animals with horns resembling scythes upon their heads.\\n      These hideous beasts dig for themselves vast caverns in the soil,'),\n",
       " Document(page_content='of a funnel shape, and line the sides of them with rocks, so\\n      disposed one upon the other that they fall instantly, when'),\n",
       " Document(page_content='trodden upon by other animals, thus precipitating them into the\\n      monster’s dens, where their blood is immediately sucked, and'),\n",
       " Document(page_content='their carcasses afterwards hurled contemptuously out to an\\n      immense distance from “the caverns of death.\"’” (*9)'),\n",
       " Document(page_content='“Pooh!” said the king.'),\n",
       " Document(page_content='“‘Continuing our progress, we perceived a district with\\n      vegetables that grew not upon any soil but in the air. (*10)'),\n",
       " Document(page_content='There were others that sprang from the substance of other\\n      vegetables; (*11) others that derived their substance from the'),\n",
       " Document(page_content='bodies of living animals; (*12) and then again, there were others\\n      that glowed all over with intense fire; (*13) others that moved'),\n",
       " Document(page_content='from place to place at pleasure, (*14) and what was still more\\n      wonderful, we discovered flowers that lived and breathed and'),\n",
       " Document(page_content='moved their limbs at will and had, moreover, the detestable\\n      passion of mankind for enslaving other creatures, and confining'),\n",
       " Document(page_content='them in horrid and solitary prisons until the fulfillment of\\n      appointed tasks.’” (*15)'),\n",
       " Document(page_content='“Pshaw!” said the king.'),\n",
       " Document(page_content='“‘Quitting this land, we soon arrived at another in which the\\n      bees and the birds are mathematicians of such genius and'),\n",
       " Document(page_content='erudition, that they give daily instructions in the science of\\n      geometry to the wise men of the empire. The king of the place'),\n",
       " Document(page_content='having offered a reward for the solution of two very difficult\\n      problems, they were solved upon the spot—the one by the bees, and'),\n",
       " Document(page_content='the other by the birds; but the king keeping their solution a\\n      secret, it was only after the most profound researches and labor,'),\n",
       " Document(page_content='and the writing of an infinity of big books, during a long series\\n      of years, that the men-mathematicians at length arrived at the'),\n",
       " Document(page_content='identical solutions which had been given upon the spot by the\\n      bees and by the birds.’” (*16)'),\n",
       " Document(page_content='“Oh my!” said the king.'),\n",
       " Document(page_content='“‘We had scarcely lost sight of this empire when we found\\n      ourselves close upon another, from whose shores there flew over'),\n",
       " Document(page_content='our heads a flock of fowls a mile in breadth, and two hundred and\\n      forty miles long; so that, although they flew a mile during every'),\n",
       " Document(page_content='minute, it required no less than four hours for the whole flock\\n      to pass over us—in which there were several millions of millions'),\n",
       " Document(page_content='of fowl.’” (*17)'),\n",
       " Document(page_content='“Oh fy!” said the king.'),\n",
       " Document(page_content='“‘No sooner had we got rid of these birds, which occasioned us\\n      great annoyance, than we were terrified by the appearance of a'),\n",
       " Document(page_content='fowl of another kind, and infinitely larger than even the rocs\\n      which I met in my former voyages; for it was bigger than the'),\n",
       " Document(page_content='biggest of the domes on your seraglio, oh, most Munificent of\\n      Caliphs. This terrible fowl had no head that we could perceive,'),\n",
       " Document(page_content='but was fashioned entirely of belly, which was of a prodigious\\n      fatness and roundness, of a soft-looking substance, smooth,'),\n",
       " Document(page_content='shining and striped with various colors. In its talons, the\\n      monster was bearing away to his eyrie in the heavens, a house'),\n",
       " Document(page_content='from which it had knocked off the roof, and in the interior of\\n      which we distinctly saw human beings, who, beyond doubt, were in'),\n",
       " Document(page_content='a state of frightful despair at the horrible fate which awaited\\n      them. We shouted with all our might, in the hope of frightening'),\n",
       " Document(page_content='the bird into letting go of its prey, but it merely gave a snort\\n      or puff, as if of rage and then let fall upon our heads a heavy'),\n",
       " Document(page_content='sack which proved to be filled with sand!’”'),\n",
       " Document(page_content='“Stuff!” said the king.'),\n",
       " Document(page_content='“‘It was just after this adventure that we encountered a\\n      continent of immense extent and prodigious solidity, but which,'),\n",
       " Document(page_content='nevertheless, was supported entirely upon the back of a sky-blue\\n      cow that had no fewer than four hundred horns.’” (*18)'),\n",
       " Document(page_content='“That, now, I believe,” said the king, “because I have read\\n      something of the kind before, in a book.”'),\n",
       " Document(page_content='“‘We passed immediately beneath this continent, (swimming in\\n      between the legs of the cow), and, after some hours, found'),\n",
       " Document(page_content='ourselves in a wonderful country indeed, which, I was informed by\\n      the man-animal, was his own native land, inhabited by things of'),\n",
       " Document(page_content='his own species. This elevated the man-animal very much in my\\n      esteem, and in fact, I now began to feel ashamed of the'),\n",
       " Document(page_content='contemptuous familiarity with which I had treated him; for I\\n      found that the man-animals in general were a nation of the most'),\n",
       " Document(page_content='powerful magicians, who lived with worms in their brain, (*19)\\n      which, no doubt, served to stimulate them by their painful'),\n",
       " Document(page_content='writhings and wrigglings to the most miraculous efforts of\\n      imagination!’”'),\n",
       " Document(page_content='“Nonsense!” said the king.'),\n",
       " Document(page_content='“‘Among the magicians, were domesticated several animals of very\\n      singular kinds; for example, there was a huge horse whose bones'),\n",
       " Document(page_content='were iron and whose blood was boiling water. In place of corn, he\\n      had black stones for his usual food; and yet, in spite of so hard'),\n",
       " Document(page_content='a diet, he was so strong and swift that he would drag a load more\\n      weighty than the grandest temple in this city, at a rate'),\n",
       " Document(page_content='surpassing that of the flight of most birds.’” (*20)'),\n",
       " Document(page_content='“Twattle!” said the king.'),\n",
       " Document(page_content='“‘I saw, also, among these people a hen without feathers, but\\n      bigger than a camel; instead of flesh and bone she had iron and'),\n",
       " Document(page_content='brick; her blood, like that of the horse, (to whom, in fact, she\\n      was nearly related,) was boiling water; and like him she ate'),\n",
       " Document(page_content='nothing but wood or black stones. This hen brought forth very\\n      frequently, a hundred chickens in the day; and, after birth, they'),\n",
       " Document(page_content='took up their residence for several weeks within the stomach of\\n      their mother.’” (*21)'),\n",
       " Document(page_content='“Fal lal!” said the king.'),\n",
       " Document(page_content='“‘One of this nation of mighty conjurors created a man out of\\n      brass and wood, and leather, and endowed him with such ingenuity'),\n",
       " Document(page_content='that he would have beaten at chess, all the race of mankind with\\n      the exception of the great Caliph, Haroun Alraschid. (*22)'),\n",
       " Document(page_content='Another of these magi constructed (of like material) a creature\\n      that put to shame even the genius of him who made it; for so'),\n",
       " Document(page_content='great were its reasoning powers that, in a second, it performed\\n      calculations of so vast an extent that they would have required'),\n",
       " Document(page_content='the united labor of fifty thousand fleshy men for a year. (*23)\\n      But a still more wonderful conjuror fashioned for himself a'),\n",
       " Document(page_content='mighty thing that was neither man nor beast, but which had brains\\n      of lead, intermixed with a black matter like pitch, and fingers'),\n",
       " Document(page_content='that it employed with such incredible speed and dexterity that it\\n      would have had no trouble in writing out twenty thousand copies'),\n",
       " Document(page_content='of the Koran in an hour, and this with so exquisite a precision,\\n      that in all the copies there should not be found one to vary from'),\n",
       " Document(page_content='another by the breadth of the finest hair. This thing was of\\n      prodigious strength, so that it erected or overthrew the'),\n",
       " Document(page_content='mightiest empires at a breath; but its powers were exercised\\n      equally for evil and for good.’”'),\n",
       " Document(page_content='“Ridiculous!” said the king.'),\n",
       " Document(page_content='“‘Among this nation of necromancers there was also one who had in\\n      his veins the blood of the salamanders; for he made no scruple of'),\n",
       " Document(page_content='sitting down to smoke his chibouc in a red-hot oven until his\\n      dinner was thoroughly roasted upon its floor. (*24) Another had'),\n",
       " Document(page_content='the faculty of converting the common metals into gold, without\\n      even looking at them during the process. (*25) Another had such a'),\n",
       " Document(page_content='delicacy of touch that he made a wire so fine as to be invisible.\\n      (*26) Another had such quickness of perception that he counted'),\n",
       " Document(page_content='all the separate motions of an elastic body, while it was\\n      springing backward and forward at the rate of nine hundred'),\n",
       " Document(page_content='millions of times in a second.’” (*27)'),\n",
       " Document(page_content='“Absurd!” said the king.'),\n",
       " Document(page_content='“‘Another of these magicians, by means of a fluid that nobody\\n      ever yet saw, could make the corpses of his friends brandish'),\n",
       " Document(page_content='their arms, kick out their legs, fight, or even get up and dance\\n      at his will. (*28) Another had cultivated his voice to so great'),\n",
       " Document(page_content='an extent that he could have made himself heard from one end of\\n      the world to the other. (*29) Another had so long an arm that he'),\n",
       " Document(page_content='could sit down in Damascus and indite a letter at Bagdad—or\\n      indeed at any distance whatsoever. (*30) Another commanded the'),\n",
       " Document(page_content='lightning to come down to him out of the heavens, and it came at\\n      his call; and served him for a plaything when it came. Another'),\n",
       " Document(page_content='took two loud sounds and out of them made a silence. Another\\n      constructed a deep darkness out of two brilliant lights. (*31)'),\n",
       " Document(page_content='Another made ice in a red-hot furnace. (*32) Another directed the\\n      sun to paint his portrait, and the sun did. (*33) Another took'),\n",
       " Document(page_content='this luminary with the moon and the planets, and having first\\n      weighed them with scrupulous accuracy, probed into their depths'),\n",
       " Document(page_content='and found out the solidity of the substance of which they were\\n      made. But the whole nation is, indeed, of so surprising a'),\n",
       " Document(page_content='necromantic ability, that not even their infants, nor their\\n      commonest cats and dogs have any difficulty in seeing objects'),\n",
       " Document(page_content='that do not exist at all, or that for twenty millions of years\\n      before the birth of the nation itself had been blotted out from'),\n",
       " Document(page_content='the face of creation.’” (*34)'),\n",
       " Document(page_content='“Preposterous!” said the king.'),\n",
       " Document(page_content='“‘The wives and daughters of these incomparably great and wise\\n      magi,’” continued Scheherazade, without being in any manner'),\n",
       " Document(page_content='disturbed by these frequent and most ungentlemanly interruptions\\n      on the part of her husband—“‘the wives and daughters of these'),\n",
       " Document(page_content='eminent conjurers are every thing that is accomplished and\\n      refined; and would be every thing that is interesting and'),\n",
       " Document(page_content='beautiful, but for an unhappy fatality that besets them, and from\\n      which not even the miraculous powers of their husbands and'),\n",
       " Document(page_content='fathers has, hitherto, been adequate to save. Some fatalities\\n      come in certain shapes, and some in others—but this of which I'),\n",
       " Document(page_content='speak has come in the shape of a crotchet.’”'),\n",
       " Document(page_content='“A what?” said the king.'),\n",
       " Document(page_content='“‘A crotchet’” said Scheherazade. “‘One of the evil genii, who\\n      are perpetually upon the watch to inflict ill, has put it into'),\n",
       " Document(page_content='the heads of these accomplished ladies that the thing which we\\n      describe as personal beauty consists altogether in the'),\n",
       " Document(page_content='protuberance of the region which lies not very far below the\\n      small of the back. Perfection of loveliness, they say, is in the'),\n",
       " Document(page_content='direct ratio of the extent of this lump. Having been long\\n      possessed of this idea, and bolsters being cheap in that country,'),\n",
       " Document(page_content='the days have long gone by since it was possible to distinguish a\\n      woman from a dromedary—’”'),\n",
       " Document(page_content='“Stop!” said the king—“I can’t stand that, and I won’t. You have\\n      already given me a dreadful headache with your lies. The day,'),\n",
       " Document(page_content='too, I perceive, is beginning to break. How long have we been\\n      married?—my conscience is getting to be troublesome again. And'),\n",
       " Document(page_content='then that dromedary touch—do you take me for a fool? Upon the\\n      whole, you might as well get up and be throttled.”'),\n",
       " Document(page_content='These words, as I learn from the “Isitsöornot,” both grieved and\\n      astonished Scheherazade; but, as she knew the king to be a man of'),\n",
       " Document(page_content='scrupulous integrity, and quite unlikely to forfeit his word, she\\n      submitted to her fate with a good grace. She derived, however,'),\n",
       " Document(page_content='great consolation, (during the tightening of the bowstring,) from\\n      the reflection that much of the history remained still untold,'),\n",
       " Document(page_content='and that the petulance of her brute of a husband had reaped for\\n      him a most righteous reward, in depriving him of many'),\n",
       " Document(page_content='inconceivable adventures.'),\n",
       " Document(page_content='A DESCENT INTO THE MAELSTROM.'),\n",
       " Document(page_content='The ways of God in Nature, as in Providence, are not as our ways; \\n  nor are the models that we frame any way commensurate to the'),\n",
       " Document(page_content='vastness, profundity, and unsearchableness of His works, _which have\\n  a depth in them greater than the well of Democritus_.'),\n",
       " Document(page_content='—_Joseph Glanville_.'),\n",
       " Document(page_content='We had now reached the summit of the loftiest crag. For some\\n      minutes the old man seemed too much exhausted to speak.'),\n",
       " Document(page_content='“Not long ago,” said he at length, “and I could have guided you\\n      on this route as well as the youngest of my sons; but, about'),\n",
       " Document(page_content='three years past, there happened to me an event such as never\\n      happened to mortal man—or at least such as no man ever survived'),\n",
       " Document(page_content='to tell of—and the six hours of deadly terror which I then\\n      endured have broken me up body and soul. You suppose me a _very_'),\n",
       " Document(page_content='old man—but I am not. It took less than a single day to change\\n      these hairs from a jetty black to white, to weaken my limbs, and'),\n",
       " Document(page_content='to unstring my nerves, so that I tremble at the least exertion,\\n      and am frightened at a shadow. Do you know I can scarcely look'),\n",
       " Document(page_content='over this little cliff without getting giddy?”'),\n",
       " Document(page_content='The “little cliff,” upon whose edge he had so carelessly thrown\\n      himself down to rest that the weightier portion of his body hung'),\n",
       " Document(page_content='over it, while he was only kept from falling by the tenure of his\\n      elbow on its extreme and slippery edge—this “little cliff” arose,'),\n",
       " Document(page_content='a sheer unobstructed precipice of black shining rock, some\\n      fifteen or sixteen hundred feet from the world of crags beneath'),\n",
       " Document(page_content='us. Nothing would have tempted me to within half a dozen yards of\\n      its brink. In truth so deeply was I excited by the perilous'),\n",
       " Document(page_content='position of my companion, that I fell at full length upon the\\n      ground, clung to the shrubs around me, and dared not even glance'),\n",
       " Document(page_content='upward at the sky—while I struggled in vain to divest myself of\\n      the idea that the very foundations of the mountain were in danger'),\n",
       " Document(page_content='from the fury of the winds. It was long before I could reason\\n      myself into sufficient courage to sit up and look out into the'),\n",
       " Document(page_content='distance.'),\n",
       " Document(page_content='“You must get over these fancies,” said the guide, “for I have\\n      brought you here that you might have the best possible view of'),\n",
       " Document(page_content='the scene of that event I mentioned—and to tell you the whole\\n      story with the spot just under your eye.”'),\n",
       " Document(page_content='“We are now,” he continued, in that particularizing manner which\\n      distinguished him—“we are now close upon the Norwegian coast—in'),\n",
       " Document(page_content='the sixty-eighth degree of latitude—in the great province of\\n      Nordland—and in the dreary district of Lofoden. The mountain upon'),\n",
       " Document(page_content='whose top we sit is Helseggen, the Cloudy. Now raise yourself up\\n      a little higher—hold on to the grass if you feel giddy—so—and'),\n",
       " Document(page_content='look out, beyond the belt of vapor beneath us, into the sea.”'),\n",
       " Document(page_content='I looked dizzily, and beheld a wide expanse of ocean, whose\\n      waters wore so inky a hue as to bring at once to my mind the'),\n",
       " Document(page_content='Nubian geographer’s account of the _Mare Tenebrarum_. A panorama\\n      more deplorably desolate no human imagination can conceive. To'),\n",
       " Document(page_content='the right and left, as far as the eye could reach, there lay\\n      outstretched, like ramparts of the world, lines of horridly black'),\n",
       " Document(page_content='and beetling cliff, whose character of gloom was but the more\\n      forcibly illustrated by the surf which reared high up against its'),\n",
       " Document(page_content='white and ghastly crest, howling and shrieking forever. Just\\n      opposite the promontory upon whose apex we were placed, and at a'),\n",
       " Document(page_content='distance of some five or six miles out at sea, there was visible\\n      a small, bleak-looking island; or, more properly, its position'),\n",
       " Document(page_content='was discernible through the wilderness of surge in which it was\\n      enveloped. About two miles nearer the land, arose another of'),\n",
       " Document(page_content='smaller size, hideously craggy and barren, and encompassed at\\n      various intervals by a cluster of dark rocks.'),\n",
       " Document(page_content='The appearance of the ocean, in the space between the more\\n      distant island and the shore, had something very unusual about'),\n",
       " Document(page_content='it. Although, at the time, so strong a gale was blowing landward\\n      that a brig in the remote offing lay to under a double-reefed'),\n",
       " Document(page_content='trysail, and constantly plunged her whole hull out of sight,\\n      still there was here nothing like a regular swell, but only a'),\n",
       " Document(page_content='short, quick, angry cross dashing of water in every direction—as\\n      well in the teeth of the wind as otherwise. Of foam there was'),\n",
       " Document(page_content='little except in the immediate vicinity of the rocks.'),\n",
       " Document(page_content='“The island in the distance,” resumed the old man, “is called by\\n      the Norwegians Vurrgh. The one midway is Moskoe. That a mile to'),\n",
       " Document(page_content='the northward is Ambaaren. Yonder are Islesen, Hotholm,\\n      Keildhelm, Suarven, and Buckholm. Farther off—between Moskoe and'),\n",
       " Document(page_content='Vurrgh—are Otterholm, Flimen, Sandflesen, and Stockholm. These\\n      are the true names of the places—but why it has been thought'),\n",
       " Document(page_content='necessary to name them at all, is more than either you or I can\\n      understand. Do you hear anything? Do you see any change in the'),\n",
       " Document(page_content='water?”'),\n",
       " Document(page_content='We had now been about ten minutes upon the top of Helseggen, to\\n      which we had ascended from the interior of Lofoden, so that we'),\n",
       " Document(page_content='had caught no glimpse of the sea until it had burst upon us from\\n      the summit. As the old man spoke, I became aware of a loud and'),\n",
       " Document(page_content='gradually increasing sound, like the moaning of a vast herd of\\n      buffaloes upon an American prairie; and at the same moment I'),\n",
       " Document(page_content='perceived that what seamen term the _chopping_ character of the\\n      ocean beneath us, was rapidly changing into a current which set'),\n",
       " Document(page_content='to the eastward. Even while I gazed, this current acquired a\\n      monstrous velocity. Each moment added to its speed—to its'),\n",
       " Document(page_content='headlong impetuosity. In five minutes the whole sea, as far as\\n      Vurrgh, was lashed into ungovernable fury; but it was between'),\n",
       " Document(page_content='Moskoe and the coast that the main uproar held its sway. Here the\\n      vast bed of the waters, seamed and scarred into a thousand'),\n",
       " Document(page_content='conflicting channels, burst suddenly into phrensied\\n      convulsion—heaving, boiling, hissing—gyrating in gigantic and'),\n",
       " Document(page_content='innumerable vortices, and all whirling and plunging on to the\\n      eastward with a rapidity which water never elsewhere assumes'),\n",
       " Document(page_content='except in precipitous descents.'),\n",
       " Document(page_content='In a few minutes more, there came over the scene another radical\\n      alteration. The general surface grew somewhat more smooth, and'),\n",
       " Document(page_content='the whirlpools, one by one, disappeared, while prodigious streaks\\n      of foam became apparent where none had been seen before. These'),\n",
       " Document(page_content='streaks, at length, spreading out to a great distance, and\\n      entering into combination, took unto themselves the gyratory'),\n",
       " Document(page_content='motion of the subsided vortices, and seemed to form the germ of\\n      another more vast. Suddenly—very suddenly—this assumed a distinct'),\n",
       " Document(page_content='and definite existence, in a circle of more than a mile in\\n      diameter. The edge of the whirl was represented by a broad belt'),\n",
       " Document(page_content='of gleaming spray; but no particle of this slipped into the mouth\\n      of the terrific funnel, whose interior, as far as the eye could'),\n",
       " Document(page_content='fathom it, was a smooth, shining, and jet-black wall of water,\\n      inclined to the horizon at an angle of some forty-five degrees,'),\n",
       " Document(page_content='speeding dizzily round and round with a swaying and sweltering\\n      motion, and sending forth to the winds an appalling voice, half'),\n",
       " Document(page_content='shriek, half roar, such as not even the mighty cataract of\\n      Niagara ever lifts up in its agony to Heaven.'),\n",
       " Document(page_content='The mountain trembled to its very base, and the rock rocked. I\\n      threw myself upon my face, and clung to the scant herbage in an'),\n",
       " Document(page_content='excess of nervous agitation.'),\n",
       " Document(page_content='“This,” said I at length, to the old man—“this _can_ be nothing\\n      else than the great whirlpool of the Maelström.”'),\n",
       " Document(page_content='“So it is sometimes termed,” said he. “We Norwegians call it the\\n      Moskoe-ström, from the island of Moskoe in the midway.”'),\n",
       " Document(page_content='The ordinary accounts of this vortex had by no means prepared me\\n      for what I saw. That of Jonas Ramus, which is perhaps the most'),\n",
       " Document(page_content='circumstantial of any, cannot impart the faintest conception\\n      either of the magnificence, or of the horror of the scene—or of'),\n",
       " Document(page_content='the wild bewildering sense of _the novel_ which confounds the\\n      beholder. I am not sure from what point of view the writer in'),\n",
       " Document(page_content='question surveyed it, nor at what time; but it could neither have\\n      been from the summit of Helseggen, nor during a storm. There are'),\n",
       " Document(page_content='some passages of his description, nevertheless, which may be\\n      quoted for their details, although their effect is exceedingly'),\n",
       " Document(page_content='feeble in conveying an impression of the spectacle.'),\n",
       " Document(page_content='“Between Lofoden and Moskoe,” he says, “the depth of the water is\\n      between thirty-six and forty fathoms; but on the other side,'),\n",
       " Document(page_content='toward Ver (Vurrgh) this depth decreases so as not to afford a\\n      convenient passage for a vessel, without the risk of splitting on'),\n",
       " Document(page_content='the rocks, which happens even in the calmest weather. When it is\\n      flood, the stream runs up the country between Lofoden and Moskoe'),\n",
       " Document(page_content='with a boisterous rapidity; but the roar of its impetuous ebb to\\n      the sea is scarce equalled by the loudest and most dreadful'),\n",
       " Document(page_content='cataracts; the noise being heard several leagues off, and the\\n      vortices or pits are of such an extent and depth, that if a ship'),\n",
       " Document(page_content='comes within its attraction, it is inevitably absorbed and\\n      carried down to the bottom, and there beat to pieces against the'),\n",
       " Document(page_content='rocks; and when the water relaxes, the fragments thereof are\\n      thrown up again. But these intervals of tranquility are only at'),\n",
       " Document(page_content='the turn of the ebb and flood, and in calm weather, and last but\\n      a quarter of an hour, its violence gradually returning. When the'),\n",
       " Document(page_content='stream is most boisterous, and its fury heightened by a storm, it\\n      is dangerous to come within a Norway mile of it. Boats, yachts,'),\n",
       " Document(page_content='and ships have been carried away by not guarding against it\\n      before they were within its reach. It likewise happens'),\n",
       " Document(page_content='frequently, that whales come too near the stream, and are\\n      overpowered by its violence; and then it is impossible to'),\n",
       " Document(page_content='describe their howlings and bellowings in their fruitless\\n      struggles to disengage themselves. A bear once, attempting to'),\n",
       " Document(page_content='swim from Lofoden to Moskoe, was caught by the stream and borne\\n      down, while he roared terribly, so as to be heard on shore. Large'),\n",
       " Document(page_content='stocks of firs and pine trees, after being absorbed by the\\n      current, rise again broken and torn to such a degree as if'),\n",
       " Document(page_content='bristles grew upon them. This plainly shows the bottom to consist\\n      of craggy rocks, among which they are whirled to and fro. This'),\n",
       " Document(page_content='stream is regulated by the flux and reflux of the sea—it being\\n      constantly high and low water every six hours. In the year 1645,'),\n",
       " Document(page_content='early in the morning of Sexagesima Sunday, it raged with such\\n      noise and impetuosity that the very stones of the houses on the'),\n",
       " Document(page_content='coast fell to the ground.”'),\n",
       " Document(page_content='In regard to the depth of the water, I could not see how this\\n      could have been ascertained at all in the immediate vicinity of'),\n",
       " Document(page_content='the vortex. The “forty fathoms” must have reference only to\\n      portions of the channel close upon the shore either of Moskoe or'),\n",
       " Document(page_content='Lofoden. The depth in the centre of the Moskoe-ström must be\\n      immeasurably greater; and no better proof of this fact is'),\n",
       " Document(page_content='necessary than can be obtained from even the sidelong glance into\\n      the abyss of the whirl which may be had from the highest crag of'),\n",
       " Document(page_content='Helseggen. Looking down from this pinnacle upon the howling\\n      Phlegethon below, I could not help smiling at the simplicity with'),\n",
       " Document(page_content='which the honest Jonas Ramus records, as a matter difficult of\\n      belief, the anecdotes of the whales and the bears; for it'),\n",
       " Document(page_content='appeared to me, in fact, a self-evident thing, that the largest\\n      ship of the line in existence, coming within the influence of'),\n",
       " Document(page_content='that deadly attraction, could resist it as little as a feather\\n      the hurricane, and must disappear bodily and at once.'),\n",
       " Document(page_content='The attempts to account for the phenomenon—some of which, I\\n      remember, seemed to me sufficiently plausible in perusal—now wore'),\n",
       " Document(page_content='a very different and unsatisfactory aspect. The idea generally\\n      received is that this, as well as three smaller vortices among'),\n",
       " Document(page_content='the Ferroe islands, “have no other cause than the collision of\\n      waves rising and falling, at flux and reflux, against a ridge of'),\n",
       " Document(page_content='rocks and shelves, which confines the water so that it\\n      precipitates itself like a cataract; and thus the higher the'),\n",
       " Document(page_content='flood rises, the deeper must the fall be, and the natural result\\n      of all is a whirlpool or vortex, the prodigious suction of which'),\n",
       " Document(page_content='is sufficiently known by lesser experiments.”—These are the words\\n      of the Encyclopædia Britannica. Kircher and others imagine that'),\n",
       " Document(page_content='in the centre of the channel of the Maelström is an abyss\\n      penetrating the globe, and issuing in some very remote part—the'),\n",
       " Document(page_content='Gulf of Bothnia being somewhat decidedly named in one instance.\\n      This opinion, idle in itself, was the one to which, as I gazed,'),\n",
       " Document(page_content='my imagination most readily assented; and, mentioning it to the\\n      guide, I was rather surprised to hear him say that, although it'),\n",
       " Document(page_content='was the view almost universally entertained of the subject by the\\n      Norwegians, it nevertheless was not his own. As to the former'),\n",
       " Document(page_content='notion he confessed his inability to comprehend it; and here I\\n      agreed with him—for, however conclusive on paper, it becomes'),\n",
       " Document(page_content='altogether unintelligible, and even absurd, amid the thunder of\\n      the abyss.'),\n",
       " Document(page_content='“You have had a good look at the whirl now,” said the old man,\\n      “and if you will creep round this crag, so as to get in its lee,'),\n",
       " Document(page_content='and deaden the roar of the water, I will tell you a story that\\n      will convince you I ought to know something of the Moskoe-ström.”'),\n",
       " Document(page_content='I placed myself as desired, and he proceeded.'),\n",
       " Document(page_content='“Myself and my two brothers once owned a schooner-rigged smack of\\n      about seventy tons burthen, with which we were in the habit of'),\n",
       " Document(page_content='fishing among the islands beyond Moskoe, nearly to Vurrgh. In all\\n      violent eddies at sea there is good fishing, at proper'),\n",
       " Document(page_content='opportunities, if one has only the courage to attempt it; but\\n      among the whole of the Lofoden coastmen, we three were the only'),\n",
       " Document(page_content='ones who made a regular business of going out to the islands, as\\n      I tell you. The usual grounds are a great way lower down to the'),\n",
       " Document(page_content='southward. There fish can be got at all hours, without much risk,\\n      and therefore these places are preferred. The choice spots over'),\n",
       " Document(page_content='here among the rocks, however, not only yield the finest variety,\\n      but in far greater abundance; so that we often got in a single'),\n",
       " Document(page_content='day, what the more timid of the craft could not scrape together\\n      in a week. In fact, we made it a matter of desperate'),\n",
       " Document(page_content='speculation—the risk of life standing instead of labor, and\\n      courage answering for capital.'),\n",
       " Document(page_content='“We kept the smack in a cove about five miles higher up the coast\\n      than this; and it was our practice, in fine weather, to take'),\n",
       " Document(page_content='advantage of the fifteen minutes’ slack to push across the main\\n      channel of the Moskoe-ström, far above the pool, and then drop'),\n",
       " Document(page_content='down upon anchorage somewhere near Otterholm, or Sandflesen,\\n      where the eddies are not so violent as elsewhere. Here we used to'),\n",
       " Document(page_content='remain until nearly time for slack-water again, when we weighed\\n      and made for home. We never set out upon this expedition without'),\n",
       " Document(page_content='a steady side wind for going and coming—one that we felt sure\\n      would not fail us before our return—and we seldom made a'),\n",
       " Document(page_content='mis-calculation upon this point. Twice, during six years, we were\\n      forced to stay all night at anchor on account of a dead calm,'),\n",
       " Document(page_content='which is a rare thing indeed just about here; and once we had to\\n      remain on the grounds nearly a week, starving to death, owing to'),\n",
       " Document(page_content='a gale which blew up shortly after our arrival, and made the\\n      channel too boisterous to be thought of. Upon this occasion we'),\n",
       " Document(page_content='should have been driven out to sea in spite of everything, (for\\n      the whirlpools threw us round and round so violently, that, at'),\n",
       " Document(page_content='length, we fouled our anchor and dragged it) if it had not been\\n      that we drifted into one of the innumerable cross currents—here'),\n",
       " Document(page_content='to-day and gone to-morrow—which drove us under the lee of Flimen,\\n      where, by good luck, we brought up.'),\n",
       " Document(page_content='“I could not tell you the twentieth part of the difficulties we\\n      encountered ‘on the grounds’—it is a bad spot to be in, even in'),\n",
       " Document(page_content='good weather—but we made shift always to run the gauntlet of the\\n      Moskoe-ström itself without accident; although at times my heart'),\n",
       " Document(page_content='has been in my mouth when we happened to be a minute or so behind\\n      or before the slack. The wind sometimes was not as strong as we'),\n",
       " Document(page_content='thought it at starting, and then we made rather less way than we\\n      could wish, while the current rendered the smack unmanageable. My'),\n",
       " Document(page_content='eldest brother had a son eighteen years old, and I had two stout\\n      boys of my own. These would have been of great assistance at such'),\n",
       " Document(page_content='times, in using the sweeps, as well as afterward in fishing—but,\\n      somehow, although we ran the risk ourselves, we had not the heart'),\n",
       " Document(page_content='to let the young ones get into the danger—for, after all is said\\n      and done, it _was_ a horrible danger, and that is the truth.'),\n",
       " Document(page_content='“It is now within a few days of three years since what I am going\\n      to tell you occurred. It was on the tenth day of July, 18—, a day'),\n",
       " Document(page_content='which the people of this part of the world will never forget—for\\n      it was one in which blew the most terrible hurricane that ever'),\n",
       " Document(page_content='came out of the heavens. And yet all the morning, and indeed\\n      until late in the afternoon, there was a gentle and steady breeze'),\n",
       " Document(page_content='from the south-west, while the sun shone brightly, so that the\\n      oldest seaman among us could not have foreseen what was to\\n      follow.'),\n",
       " Document(page_content='“The three of us—my two brothers and myself—had crossed over to\\n      the islands about two o’clock P. M., and had soon nearly loaded'),\n",
       " Document(page_content='the smack with fine fish, which, we all remarked, were more\\n      plenty that day than we had ever known them. It was just seven,'),\n",
       " Document(page_content='_by my watch_, when we weighed and started for home, so as to\\n      make the worst of the Ström at slack water, which we knew would'),\n",
       " Document(page_content='be at eight.'),\n",
       " Document(page_content='“We set out with a fresh wind on our starboard quarter, and for\\n      some time spanked along at a great rate, never dreaming of'),\n",
       " Document(page_content='danger, for indeed we saw not the slightest reason to apprehend\\n      it. All at once we were taken aback by a breeze from over'),\n",
       " Document(page_content='Helseggen. This was most unusual—something that had never\\n      happened to us before—and I began to feel a little uneasy,'),\n",
       " Document(page_content='without exactly knowing why. We put the boat on the wind, but\\n      could make no headway at all for the eddies, and I was upon the'),\n",
       " Document(page_content='point of proposing to return to the anchorage, when, looking\\n      astern, we saw the whole horizon covered with a singular'),\n",
       " Document(page_content='copper-colored cloud that rose with the most amazing velocity.'),\n",
       " Document(page_content='“In the meantime the breeze that had headed us off fell away, and\\n      we were dead becalmed, drifting about in every direction. This'),\n",
       " Document(page_content='state of things, however, did not last long enough to give us\\n      time to think about it. In less than a minute the storm was upon'),\n",
       " Document(page_content='us—in less than two the sky was entirely overcast—and what with\\n      this and the driving spray, it became suddenly so dark that we'),\n",
       " Document(page_content='could not see each other in the smack.'),\n",
       " Document(page_content='“Such a hurricane as then blew it is folly to attempt describing.\\n      The oldest seaman in Norway never experienced any thing like it.'),\n",
       " Document(page_content='We had let our sails go by the run before it cleverly took us;\\n      but, at the first puff, both our masts went by the board as if'),\n",
       " Document(page_content='they had been sawed off—the mainmast taking with it my youngest\\n      brother, who had lashed himself to it for safety.'),\n",
       " Document(page_content='“Our boat was the lightest feather of a thing that ever sat upon\\n      water. It had a complete flush deck, with only a small hatch near'),\n",
       " Document(page_content='the bow, and this hatch it had always been our custom to batten\\n      down when about to cross the Ström, by way of precaution against'),\n",
       " Document(page_content='the chopping seas. But for this circumstance we should have\\n      foundered at once—for we lay entirely buried for some moments.'),\n",
       " Document(page_content='How my elder brother escaped destruction I cannot say, for I\\n      never had an opportunity of ascertaining. For my part, as soon as'),\n",
       " Document(page_content='I had let the foresail run, I threw myself flat on deck, with my\\n      feet against the narrow gunwale of the bow, and with my hands'),\n",
       " Document(page_content='grasping a ring-bolt near the foot of the fore-mast. It was mere\\n      instinct that prompted me to do this—which was undoubtedly the'),\n",
       " Document(page_content='very best thing I could have done—for I was too much flurried to\\n      think.'),\n",
       " Document(page_content='“For some moments we were completely deluged, as I say, and all\\n      this time I held my breath, and clung to the bolt. When I could'),\n",
       " Document(page_content='stand it no longer I raised myself upon my knees, still keeping\\n      hold with my hands, and thus got my head clear. Presently our'),\n",
       " Document(page_content='little boat gave herself a shake, just as a dog does in coming\\n      out of the water, and thus rid herself, in some measure, of the'),\n",
       " Document(page_content='seas. I was now trying to get the better of the stupor that had\\n      come over me, and to collect my senses so as to see what was to'),\n",
       " Document(page_content='be done, when I felt somebody grasp my arm. It was my elder\\n      brother, and my heart leaped for joy, for I had made sure that he'),\n",
       " Document(page_content='was overboard—but the next moment all this joy was turned into\\n      horror—for he put his mouth close to my ear, and screamed out the'),\n",
       " Document(page_content='word ‘_Moskoe-ström!_’'),\n",
       " Document(page_content='“No one ever will know what my feelings were at that moment. I\\n      shook from head to foot as if I had had the most violent fit of'),\n",
       " Document(page_content='the ague. I knew what he meant by that one word well enough—I\\n      knew what he wished to make me understand. With the wind that now'),\n",
       " Document(page_content='drove us on, we were bound for the whirl of the Ström, and\\n      nothing could save us!'),\n",
       " Document(page_content='“You perceive that in crossing the Ström _channel_, we always\\n      went a long way up above the whirl, even in the calmest weather,'),\n",
       " Document(page_content='and then had to wait and watch carefully for the slack—but now we\\n      were driving right upon the pool itself, and in such a hurricane'),\n",
       " Document(page_content='as this! ‘To be sure,’ I thought, ‘we shall get there just about\\n      the slack—there is some little hope in that’—but in the next'),\n",
       " Document(page_content='moment I cursed myself for being so great a fool as to dream of\\n      hope at all. I knew very well that we were doomed, had we been'),\n",
       " Document(page_content='ten times a ninety-gun ship.'),\n",
       " Document(page_content='“By this time the first fury of the tempest had spent itself, or\\n      perhaps we did not feel it so much, as we scudded before it, but'),\n",
       " Document(page_content='at all events the seas, which at first had been kept down by the\\n      wind, and lay flat and frothing, now got up into absolute'),\n",
       " Document(page_content='mountains. A singular change, too, had come over the heavens.\\n      Around in every direction it was still as black as pitch, but'),\n",
       " Document(page_content='nearly overhead there burst out, all at once, a circular rift of\\n      clear sky—as clear as I ever saw—and of a deep bright blue—and'),\n",
       " Document(page_content='through it there blazed forth the full moon with a lustre that I\\n      never before knew her to wear. She lit up every thing about us'),\n",
       " Document(page_content='with the greatest distinctness—but, oh God, what a scene it was\\n      to light up!'),\n",
       " Document(page_content='“I now made one or two attempts to speak to my brother—but, in\\n      some manner which I could not understand, the din had so'),\n",
       " Document(page_content='increased that I could not make him hear a single word, although\\n      I screamed at the top of my voice in his ear. Presently he shook'),\n",
       " Document(page_content='his head, looking as pale as death, and held up one of his\\n      fingers, as if to say _‘listen! ‘_'),\n",
       " Document(page_content='“At first I could not make out what he meant—but soon a hideous\\n      thought flashed upon me. I dragged my watch from its fob. It was'),\n",
       " Document(page_content='not going. I glanced at its face by the moonlight, and then burst\\n      into tears as I flung it far away into the ocean. _It had run'),\n",
       " Document(page_content='down at seven o’clock! We were behind the time of the slack, and\\n      the whirl of the Ström was in full fury!_'),\n",
       " Document(page_content='“When a boat is well built, properly trimmed, and not deep laden,\\n      the waves in a strong gale, when she is going large, seem always'),\n",
       " Document(page_content='to slip from beneath her—which appears very strange to a\\n      landsman—and this is what is called _riding_, in sea phrase.'),\n",
       " Document(page_content='“Well, so far we had ridden the swells very cleverly; but\\n      presently a gigantic sea happened to take us right under the'),\n",
       " Document(page_content='counter, and bore us with it as it rose—up—up—as if into the sky.\\n      I would not have believed that any wave could rise so high. And'),\n",
       " Document(page_content='then down we came with a sweep, a slide, and a plunge, that made\\n      me feel sick and dizzy, as if I was falling from some lofty'),\n",
       " Document(page_content='mountain-top in a dream. But while we were up I had thrown a\\n      quick glance around—and that one glance was all sufficient. I saw'),\n",
       " Document(page_content='our exact position in an instant. The Moskoe-Ström whirlpool was\\n      about a quarter of a mile dead ahead—but no more like the'),\n",
       " Document(page_content='every-day Moskoe-Ström than the whirl as you now see it, is like\\n      a mill-race. If I had not known where we were, and what we had to'),\n",
       " Document(page_content='expect, I should not have recognised the place at all. As it was,\\n      I involuntarily closed my eyes in horror. The lids clenched'),\n",
       " Document(page_content='themselves together as if in a spasm.'),\n",
       " Document(page_content='“It could not have been more than two minutes afterward until we\\n      suddenly felt the waves subside, and were enveloped in foam. The'),\n",
       " Document(page_content='boat made a sharp half turn to larboard, and then shot off in its\\n      new direction like a thunderbolt. At the same moment the roaring'),\n",
       " Document(page_content='noise of the water was completely drowned in a kind of shrill\\n      shriek—such a sound as you might imagine given out by the'),\n",
       " Document(page_content='waste-pipes of many thousand steam-vessels, letting off their\\n      steam all together. We were now in the belt of surf that always'),\n",
       " Document(page_content='surrounds the whirl; and I thought, of course, that another\\n      moment would plunge us into the abyss, down which we could only'),\n",
       " Document(page_content='see indistinctly on account of the amazing velocity with which we\\n      wore borne along. The boat did not seem to sink into the water at'),\n",
       " Document(page_content='all, but to skim like an air-bubble upon the surface of the\\n      surge. Her starboard side was next the whirl, and on the larboard'),\n",
       " Document(page_content='arose the world of ocean we had left. It stood like a huge\\n      writhing wall between us and the horizon.'),\n",
       " Document(page_content='“It may appear strange, but now, when we were in the very jaws of\\n      the gulf, I felt more composed than when we were only approaching'),\n",
       " Document(page_content='it. Having made up my mind to hope no more, I got rid of a great\\n      deal of that terror which unmanned me at first. I suppose it was'),\n",
       " Document(page_content='despair that strung my nerves.'),\n",
       " Document(page_content='“It may look like boasting—but what I tell you is truth—I began\\n      to reflect how magnificent a thing it was to die in such a'),\n",
       " Document(page_content='manner, and how foolish it was in me to think of so paltry a\\n      consideration as my own individual life, in view of so wonderful'),\n",
       " Document(page_content='a manifestation of God’s power. I do believe that I blushed with\\n      shame when this idea crossed my mind. After a little while I'),\n",
       " Document(page_content='became possessed with the keenest curiosity about the whirl\\n      itself. I positively felt a _wish_ to explore its depths, even at'),\n",
       " Document(page_content='the sacrifice I was going to make; and my principal grief was\\n      that I should never be able to tell my old companions on shore'),\n",
       " Document(page_content='about the mysteries I should see. These, no doubt, were singular\\n      fancies to occupy a man’s mind in such extremity—and I have often'),\n",
       " Document(page_content='thought since, that the revolutions of the boat around the pool\\n      might have rendered me a little light-headed.'),\n",
       " Document(page_content='“There was another circumstance which tended to restore my\\n      self-possession; and this was the cessation of the wind, which'),\n",
       " Document(page_content='could not reach us in our present situation—for, as you saw\\n      yourself, the belt of surf is considerably lower than the general'),\n",
       " Document(page_content='bed of the ocean, and this latter now towered above us, a high,\\n      black, mountainous ridge. If you have never been at sea in a'),\n",
       " Document(page_content='heavy gale, you can form no idea of the confusion of mind\\n      occasioned by the wind and spray together. They blind, deafen,'),\n",
       " Document(page_content='and strangle you, and take away all power of action or\\n      reflection. But we were now, in a great measure, rid of these'),\n",
       " Document(page_content='annoyances—just as death-condemned felons in prison are allowed\\n      petty indulgences, forbidden them while their doom is yet'),\n",
       " Document(page_content='uncertain.'),\n",
       " Document(page_content='“How often we made the circuit of the belt it is impossible to\\n      say. We careered round and round for perhaps an hour, flying'),\n",
       " Document(page_content='rather than floating, getting gradually more and more into the\\n      middle of the surge, and then nearer and nearer to its horrible'),\n",
       " Document(page_content='inner edge. All this time I had never let go of the ring-bolt. My\\n      brother was at the stern, holding on to a small empty water-cask'),\n",
       " Document(page_content='which had been securely lashed under the coop of the counter, and\\n      was the only thing on deck that had not been swept overboard when'),\n",
       " Document(page_content='the gale first took us. As we approached the brink of the pit he\\n      let go his hold upon this, and made for the ring, from which, in'),\n",
       " Document(page_content='the agony of his terror, he endeavored to force my hands, as it\\n      was not large enough to afford us both a secure grasp. I never'),\n",
       " Document(page_content='felt deeper grief than when I saw him attempt this act—although I\\n      knew he was a madman when he did it—a raving maniac through sheer'),\n",
       " Document(page_content='fright. I did not care, however, to contest the point with him. I\\n      knew it could make no difference whether either of us held on at'),\n",
       " Document(page_content='all; so I let him have the bolt, and went astern to the cask.\\n      This there was no great difficulty in doing; for the smack flew'),\n",
       " Document(page_content='round steadily enough, and upon an even keel—only swaying to and\\n      fro, with the immense sweeps and swelters of the whirl. Scarcely'),\n",
       " Document(page_content='had I secured myself in my new position, when we gave a wild\\n      lurch to starboard, and rushed headlong into the abyss. I'),\n",
       " Document(page_content='muttered a hurried prayer to God, and thought all was over.'),\n",
       " Document(page_content='“As I felt the sickening sweep of the descent, I had\\n      instinctively tightened my hold upon the barrel, and closed my'),\n",
       " Document(page_content='eyes. For some seconds I dared not open them—while I expected\\n      instant destruction, and wondered that I was not already in my'),\n",
       " Document(page_content='death-struggles with the water. But moment after moment elapsed.\\n      I still lived. The sense of falling had ceased; and the motion of'),\n",
       " Document(page_content='the vessel seemed much as it had been before, while in the belt\\n      of foam, with the exception that she now lay more along. I took'),\n",
       " Document(page_content='courage, and looked once again upon the scene.'),\n",
       " Document(page_content='“Never shall I forget the sensations of awe, horror, and\\n      admiration with which I gazed about me. The boat appeared to be'),\n",
       " Document(page_content='hanging, as if by magic, midway down, upon the interior surface\\n      of a funnel vast in circumference, prodigious in depth, and whose'),\n",
       " Document(page_content='perfectly smooth sides might have been mistaken for ebony, but\\n      for the bewildering rapidity with which they spun around, and for'),\n",
       " Document(page_content='the gleaming and ghastly radiance they shot forth, as the rays of\\n      the full moon, from that circular rift amid the clouds which I'),\n",
       " Document(page_content='have already described, streamed in a flood of golden glory along\\n      the black walls, and far away down into the inmost recesses of'),\n",
       " Document(page_content='the abyss.'),\n",
       " Document(page_content='“At first I was too much confused to observe anything accurately.\\n      The general burst of terrific grandeur was all that I beheld.'),\n",
       " Document(page_content='When I recovered myself a little, however, my gaze fell\\n      instinctively downward. In this direction I was able to obtain an'),\n",
       " Document(page_content='unobstructed view, from the manner in which the smack hung on the\\n      inclined surface of the pool. She was quite upon an even'),\n",
       " Document(page_content='keel—that is to say, her deck lay in a plane parallel with that\\n      of the water—but this latter sloped at an angle of more than'),\n",
       " Document(page_content='forty-five degrees, so that we seemed to be lying upon our\\n      beam-ends. I could not help observing, nevertheless, that I had'),\n",
       " Document(page_content='scarcely more difficulty in maintaining my hold and footing in\\n      this situation, than if we had been upon a dead level; and this,'),\n",
       " Document(page_content='I suppose, was owing to the speed at which we revolved.'),\n",
       " Document(page_content='“The rays of the moon seemed to search the very bottom of the\\n      profound gulf; but still I could make out nothing distinctly, on'),\n",
       " Document(page_content='account of a thick mist in which everything there was enveloped,\\n      and over which there hung a magnificent rainbow, like that narrow'),\n",
       " Document(page_content='and tottering bridge which Mussulmen say is the only pathway\\n      between Time and Eternity. This mist, or spray, was no doubt'),\n",
       " Document(page_content='occasioned by the clashing of the great walls of the funnel, as\\n      they all met together at the bottom—but the yell that went up to'),\n",
       " Document(page_content='the Heavens from out of that mist, I dare not attempt to\\n      describe.'),\n",
       " Document(page_content='“Our first slide into the abyss itself, from the belt of foam\\n      above, had carried us a great distance down the slope; but our'),\n",
       " Document(page_content='farther descent was by no means proportionate. Round and round we\\n      swept—not with any uniform movement—but in dizzying swings and'),\n",
       " Document(page_content='jerks, that sent us sometimes only a few hundred yards—sometimes\\n      nearly the complete circuit of the whirl. Our progress downward,'),\n",
       " Document(page_content='at each revolution, was slow, but very perceptible.'),\n",
       " Document(page_content='“Looking about me upon the wide waste of liquid ebony on which we\\n      were thus borne, I perceived that our boat was not the only'),\n",
       " Document(page_content='object in the embrace of the whirl. Both above and below us were\\n      visible fragments of vessels, large masses of building timber and'),\n",
       " Document(page_content='trunks of trees, with many smaller articles, such as pieces of\\n      house furniture, broken boxes, barrels and staves. I have already'),\n",
       " Document(page_content='described the unnatural curiosity which had taken the place of my\\n      original terrors. It appeared to grow upon me as I drew nearer'),\n",
       " Document(page_content='and nearer to my dreadful doom. I now began to watch, with a\\n      strange interest, the numerous things that floated in our'),\n",
       " Document(page_content='company. I _must_ have been delirious, for I even sought\\n      _amusement_ in speculating upon the relative velocities of their'),\n",
       " Document(page_content='several descents toward the foam below. ‘This fir tree,’ I found\\n      myself at one time saying, ‘will certainly be the next thing that'),\n",
       " Document(page_content='takes the awful plunge and disappears,’—and then I was\\n      disappointed to find that the wreck of a Dutch merchant ship'),\n",
       " Document(page_content='overtook it and went down before. At length, after making several\\n      guesses of this nature, and being deceived in all—this fact—the'),\n",
       " Document(page_content='fact of my invariable miscalculation, set me upon a train of\\n      reflection that made my limbs again tremble, and my heart beat'),\n",
       " Document(page_content='heavily once more.'),\n",
       " Document(page_content='“It was not a new terror that thus affected me, but the dawn of a\\n      more exciting _hope_. This hope arose partly from memory, and'),\n",
       " Document(page_content='partly from present observation. I called to mind the great\\n      variety of buoyant matter that strewed the coast of Lofoden,'),\n",
       " Document(page_content='having been absorbed and then thrown forth by the Moskoe-ström.\\n      By far the greater number of the articles were shattered in the'),\n",
       " Document(page_content='most extraordinary way—so chafed and roughened as to have the\\n      appearance of being stuck full of splinters—but then I distinctly'),\n",
       " Document(page_content='recollected that there were _some_ of them which were not\\n      disfigured at all. Now I could not account for this difference'),\n",
       " Document(page_content='except by supposing that the roughened fragments were the only\\n      ones which had been _completely absorbed_—that the others had'),\n",
       " Document(page_content='entered the whirl at so late a period of the tide, or, for some\\n      reason, had descended so slowly after entering, that they did not'),\n",
       " Document(page_content='reach the bottom before the turn of the flood came, or of the\\n      ebb, as the case might be. I conceived it possible, in either'),\n",
       " Document(page_content='instance, that they might thus be whirled up again to the level\\n      of the ocean, without undergoing the fate of those which had been'),\n",
       " Document(page_content='drawn in more early, or absorbed more rapidly. I made, also,\\n      three important observations. The first was, that, as a general'),\n",
       " Document(page_content='rule, the larger the bodies were, the more rapid their\\n      descent—the second, that, between two masses of equal extent, the'),\n",
       " Document(page_content='one spherical, and the other _of any other shape_, the\\n      superiority in speed of descent was with the sphere—the third,'),\n",
       " Document(page_content='that, between two masses of equal size, the one cylindrical, and\\n      the other of any other shape, the cylinder was absorbed the more'),\n",
       " Document(page_content='slowly. Since my escape, I have had several conversations on this\\n      subject with an old school-master of the district; and it was'),\n",
       " Document(page_content='from him that I learned the use of the words ‘cylinder’ and\\n      ‘sphere.’ He explained to me—although I have forgotten the'),\n",
       " Document(page_content='explanation—how what I observed was, in fact, the natural\\n      consequence of the forms of the floating fragments—and showed me'),\n",
       " Document(page_content='how it happened that a cylinder, swimming in a vortex, offered\\n      more resistance to its suction, and was drawn in with greater'),\n",
       " Document(page_content='difficulty than an equally bulky body, of any form whatever. (*1)'),\n",
       " Document(page_content='“There was one startling circumstance which went a great way in\\n      enforcing these observations, and rendering me anxious to turn'),\n",
       " Document(page_content='them to account, and this was that, at every revolution, we\\n      passed something like a barrel, or else the yard or the mast of a'),\n",
       " Document(page_content='vessel, while many of these things, which had been on our level\\n      when I first opened my eyes upon the wonders of the whirlpool,'),\n",
       " Document(page_content='were now high up above us, and seemed to have moved but little\\n      from their original station.'),\n",
       " Document(page_content='“I no longer hesitated what to do. I resolved to lash myself\\n      securely to the water cask upon which I now held, to cut it loose'),\n",
       " Document(page_content='from the counter, and to throw myself with it into the water. I\\n      attracted my brother’s attention by signs, pointed to the'),\n",
       " Document(page_content='floating barrels that came near us, and did everything in my\\n      power to make him understand what I was about to do. I thought at'),\n",
       " Document(page_content='length that he comprehended my design—but, whether this was the\\n      case or not, he shook his head despairingly, and refused to move'),\n",
       " Document(page_content='from his station by the ring-bolt. It was impossible to reach\\n      him; the emergency admitted of no delay; and so, with a bitter'),\n",
       " Document(page_content='struggle, I resigned him to his fate, fastened myself to the cask\\n      by means of the lashings which secured it to the counter, and'),\n",
       " Document(page_content='precipitated myself with it into the sea, without another\\n      moment’s hesitation.'),\n",
       " Document(page_content='“The result was precisely what I had hoped it might be. As it is\\n      myself who now tell you this tale—as you see that I _did_'),\n",
       " Document(page_content='escape—and as you are already in possession of the mode in which\\n      this escape was effected, and must therefore anticipate all that'),\n",
       " Document(page_content='I have farther to say—I will bring my story quickly to\\n      conclusion. It might have been an hour, or thereabout, after my'),\n",
       " Document(page_content='quitting the smack, when, having descended to a vast distance\\n      beneath me, it made three or four wild gyrations in rapid'),\n",
       " Document(page_content='succession, and, bearing my loved brother with it, plunged\\n      headlong, at once and forever, into the chaos of foam below. The'),\n",
       " Document(page_content='barrel to which I was attached sunk very little farther than half\\n      the distance between the bottom of the gulf and the spot at which'),\n",
       " Document(page_content='I leaped overboard, before a great change took place in the\\n      character of the whirlpool. The slope of the sides of the vast'),\n",
       " Document(page_content='funnel became momently less and less steep. The gyrations of the\\n      whirl grew, gradually, less and less violent. By degrees, the'),\n",
       " Document(page_content='froth and the rainbow disappeared, and the bottom of the gulf\\n      seemed slowly to uprise. The sky was clear, the winds had gone'),\n",
       " Document(page_content='down, and the full moon was setting radiantly in the west, when I\\n      found myself on the surface of the ocean, in full view of the'),\n",
       " Document(page_content='shores of Lofoden, and above the spot where the pool of the\\n      Moskoe-ström _had been_. It was the hour of the slack—but the sea'),\n",
       " Document(page_content='still heaved in mountainous waves from the effects of the\\n      hurricane. I was borne violently into the channel of the Ström,'),\n",
       " Document(page_content='and in a few minutes was hurried down the coast into the\\n      ‘grounds’ of the fishermen. A boat picked me up—exhausted from'),\n",
       " Document(page_content='fatigue—and (now that the danger was removed) speechless from the\\n      memory of its horror. Those who drew me on board were my old'),\n",
       " Document(page_content='mates and daily companions—but they knew me no more than they\\n      would have known a traveller from the spirit-land. My hair which'),\n",
       " ...]"
      ]
     },
     "execution_count": 11,
     "metadata": {},
     "output_type": "execute_result"
    }
   ],
   "source": [
    "text_splitter = RecursiveCharacterTextSplitter(\n",
    "    # Set a really small chunk size, just to show.\n",
    "    chunk_size = 150,\n",
    "    chunk_overlap  = 20,\n",
    ")\n",
    "texts = text_splitter.create_documents([data[0].page_content])\n",
    "texts"
   ]
  },
  {
   "cell_type": "code",
   "execution_count": 12,
   "id": "59e312654a7f8f11",
   "metadata": {
    "ExecuteTime": {
     "end_time": "2024-07-08T11:27:27.317446Z",
     "start_time": "2024-07-08T11:27:27.309288Z"
    },
    "collapsed": false,
    "jupyter": {
     "outputs_hidden": false
    }
   },
   "outputs": [
    {
     "name": "stdout",
     "output_type": "stream",
     "text": [
      "You have 4923 documents\n"
     ]
    }
   ],
   "source": [
    "print (f\"You have {len(texts)} documents\")"
   ]
  },
  {
   "cell_type": "code",
   "execution_count": 13,
   "id": "47f85bad6ef8ca10",
   "metadata": {
    "ExecuteTime": {
     "end_time": "2024-07-08T11:27:42.456607Z",
     "start_time": "2024-07-08T11:27:42.448204Z"
    },
    "collapsed": false,
    "jupyter": {
     "outputs_hidden": false
    }
   },
   "outputs": [
    {
     "name": "stdout",
     "output_type": "stream",
     "text": [
      "Preview:\n",
      "The Project Gutenberg eBook of The Works of Edgar Allan Poe — Volume 2\n",
      "    \n",
      "This ebook is for the use of anyone anywhere in the United States and \n",
      "\n",
      "most other parts of the world at no cost and with almost no restrictions\n",
      "whatsoever. You may copy it, give it away or re-use it under the terms\n"
     ]
    }
   ],
   "source": [
    "print (\"Preview:\")\n",
    "print (texts[0].page_content, \"\\n\")\n",
    "print (texts[1].page_content)"
   ]
  },
  {
   "cell_type": "markdown",
   "id": "ff592de1e6128367",
   "metadata": {
    "collapsed": false,
    "jupyter": {
     "outputs_hidden": false
    }
   },
   "source": [
    "There are a ton of different ways to do text splitting and it really depends on your retrieval strategy and application design. Check out more splitters [here](https://python.langchain.com/docs/modules/data_connection/document_transformers/)"
   ]
  },
  {
   "cell_type": "markdown",
   "id": "a84e80d68689e787",
   "metadata": {
    "collapsed": false,
    "jupyter": {
     "outputs_hidden": false
    }
   },
   "source": [
    "## Retrievers\n",
    "Easy way to combine documents with language models.\n",
    "\n",
    "There are many different types of retrievers, the most widely supported is the VectoreStoreRetriever"
   ]
  },
  {
   "cell_type": "code",
   "execution_count": 16,
   "id": "ca3cea3a3329578b",
   "metadata": {
    "ExecuteTime": {
     "end_time": "2024-07-08T11:43:20.925825Z",
     "start_time": "2024-07-08T11:43:20.866292Z"
    },
    "collapsed": false,
    "jupyter": {
     "outputs_hidden": false
    }
   },
   "outputs": [],
   "source": [
    "from langchain.text_splitter import RecursiveCharacterTextSplitter\n",
    "from langchain.vectorstores import FAISS\n",
    "from langchain.embeddings import OllamaEmbeddings"
   ]
  },
  {
   "cell_type": "code",
   "execution_count": 17,
   "id": "a5ca98788fae3a5a",
   "metadata": {
    "ExecuteTime": {
     "end_time": "2024-07-08T11:43:22.149358Z",
     "start_time": "2024-07-08T11:43:22.140125Z"
    },
    "collapsed": false,
    "jupyter": {
     "outputs_hidden": false
    }
   },
   "outputs": [],
   "source": [
    "embeddings = OllamaEmbeddings(model='llama3')"
   ]
  },
  {
   "cell_type": "code",
   "execution_count": 18,
   "id": "e0d2d5fce340188c",
   "metadata": {
    "ExecuteTime": {
     "end_time": "2024-07-08T11:43:24.426058Z",
     "start_time": "2024-07-08T11:43:22.900245Z"
    },
    "collapsed": false,
    "jupyter": {
     "outputs_hidden": false
    }
   },
   "outputs": [
    {
     "data": {
      "text/plain": [
       "<langchain_community.vectorstores.faiss.FAISS at 0x109ed8910>"
      ]
     },
     "execution_count": 18,
     "metadata": {},
     "output_type": "execute_result"
    }
   ],
   "source": [
    "db = FAISS.from_documents(texts[:10], embeddings)\n",
    "db"
   ]
  },
  {
   "cell_type": "code",
   "execution_count": 20,
   "id": "a4b6c881ad24aae4",
   "metadata": {
    "ExecuteTime": {
     "end_time": "2024-07-08T11:43:26.198994Z",
     "start_time": "2024-07-08T11:43:26.189589Z"
    },
    "collapsed": false,
    "jupyter": {
     "outputs_hidden": false
    }
   },
   "outputs": [
    {
     "data": {
      "text/plain": [
       "VectorStoreRetriever(tags=['FAISS', 'OllamaEmbeddings'], vectorstore=<langchain_community.vectorstores.faiss.FAISS object at 0x109ed8910>)"
      ]
     },
     "execution_count": 20,
     "metadata": {},
     "output_type": "execute_result"
    }
   ],
   "source": [
    "retriever = db.as_retriever()\n",
    "retriever"
   ]
  },
  {
   "cell_type": "code",
   "execution_count": 21,
   "id": "698311f6fa1d2720",
   "metadata": {
    "ExecuteTime": {
     "end_time": "2024-07-08T11:43:27.886550Z",
     "start_time": "2024-07-08T11:43:27.874374Z"
    },
    "collapsed": false,
    "jupyter": {
     "outputs_hidden": false
    }
   },
   "outputs": [
    {
     "data": {
      "text/plain": [
       "VectorStoreRetriever(tags=['FAISS', 'OllamaEmbeddings'], vectorstore=<langchain_community.vectorstores.faiss.FAISS object at 0x109ed8910>)"
      ]
     },
     "execution_count": 21,
     "metadata": {},
     "output_type": "execute_result"
    }
   ],
   "source": [
    "retriever"
   ]
  },
  {
   "cell_type": "code",
   "execution_count": 22,
   "id": "e83d146a4dc02dd9",
   "metadata": {
    "ExecuteTime": {
     "end_time": "2024-07-08T11:43:29.581182Z",
     "start_time": "2024-07-08T11:43:29.263521Z"
    },
    "collapsed": false,
    "jupyter": {
     "outputs_hidden": false
    }
   },
   "outputs": [
    {
     "name": "stderr",
     "output_type": "stream",
     "text": [
      "/Users/yanivbenzvi/develop/tikal/langchain-tutorial/.venv/lib/python3.11/site-packages/langchain_core/_api/deprecation.py:139: LangChainDeprecationWarning: The method `BaseRetriever.get_relevant_documents` was deprecated in langchain-core 0.1.46 and will be removed in 0.3.0. Use invoke instead.\n",
      "  warn_deprecated(\n"
     ]
    }
   ],
   "source": [
    "docs = retriever.get_relevant_documents(\"what types of things did the author want to build?\")"
   ]
  },
  {
   "cell_type": "code",
   "execution_count": 23,
   "id": "e3bf239798f1ab86",
   "metadata": {
    "ExecuteTime": {
     "end_time": "2024-07-08T11:43:40.153012Z",
     "start_time": "2024-07-08T11:43:40.143030Z"
    },
    "collapsed": false,
    "jupyter": {
     "outputs_hidden": false
    }
   },
   "outputs": [
    {
     "data": {
      "text/plain": [
       "(4,\n",
       " [Document(page_content='you will have to check the laws of the country where you are located\\nbefore using this eBook.'),\n",
       "  Document(page_content='Title: The Works of Edgar Allan Poe — Volume 2\\n\\nAuthor: Edgar Allan Poe'),\n",
       "  Document(page_content='Release date: April 1, 2000 [eBook #2148]\\n                Most recently updated: May 19, 2024\\n\\nLanguage: English\\n\\nCredits: David Widger'),\n",
       "  Document(page_content='most other parts of the world at no cost and with almost no restrictions\\nwhatsoever. You may copy it, give it away or re-use it under the terms')])"
      ]
     },
     "execution_count": 23,
     "metadata": {},
     "output_type": "execute_result"
    }
   ],
   "source": [
    "len(docs), docs"
   ]
  },
  {
   "cell_type": "markdown",
   "id": "1a7a3d81344fafb1",
   "metadata": {
    "collapsed": false,
    "jupyter": {
     "outputs_hidden": false
    }
   },
   "source": [
    "## VectorStores"
   ]
  },
  {
   "cell_type": "code",
   "execution_count": 24,
   "id": "1030dc52ffc956e0",
   "metadata": {
    "ExecuteTime": {
     "end_time": "2024-07-08T11:44:11.823259Z",
     "start_time": "2024-07-08T11:44:11.802959Z"
    },
    "collapsed": false,
    "jupyter": {
     "outputs_hidden": false
    }
   },
   "outputs": [],
   "source": [
    "from langchain.document_loaders import TextLoader\n",
    "from langchain.text_splitter import RecursiveCharacterTextSplitter\n",
    "from langchain.vectorstores import FAISS\n",
    "from langchain.embeddings import OpenAIEmbeddings\n",
    "\n",
    "# Get embedding engine ready\n",
    "embeddings = OllamaEmbeddings(model='llama3')"
   ]
  },
  {
   "cell_type": "code",
   "execution_count": 25,
   "id": "cce6cf86b50f3534",
   "metadata": {
    "ExecuteTime": {
     "end_time": "2024-07-08T11:44:12.453269Z",
     "start_time": "2024-07-08T11:44:12.442093Z"
    },
    "collapsed": false,
    "jupyter": {
     "outputs_hidden": false
    }
   },
   "outputs": [
    {
     "name": "stdout",
     "output_type": "stream",
     "text": [
      "You have 4923 documents\n"
     ]
    }
   ],
   "source": [
    "print (f\"You have {len(texts)} documents\")"
   ]
  },
  {
   "cell_type": "code",
   "execution_count": 26,
   "id": "4c743f07bc121a7a",
   "metadata": {
    "ExecuteTime": {
     "end_time": "2024-07-08T11:44:14.595479Z",
     "start_time": "2024-07-08T11:44:13.043065Z"
    },
    "collapsed": false,
    "jupyter": {
     "outputs_hidden": false
    }
   },
   "outputs": [],
   "source": [
    "embedding_list = embeddings.embed_documents([text.page_content for text in texts[:10]])"
   ]
  },
  {
   "cell_type": "code",
   "execution_count": 27,
   "id": "441672704c699fa6",
   "metadata": {
    "ExecuteTime": {
     "end_time": "2024-07-08T11:44:16.643383Z",
     "start_time": "2024-07-08T11:44:16.635910Z"
    },
    "collapsed": false,
    "jupyter": {
     "outputs_hidden": false
    }
   },
   "outputs": [
    {
     "name": "stdout",
     "output_type": "stream",
     "text": [
      "You have 10 embeddings\n",
      "Here's a sample of one: [-3.612340211868286, 0.40659618377685547, 1.3247272968292236]...\n"
     ]
    }
   ],
   "source": [
    "print (f\"You have {len(embedding_list)} embeddings\")\n",
    "print (f\"Here's a sample of one: {embedding_list[0][:3]}...\")"
   ]
  },
  {
   "cell_type": "markdown",
   "id": "ec8ca7940dfc764d",
   "metadata": {
    "collapsed": false,
    "jupyter": {
     "outputs_hidden": false
    }
   },
   "source": []
  },
  {
   "cell_type": "code",
   "execution_count": null,
   "id": "bf505eda188837f9",
   "metadata": {
    "collapsed": false,
    "jupyter": {
     "outputs_hidden": false
    }
   },
   "outputs": [],
   "source": []
  },
  {
   "cell_type": "markdown",
   "id": "955f9ed2a98b701d",
   "metadata": {
    "collapsed": false,
    "jupyter": {
     "outputs_hidden": false
    }
   },
   "source": [
    "# Workshop exercise:\n",
    "\n",
    "1. Find a manual of some electronics device online (like a microwave or a TV or a phone)\n",
    "2. convert it to text\n",
    "3. save it to a text file under the data directory\n",
    "4. Load the text file\n",
    "5. Split the text into chunks\n",
    "6. Embed the chunks\n",
    "7. Store the chunks in a vector store\n",
    "8. Retrieve a chunk based on a query\n",
    "9. ask the model a question about the manual"
   ]
  }
 ],
 "metadata": {
  "kernelspec": {
   "display_name": "Python 3 (ipykernel)",
   "language": "python",
   "name": "python3"
  },
  "language_info": {
   "codemirror_mode": {
    "name": "ipython",
    "version": 3
   },
   "file_extension": ".py",
   "mimetype": "text/x-python",
   "name": "python",
   "nbconvert_exporter": "python",
   "pygments_lexer": "ipython3",
   "version": "3.11.0"
  }
 },
 "nbformat": 4,
 "nbformat_minor": 5
}
