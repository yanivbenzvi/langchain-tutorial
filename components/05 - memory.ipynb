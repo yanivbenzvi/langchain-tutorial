{
 "cells": [
  {
   "cell_type": "markdown",
   "source": [
    "## Memory\n",
    "Helping LLMs remember information.\n",
    "\n",
    "Memory is a bit of a loose term. It could be as simple as remembering information you've chatted about in the past or more complicated information retrieval.\n",
    "\n",
    "We'll keep it towards the Chat Message use case. This would be used for chat bots.\n",
    "\n",
    "There are many types of memory, explore [the documentation](https://python.langchain.com/en/latest/modules/memory/how_to_guides.html) to see which one fits your use case."
   ],
   "metadata": {
    "collapsed": false
   },
   "id": "ac7c8c6c09cf2511"
  },
  {
   "cell_type": "code",
   "outputs": [],
   "source": [
    "import os\n",
    "from dotenv import load_dotenv, find_dotenv\n",
    "load_dotenv(find_dotenv())\n",
    "\n",
    "openai_api_key = os.environ[\"OPENAI_API_KEY\"]"
   ],
   "metadata": {
    "collapsed": false
   },
   "id": "545514a69136ef25",
   "execution_count": null
  },
  {
   "cell_type": "markdown",
   "source": [
    "### Chat Message History"
   ],
   "metadata": {
    "collapsed": false
   },
   "id": "838b71c609de7a7b"
  },
  {
   "cell_type": "code",
   "outputs": [],
   "source": [
    "from langchain.memory import ChatMessageHistory\n",
    "from langchain_openai import ChatOpenAI\n",
    "\n",
    "chat = ChatOpenAI(temperature=0, openai_api_key=openai_api_key)\n",
    "\n",
    "history = ChatMessageHistory()\n",
    "\n",
    "history.add_ai_message(\"hi!\")\n",
    "\n",
    "history.add_user_message(\"what is the capital of france?\")"
   ],
   "metadata": {
    "collapsed": false
   },
   "id": "4df4b693546698ea",
   "execution_count": null
  },
  {
   "cell_type": "code",
   "outputs": [],
   "source": [
    "history.messages"
   ],
   "metadata": {
    "collapsed": false
   },
   "id": "abcbfc150dc228c6",
   "execution_count": null
  },
  {
   "cell_type": "code",
   "outputs": [],
   "source": [
    "ai_response = chat.invoke(history.messages)\n",
    "ai_response"
   ],
   "metadata": {
    "collapsed": false
   },
   "id": "59b9e9bd726a029",
   "execution_count": null
  },
  {
   "cell_type": "code",
   "outputs": [],
   "source": [
    "ai_response.content"
   ],
   "metadata": {
    "collapsed": false
   },
   "id": "b9d4bc1d2b76ff94",
   "execution_count": null
  },
  {
   "cell_type": "code",
   "outputs": [],
   "source": [
    "history.add_ai_message(ai_response.content)\n",
    "history.messages"
   ],
   "metadata": {
    "collapsed": false
   },
   "id": "d40cc5a4728b27b0",
   "execution_count": null
  },
  {
   "cell_type": "code",
   "outputs": [],
   "source": [
    "from langchain.callbacks import get_openai_callback\n",
    "def count_tokens(chain, query):\n",
    "    # Get the OpenAI callback handler in a context manager.\n",
    "    # which conveniently exposes token and cost information.\n",
    "    with get_openai_callback() as cb:\n",
    "        result = chain.invoke(query)\n",
    "        print(f'Spent a total of {cb.total_tokens} tokens')\n",
    "\n",
    "    return result"
   ],
   "metadata": {
    "collapsed": false,
    "ExecuteTime": {
     "end_time": "2024-07-15T11:00:39.316169Z",
     "start_time": "2024-07-15T11:00:39.312950Z"
    }
   },
   "id": "e145f6e98692875d",
   "execution_count": 24
  },
  {
   "cell_type": "markdown",
   "source": [
    "### Conversation Buffer Memory\n",
    "The conversation buffer memory automatically remembers the last messages in the conversation."
   ],
   "metadata": {
    "collapsed": false
   },
   "id": "8f74eb2d25756df4"
  },
  {
   "cell_type": "code",
   "outputs": [],
   "source": [
    "from langchain.chains import ConversationChain\n",
    "from langchain.chains.conversation.memory import ConversationBufferMemory\n",
    "\n",
    "llm = ChatOpenAI(temperature=0, openai_api_key=openai_api_key)\n",
    "\n",
    "conversation_buf = ConversationChain(llm=llm,verbose=True, memory=ConversationBufferMemory())\n",
    "\n",
    "count_tokens(conversation_buf,\"Hi, i am not able to start my macbook laptop\")\n"
   ],
   "metadata": {
    "collapsed": false
   },
   "id": "9becf2645e92720",
   "execution_count": null
  },
  {
   "cell_type": "code",
   "outputs": [],
   "source": [
    "count_tokens(conversation_buf,\"It is a macbook pro 2021 model?\")"
   ],
   "metadata": {
    "collapsed": false
   },
   "id": "ffede3b5c94b7a2d",
   "execution_count": null
  },
  {
   "cell_type": "code",
   "outputs": [],
   "source": [
    "count_tokens(conversation_buf,\"How do i start it up\")"
   ],
   "metadata": {
    "collapsed": false
   },
   "id": "be6f90feecc8a3ae",
   "execution_count": null
  },
  {
   "cell_type": "code",
   "outputs": [],
   "source": [
    "conversation_buf.memory.buffer"
   ],
   "metadata": {
    "collapsed": false
   },
   "id": "d81b39214c388af0",
   "execution_count": null
  },
  {
   "cell_type": "markdown",
   "source": [
    "### Conversation Summary Memory"
   ],
   "metadata": {
    "collapsed": false
   },
   "id": "5ba23a8c26b70cb2"
  },
  {
   "cell_type": "code",
   "outputs": [],
   "source": [
    "from langchain.chains.conversation.memory import ConversationSummaryMemory\n",
    "memory = ConversationSummaryMemory(llm=llm)\n",
    "conversation_sum = ConversationChain(llm=llm, memory=memory,verbose=True)"
   ],
   "metadata": {
    "collapsed": false
   },
   "id": "bb623ba9bdef3504",
   "execution_count": null
  },
  {
   "cell_type": "code",
   "outputs": [],
   "source": [
    "count_tokens(conversation_sum,\"Hi, i am not able to start my macbook laptop\")"
   ],
   "metadata": {
    "collapsed": false
   },
   "id": "301b7f051d071917",
   "execution_count": null
  },
  {
   "cell_type": "code",
   "outputs": [],
   "source": [
    "count_tokens(conversation_sum,\"How do i start it up\")"
   ],
   "metadata": {
    "collapsed": false
   },
   "id": "94b801eb7784543",
   "execution_count": null
  },
  {
   "cell_type": "markdown",
   "source": [
    "# Workshop exercise:\n",
    "Create a chat with a memory that uses ConversationSummaryMemory that chat should be able to answer questions about dogs brands and their characteristics.\n",
    "\n",
    "e.g. \"What kind of dog is a labrador?\""
   ],
   "metadata": {
    "collapsed": false
   },
   "id": "c65624ee282c1d72"
  }
 ],
 "metadata": {
  "kernelspec": {
   "display_name": "Python 3 (ipykernel)",
   "language": "python",
   "name": "python3"
  },
  "language_info": {
   "codemirror_mode": {
    "name": "ipython",
    "version": 3
   },
   "file_extension": ".py",
   "mimetype": "text/x-python",
   "name": "python",
   "nbconvert_exporter": "python",
   "pygments_lexer": "ipython3",
   "version": "3.11.0"
  }
 },
 "nbformat": 4,
 "nbformat_minor": 5
}
