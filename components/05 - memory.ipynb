{
 "cells": [
  {
   "cell_type": "markdown",
   "id": "ac7c8c6c09cf2511",
   "metadata": {
    "collapsed": false,
    "jupyter": {
     "outputs_hidden": false
    }
   },
   "source": [
    "## Memory\n",
    "Helping LLMs remember information.\n",
    "\n",
    "Memory is a bit of a loose term. It could be as simple as remembering information you've chatted about in the past or more complicated information retrieval.\n",
    "\n",
    "We'll keep it towards the Chat Message use case. This would be used for chat bots.\n",
    "\n",
    "There are many types of memory, explore [the documentation](https://python.langchain.com/en/latest/modules/memory/how_to_guides.html) to see which one fits your use case."
   ]
  },
  {
   "cell_type": "code",
   "execution_count": 6,
   "id": "545514a69136ef25",
   "metadata": {
    "collapsed": false,
    "jupyter": {
     "outputs_hidden": false
    }
   },
   "outputs": [],
   "source": [
    "import os\n",
    "from dotenv import load_dotenv, find_dotenv\n",
    "import langchain\n",
    "langchain.debug = True\n",
    "load_dotenv(find_dotenv())\n",
    "\n",
    "openai_api_key = os.environ[\"OPENAI_API_KEY\"]"
   ]
  },
  {
   "cell_type": "markdown",
   "id": "838b71c609de7a7b",
   "metadata": {
    "collapsed": false,
    "jupyter": {
     "outputs_hidden": false
    }
   },
   "source": [
    "### Chat Message History"
   ]
  },
  {
   "cell_type": "code",
   "execution_count": 7,
   "id": "4df4b693546698ea",
   "metadata": {
    "collapsed": false,
    "jupyter": {
     "outputs_hidden": false
    }
   },
   "outputs": [],
   "source": [
    "from langchain.memory import ChatMessageHistory\n",
    "from langchain_openai import ChatOpenAI\n",
    "\n",
    "chat = ChatOpenAI(temperature=0, openai_api_key=openai_api_key)\n",
    "\n",
    "history = ChatMessageHistory()\n",
    "\n",
    "history.add_ai_message(\"hi!\")\n",
    "\n",
    "history.add_user_message(\"what is the capital of france?\")"
   ]
  },
  {
   "cell_type": "code",
   "execution_count": 8,
   "id": "abcbfc150dc228c6",
   "metadata": {
    "collapsed": false,
    "jupyter": {
     "outputs_hidden": false
    }
   },
   "outputs": [
    {
     "data": {
      "text/plain": [
       "[AIMessage(content='hi!'),\n",
       " HumanMessage(content='what is the capital of france?')]"
      ]
     },
     "execution_count": 8,
     "metadata": {},
     "output_type": "execute_result"
    }
   ],
   "source": [
    "history.messages"
   ]
  },
  {
   "cell_type": "code",
   "execution_count": 9,
   "id": "59b9e9bd726a029",
   "metadata": {
    "collapsed": false,
    "jupyter": {
     "outputs_hidden": false
    }
   },
   "outputs": [
    {
     "name": "stdout",
     "output_type": "stream",
     "text": [
      "\u001b[32;1m\u001b[1;3m[llm/start]\u001b[0m \u001b[1m[llm:ChatOpenAI] Entering LLM run with input:\n",
      "\u001b[0m{\n",
      "  \"prompts\": [\n",
      "    \"AI: hi!\\nHuman: what is the capital of france?\"\n",
      "  ]\n",
      "}\n",
      "\u001b[36;1m\u001b[1;3m[llm/end]\u001b[0m \u001b[1m[llm:ChatOpenAI] [1.05s] Exiting LLM run with output:\n",
      "\u001b[0m{\n",
      "  \"generations\": [\n",
      "    [\n",
      "      {\n",
      "        \"text\": \"The capital of France is Paris.\",\n",
      "        \"generation_info\": {\n",
      "          \"finish_reason\": \"stop\",\n",
      "          \"logprobs\": null\n",
      "        },\n",
      "        \"type\": \"ChatGeneration\",\n",
      "        \"message\": {\n",
      "          \"lc\": 1,\n",
      "          \"type\": \"constructor\",\n",
      "          \"id\": [\n",
      "            \"langchain\",\n",
      "            \"schema\",\n",
      "            \"messages\",\n",
      "            \"AIMessage\"\n",
      "          ],\n",
      "          \"kwargs\": {\n",
      "            \"content\": \"The capital of France is Paris.\",\n",
      "            \"response_metadata\": {\n",
      "              \"token_usage\": {\n",
      "                \"completion_tokens\": 7,\n",
      "                \"prompt_tokens\": 20,\n",
      "                \"total_tokens\": 27\n",
      "              },\n",
      "              \"model_name\": \"gpt-3.5-turbo-0125\",\n",
      "              \"system_fingerprint\": null,\n",
      "              \"finish_reason\": \"stop\",\n",
      "              \"logprobs\": null\n",
      "            },\n",
      "            \"type\": \"ai\",\n",
      "            \"id\": \"run-69b29c82-6e6c-4526-8263-446d6d1332d0-0\",\n",
      "            \"usage_metadata\": {\n",
      "              \"input_tokens\": 20,\n",
      "              \"output_tokens\": 7,\n",
      "              \"total_tokens\": 27\n",
      "            },\n",
      "            \"tool_calls\": [],\n",
      "            \"invalid_tool_calls\": []\n",
      "          }\n",
      "        }\n",
      "      }\n",
      "    ]\n",
      "  ],\n",
      "  \"llm_output\": {\n",
      "    \"token_usage\": {\n",
      "      \"completion_tokens\": 7,\n",
      "      \"prompt_tokens\": 20,\n",
      "      \"total_tokens\": 27\n",
      "    },\n",
      "    \"model_name\": \"gpt-3.5-turbo-0125\",\n",
      "    \"system_fingerprint\": null\n",
      "  },\n",
      "  \"run\": null\n",
      "}\n"
     ]
    },
    {
     "data": {
      "text/plain": [
       "AIMessage(content='The capital of France is Paris.', response_metadata={'token_usage': {'completion_tokens': 7, 'prompt_tokens': 20, 'total_tokens': 27}, 'model_name': 'gpt-3.5-turbo-0125', 'system_fingerprint': None, 'finish_reason': 'stop', 'logprobs': None}, id='run-69b29c82-6e6c-4526-8263-446d6d1332d0-0', usage_metadata={'input_tokens': 20, 'output_tokens': 7, 'total_tokens': 27})"
      ]
     },
     "execution_count": 9,
     "metadata": {},
     "output_type": "execute_result"
    }
   ],
   "source": [
    "ai_response = chat.invoke(history.messages)\n",
    "ai_response"
   ]
  },
  {
   "cell_type": "code",
   "execution_count": 5,
   "id": "b9d4bc1d2b76ff94",
   "metadata": {
    "collapsed": false,
    "jupyter": {
     "outputs_hidden": false
    }
   },
   "outputs": [
    {
     "data": {
      "text/plain": [
       "'The capital of France is Paris.'"
      ]
     },
     "execution_count": 5,
     "metadata": {},
     "output_type": "execute_result"
    }
   ],
   "source": [
    "ai_response.content"
   ]
  },
  {
   "cell_type": "code",
   "execution_count": 10,
   "id": "d40cc5a4728b27b0",
   "metadata": {
    "collapsed": false,
    "jupyter": {
     "outputs_hidden": false
    }
   },
   "outputs": [
    {
     "data": {
      "text/plain": [
       "[AIMessage(content='hi!'),\n",
       " HumanMessage(content='what is the capital of france?'),\n",
       " AIMessage(content='The capital of France is Paris.')]"
      ]
     },
     "execution_count": 10,
     "metadata": {},
     "output_type": "execute_result"
    }
   ],
   "source": [
    "history.add_ai_message(ai_response.content)\n",
    "history.messages"
   ]
  },
  {
   "cell_type": "code",
   "execution_count": 12,
   "id": "e145f6e98692875d",
   "metadata": {
    "ExecuteTime": {
     "end_time": "2024-07-15T11:00:39.316169Z",
     "start_time": "2024-07-15T11:00:39.312950Z"
    },
    "collapsed": false,
    "jupyter": {
     "outputs_hidden": false
    }
   },
   "outputs": [],
   "source": [
    "from langchain.callbacks import get_openai_callback\n",
    "def count_tokens(chain, query):\n",
    "    # Get the OpenAI callback handler in a context manager.\n",
    "    # which conveniently exposes token and cost information.\n",
    "    with get_openai_callback() as cb:\n",
    "        result = chain.invoke(query)\n",
    "        print(f'Spent a total of {cb.total_tokens} tokens')\n",
    "\n",
    "    return result"
   ]
  },
  {
   "cell_type": "markdown",
   "id": "8f74eb2d25756df4",
   "metadata": {
    "collapsed": false,
    "jupyter": {
     "outputs_hidden": false
    }
   },
   "source": [
    "### Conversation Buffer Memory\n",
    "The conversation buffer memory automatically remembers the last messages in the conversation."
   ]
  },
  {
   "cell_type": "code",
   "execution_count": 13,
   "id": "9becf2645e92720",
   "metadata": {
    "collapsed": false,
    "jupyter": {
     "outputs_hidden": false
    }
   },
   "outputs": [
    {
     "name": "stdout",
     "output_type": "stream",
     "text": [
      "\u001b[32;1m\u001b[1;3m[chain/start]\u001b[0m \u001b[1m[chain:ConversationChain] Entering Chain run with input:\n",
      "\u001b[0m{\n",
      "  \"input\": \"Hi, i am not able to start my macbook laptop\",\n",
      "  \"history\": \"\"\n",
      "}\n",
      "\u001b[32;1m\u001b[1;3m[llm/start]\u001b[0m \u001b[1m[chain:ConversationChain > llm:ChatOpenAI] Entering LLM run with input:\n",
      "\u001b[0m{\n",
      "  \"prompts\": [\n",
      "    \"Human: The following is a friendly conversation between a human and an AI. The AI is talkative and provides lots of specific details from its context. If the AI does not know the answer to a question, it truthfully says it does not know.\\n\\nCurrent conversation:\\n\\nHuman: Hi, i am not able to start my macbook laptop\\nAI:\"\n",
      "  ]\n",
      "}\n",
      "\u001b[36;1m\u001b[1;3m[llm/end]\u001b[0m \u001b[1m[chain:ConversationChain > llm:ChatOpenAI] [1.61s] Exiting LLM run with output:\n",
      "\u001b[0m{\n",
      "  \"generations\": [\n",
      "    [\n",
      "      {\n",
      "        \"text\": \"Hello! I'm sorry to hear that you're having trouble with your MacBook. Can you provide me with more details about what happens when you try to start it up? Are you seeing any error messages or is the screen completely blank?\",\n",
      "        \"generation_info\": {\n",
      "          \"finish_reason\": \"stop\",\n",
      "          \"logprobs\": null\n",
      "        },\n",
      "        \"type\": \"ChatGeneration\",\n",
      "        \"message\": {\n",
      "          \"lc\": 1,\n",
      "          \"type\": \"constructor\",\n",
      "          \"id\": [\n",
      "            \"langchain\",\n",
      "            \"schema\",\n",
      "            \"messages\",\n",
      "            \"AIMessage\"\n",
      "          ],\n",
      "          \"kwargs\": {\n",
      "            \"content\": \"Hello! I'm sorry to hear that you're having trouble with your MacBook. Can you provide me with more details about what happens when you try to start it up? Are you seeing any error messages or is the screen completely blank?\",\n",
      "            \"response_metadata\": {\n",
      "              \"token_usage\": {\n",
      "                \"completion_tokens\": 47,\n",
      "                \"prompt_tokens\": 76,\n",
      "                \"total_tokens\": 123\n",
      "              },\n",
      "              \"model_name\": \"gpt-3.5-turbo-0125\",\n",
      "              \"system_fingerprint\": null,\n",
      "              \"finish_reason\": \"stop\",\n",
      "              \"logprobs\": null\n",
      "            },\n",
      "            \"type\": \"ai\",\n",
      "            \"id\": \"run-64219cdc-f1a8-4815-bc14-a8ab82c0bd69-0\",\n",
      "            \"usage_metadata\": {\n",
      "              \"input_tokens\": 76,\n",
      "              \"output_tokens\": 47,\n",
      "              \"total_tokens\": 123\n",
      "            },\n",
      "            \"tool_calls\": [],\n",
      "            \"invalid_tool_calls\": []\n",
      "          }\n",
      "        }\n",
      "      }\n",
      "    ]\n",
      "  ],\n",
      "  \"llm_output\": {\n",
      "    \"token_usage\": {\n",
      "      \"completion_tokens\": 47,\n",
      "      \"prompt_tokens\": 76,\n",
      "      \"total_tokens\": 123\n",
      "    },\n",
      "    \"model_name\": \"gpt-3.5-turbo-0125\",\n",
      "    \"system_fingerprint\": null\n",
      "  },\n",
      "  \"run\": null\n",
      "}\n",
      "\u001b[36;1m\u001b[1;3m[chain/end]\u001b[0m \u001b[1m[chain:ConversationChain] [1.62s] Exiting Chain run with output:\n",
      "\u001b[0m{\n",
      "  \"response\": \"Hello! I'm sorry to hear that you're having trouble with your MacBook. Can you provide me with more details about what happens when you try to start it up? Are you seeing any error messages or is the screen completely blank?\"\n",
      "}\n",
      "Spent a total of 123 tokens\n"
     ]
    },
    {
     "data": {
      "text/plain": [
       "{'input': 'Hi, i am not able to start my macbook laptop',\n",
       " 'history': '',\n",
       " 'response': \"Hello! I'm sorry to hear that you're having trouble with your MacBook. Can you provide me with more details about what happens when you try to start it up? Are you seeing any error messages or is the screen completely blank?\"}"
      ]
     },
     "execution_count": 13,
     "metadata": {},
     "output_type": "execute_result"
    }
   ],
   "source": [
    "from langchain.chains import ConversationChain\n",
    "from langchain.chains.conversation.memory import ConversationBufferMemory\n",
    "\n",
    "llm = ChatOpenAI(temperature=0, openai_api_key=openai_api_key)\n",
    "\n",
    "conversation_buf = ConversationChain(llm=llm,verbose=True, memory=ConversationBufferMemory())\n",
    "\n",
    "count_tokens(conversation_buf,\"Hi, i am not able to start my macbook laptop\")\n"
   ]
  },
  {
   "cell_type": "code",
   "execution_count": 14,
   "id": "ffede3b5c94b7a2d",
   "metadata": {
    "collapsed": false,
    "jupyter": {
     "outputs_hidden": false
    }
   },
   "outputs": [
    {
     "name": "stdout",
     "output_type": "stream",
     "text": [
      "\u001b[32;1m\u001b[1;3m[chain/start]\u001b[0m \u001b[1m[chain:ConversationChain] Entering Chain run with input:\n",
      "\u001b[0m{\n",
      "  \"input\": \"It is a macbook pro 2021 model?\",\n",
      "  \"history\": \"Human: Hi, i am not able to start my macbook laptop\\nAI: Hello! I'm sorry to hear that you're having trouble with your MacBook. Can you provide me with more details about what happens when you try to start it up? Are you seeing any error messages or is the screen completely blank?\"\n",
      "}\n",
      "\u001b[32;1m\u001b[1;3m[llm/start]\u001b[0m \u001b[1m[chain:ConversationChain > llm:ChatOpenAI] Entering LLM run with input:\n",
      "\u001b[0m{\n",
      "  \"prompts\": [\n",
      "    \"Human: The following is a friendly conversation between a human and an AI. The AI is talkative and provides lots of specific details from its context. If the AI does not know the answer to a question, it truthfully says it does not know.\\n\\nCurrent conversation:\\nHuman: Hi, i am not able to start my macbook laptop\\nAI: Hello! I'm sorry to hear that you're having trouble with your MacBook. Can you provide me with more details about what happens when you try to start it up? Are you seeing any error messages or is the screen completely blank?\\nHuman: It is a macbook pro 2021 model?\\nAI:\"\n",
      "  ]\n",
      "}\n",
      "\u001b[36;1m\u001b[1;3m[llm/end]\u001b[0m \u001b[1m[chain:ConversationChain > llm:ChatOpenAI] [1.92s] Exiting LLM run with output:\n",
      "\u001b[0m{\n",
      "  \"generations\": [\n",
      "    [\n",
      "      {\n",
      "        \"text\": \"That's great to know! The MacBook Pro 2021 model is a powerful and sleek laptop with impressive performance capabilities. When you try to start it up, do you hear any sounds like the fan spinning or the startup chime? Have you tried connecting it to a power source to ensure it's not a battery issue? Let's troubleshoot this together.\",\n",
      "        \"generation_info\": {\n",
      "          \"finish_reason\": \"stop\",\n",
      "          \"logprobs\": null\n",
      "        },\n",
      "        \"type\": \"ChatGeneration\",\n",
      "        \"message\": {\n",
      "          \"lc\": 1,\n",
      "          \"type\": \"constructor\",\n",
      "          \"id\": [\n",
      "            \"langchain\",\n",
      "            \"schema\",\n",
      "            \"messages\",\n",
      "            \"AIMessage\"\n",
      "          ],\n",
      "          \"kwargs\": {\n",
      "            \"content\": \"That's great to know! The MacBook Pro 2021 model is a powerful and sleek laptop with impressive performance capabilities. When you try to start it up, do you hear any sounds like the fan spinning or the startup chime? Have you tried connecting it to a power source to ensure it's not a battery issue? Let's troubleshoot this together.\",\n",
      "            \"response_metadata\": {\n",
      "              \"token_usage\": {\n",
      "                \"completion_tokens\": 72,\n",
      "                \"prompt_tokens\": 138,\n",
      "                \"total_tokens\": 210\n",
      "              },\n",
      "              \"model_name\": \"gpt-3.5-turbo-0125\",\n",
      "              \"system_fingerprint\": null,\n",
      "              \"finish_reason\": \"stop\",\n",
      "              \"logprobs\": null\n",
      "            },\n",
      "            \"type\": \"ai\",\n",
      "            \"id\": \"run-64a1d6b4-918f-4753-abca-8db91fc22e78-0\",\n",
      "            \"usage_metadata\": {\n",
      "              \"input_tokens\": 138,\n",
      "              \"output_tokens\": 72,\n",
      "              \"total_tokens\": 210\n",
      "            },\n",
      "            \"tool_calls\": [],\n",
      "            \"invalid_tool_calls\": []\n",
      "          }\n",
      "        }\n",
      "      }\n",
      "    ]\n",
      "  ],\n",
      "  \"llm_output\": {\n",
      "    \"token_usage\": {\n",
      "      \"completion_tokens\": 72,\n",
      "      \"prompt_tokens\": 138,\n",
      "      \"total_tokens\": 210\n",
      "    },\n",
      "    \"model_name\": \"gpt-3.5-turbo-0125\",\n",
      "    \"system_fingerprint\": null\n",
      "  },\n",
      "  \"run\": null\n",
      "}\n",
      "\u001b[36;1m\u001b[1;3m[chain/end]\u001b[0m \u001b[1m[chain:ConversationChain] [1.93s] Exiting Chain run with output:\n",
      "\u001b[0m{\n",
      "  \"response\": \"That's great to know! The MacBook Pro 2021 model is a powerful and sleek laptop with impressive performance capabilities. When you try to start it up, do you hear any sounds like the fan spinning or the startup chime? Have you tried connecting it to a power source to ensure it's not a battery issue? Let's troubleshoot this together.\"\n",
      "}\n",
      "Spent a total of 210 tokens\n"
     ]
    },
    {
     "data": {
      "text/plain": [
       "{'input': 'It is a macbook pro 2021 model?',\n",
       " 'history': \"Human: Hi, i am not able to start my macbook laptop\\nAI: Hello! I'm sorry to hear that you're having trouble with your MacBook. Can you provide me with more details about what happens when you try to start it up? Are you seeing any error messages or is the screen completely blank?\",\n",
       " 'response': \"That's great to know! The MacBook Pro 2021 model is a powerful and sleek laptop with impressive performance capabilities. When you try to start it up, do you hear any sounds like the fan spinning or the startup chime? Have you tried connecting it to a power source to ensure it's not a battery issue? Let's troubleshoot this together.\"}"
      ]
     },
     "execution_count": 14,
     "metadata": {},
     "output_type": "execute_result"
    }
   ],
   "source": [
    "count_tokens(conversation_buf,\"It is a macbook pro 2021 model?\")"
   ]
  },
  {
   "cell_type": "code",
   "execution_count": 15,
   "id": "be6f90feecc8a3ae",
   "metadata": {
    "collapsed": false,
    "jupyter": {
     "outputs_hidden": false
    }
   },
   "outputs": [
    {
     "name": "stdout",
     "output_type": "stream",
     "text": [
      "\u001b[32;1m\u001b[1;3m[chain/start]\u001b[0m \u001b[1m[chain:ConversationChain] Entering Chain run with input:\n",
      "\u001b[0m{\n",
      "  \"input\": \"How do i start it up\",\n",
      "  \"history\": \"Human: Hi, i am not able to start my macbook laptop\\nAI: Hello! I'm sorry to hear that you're having trouble with your MacBook. Can you provide me with more details about what happens when you try to start it up? Are you seeing any error messages or is the screen completely blank?\\nHuman: It is a macbook pro 2021 model?\\nAI: That's great to know! The MacBook Pro 2021 model is a powerful and sleek laptop with impressive performance capabilities. When you try to start it up, do you hear any sounds like the fan spinning or the startup chime? Have you tried connecting it to a power source to ensure it's not a battery issue? Let's troubleshoot this together.\"\n",
      "}\n",
      "\u001b[32;1m\u001b[1;3m[llm/start]\u001b[0m \u001b[1m[chain:ConversationChain > llm:ChatOpenAI] Entering LLM run with input:\n",
      "\u001b[0m{\n",
      "  \"prompts\": [\n",
      "    \"Human: The following is a friendly conversation between a human and an AI. The AI is talkative and provides lots of specific details from its context. If the AI does not know the answer to a question, it truthfully says it does not know.\\n\\nCurrent conversation:\\nHuman: Hi, i am not able to start my macbook laptop\\nAI: Hello! I'm sorry to hear that you're having trouble with your MacBook. Can you provide me with more details about what happens when you try to start it up? Are you seeing any error messages or is the screen completely blank?\\nHuman: It is a macbook pro 2021 model?\\nAI: That's great to know! The MacBook Pro 2021 model is a powerful and sleek laptop with impressive performance capabilities. When you try to start it up, do you hear any sounds like the fan spinning or the startup chime? Have you tried connecting it to a power source to ensure it's not a battery issue? Let's troubleshoot this together.\\nHuman: How do i start it up\\nAI:\"\n",
      "  ]\n",
      "}\n",
      "\u001b[36;1m\u001b[1;3m[llm/end]\u001b[0m \u001b[1m[chain:ConversationChain > llm:ChatOpenAI] [2.48s] Exiting LLM run with output:\n",
      "\u001b[0m{\n",
      "  \"generations\": [\n",
      "    [\n",
      "      {\n",
      "        \"text\": \"To start up your MacBook Pro 2021 model, simply press the power button located on the keyboard. It's usually located at the top right corner of the keyboard. If the laptop doesn't turn on, try connecting it to a power source using the charger that came with the laptop. Make sure the charger is plugged into a working outlet and the laptop is securely connected to the charger. Then press the power button again to see if it starts up. If it still doesn't turn on, we may need to explore other troubleshooting steps.\",\n",
      "        \"generation_info\": {\n",
      "          \"finish_reason\": \"stop\",\n",
      "          \"logprobs\": null\n",
      "        },\n",
      "        \"type\": \"ChatGeneration\",\n",
      "        \"message\": {\n",
      "          \"lc\": 1,\n",
      "          \"type\": \"constructor\",\n",
      "          \"id\": [\n",
      "            \"langchain\",\n",
      "            \"schema\",\n",
      "            \"messages\",\n",
      "            \"AIMessage\"\n",
      "          ],\n",
      "          \"kwargs\": {\n",
      "            \"content\": \"To start up your MacBook Pro 2021 model, simply press the power button located on the keyboard. It's usually located at the top right corner of the keyboard. If the laptop doesn't turn on, try connecting it to a power source using the charger that came with the laptop. Make sure the charger is plugged into a working outlet and the laptop is securely connected to the charger. Then press the power button again to see if it starts up. If it still doesn't turn on, we may need to explore other troubleshooting steps.\",\n",
      "            \"response_metadata\": {\n",
      "              \"token_usage\": {\n",
      "                \"completion_tokens\": 108,\n",
      "                \"prompt_tokens\": 221,\n",
      "                \"total_tokens\": 329\n",
      "              },\n",
      "              \"model_name\": \"gpt-3.5-turbo-0125\",\n",
      "              \"system_fingerprint\": null,\n",
      "              \"finish_reason\": \"stop\",\n",
      "              \"logprobs\": null\n",
      "            },\n",
      "            \"type\": \"ai\",\n",
      "            \"id\": \"run-374e6460-0781-40b4-90f6-169ed6803c96-0\",\n",
      "            \"usage_metadata\": {\n",
      "              \"input_tokens\": 221,\n",
      "              \"output_tokens\": 108,\n",
      "              \"total_tokens\": 329\n",
      "            },\n",
      "            \"tool_calls\": [],\n",
      "            \"invalid_tool_calls\": []\n",
      "          }\n",
      "        }\n",
      "      }\n",
      "    ]\n",
      "  ],\n",
      "  \"llm_output\": {\n",
      "    \"token_usage\": {\n",
      "      \"completion_tokens\": 108,\n",
      "      \"prompt_tokens\": 221,\n",
      "      \"total_tokens\": 329\n",
      "    },\n",
      "    \"model_name\": \"gpt-3.5-turbo-0125\",\n",
      "    \"system_fingerprint\": null\n",
      "  },\n",
      "  \"run\": null\n",
      "}\n",
      "\u001b[36;1m\u001b[1;3m[chain/end]\u001b[0m \u001b[1m[chain:ConversationChain] [2.48s] Exiting Chain run with output:\n",
      "\u001b[0m{\n",
      "  \"response\": \"To start up your MacBook Pro 2021 model, simply press the power button located on the keyboard. It's usually located at the top right corner of the keyboard. If the laptop doesn't turn on, try connecting it to a power source using the charger that came with the laptop. Make sure the charger is plugged into a working outlet and the laptop is securely connected to the charger. Then press the power button again to see if it starts up. If it still doesn't turn on, we may need to explore other troubleshooting steps.\"\n",
      "}\n",
      "Spent a total of 329 tokens\n"
     ]
    },
    {
     "data": {
      "text/plain": [
       "{'input': 'How do i start it up',\n",
       " 'history': \"Human: Hi, i am not able to start my macbook laptop\\nAI: Hello! I'm sorry to hear that you're having trouble with your MacBook. Can you provide me with more details about what happens when you try to start it up? Are you seeing any error messages or is the screen completely blank?\\nHuman: It is a macbook pro 2021 model?\\nAI: That's great to know! The MacBook Pro 2021 model is a powerful and sleek laptop with impressive performance capabilities. When you try to start it up, do you hear any sounds like the fan spinning or the startup chime? Have you tried connecting it to a power source to ensure it's not a battery issue? Let's troubleshoot this together.\",\n",
       " 'response': \"To start up your MacBook Pro 2021 model, simply press the power button located on the keyboard. It's usually located at the top right corner of the keyboard. If the laptop doesn't turn on, try connecting it to a power source using the charger that came with the laptop. Make sure the charger is plugged into a working outlet and the laptop is securely connected to the charger. Then press the power button again to see if it starts up. If it still doesn't turn on, we may need to explore other troubleshooting steps.\"}"
      ]
     },
     "execution_count": 15,
     "metadata": {},
     "output_type": "execute_result"
    }
   ],
   "source": [
    "count_tokens(conversation_buf,\"How do i start it up\")"
   ]
  },
  {
   "cell_type": "code",
   "execution_count": 16,
   "id": "d81b39214c388af0",
   "metadata": {
    "collapsed": false,
    "jupyter": {
     "outputs_hidden": false
    }
   },
   "outputs": [
    {
     "data": {
      "text/plain": [
       "\"Human: Hi, i am not able to start my macbook laptop\\nAI: Hello! I'm sorry to hear that you're having trouble with your MacBook. Can you provide me with more details about what happens when you try to start it up? Are you seeing any error messages or is the screen completely blank?\\nHuman: It is a macbook pro 2021 model?\\nAI: That's great to know! The MacBook Pro 2021 model is a powerful and sleek laptop with impressive performance capabilities. When you try to start it up, do you hear any sounds like the fan spinning or the startup chime? Have you tried connecting it to a power source to ensure it's not a battery issue? Let's troubleshoot this together.\\nHuman: How do i start it up\\nAI: To start up your MacBook Pro 2021 model, simply press the power button located on the keyboard. It's usually located at the top right corner of the keyboard. If the laptop doesn't turn on, try connecting it to a power source using the charger that came with the laptop. Make sure the charger is plugged into a working outlet and the laptop is securely connected to the charger. Then press the power button again to see if it starts up. If it still doesn't turn on, we may need to explore other troubleshooting steps.\""
      ]
     },
     "execution_count": 16,
     "metadata": {},
     "output_type": "execute_result"
    }
   ],
   "source": [
    "conversation_buf.memory.buffer"
   ]
  },
  {
   "cell_type": "markdown",
   "id": "5ba23a8c26b70cb2",
   "metadata": {
    "collapsed": false,
    "jupyter": {
     "outputs_hidden": false
    }
   },
   "source": [
    "### Conversation Summary Memory"
   ]
  },
  {
   "cell_type": "code",
   "execution_count": 21,
   "id": "bb623ba9bdef3504",
   "metadata": {
    "collapsed": false,
    "jupyter": {
     "outputs_hidden": false
    }
   },
   "outputs": [],
   "source": [
    "from langchain.chains.conversation.memory import ConversationSummaryMemory\n",
    "memory = ConversationSummaryMemory(llm=llm)\n",
    "conversation_sum = ConversationChain(llm=llm, memory=memory,verbose=True)\n",
    "langchain.debug = False"
   ]
  },
  {
   "cell_type": "code",
   "execution_count": 22,
   "id": "301b7f051d071917",
   "metadata": {
    "collapsed": false,
    "jupyter": {
     "outputs_hidden": false
    }
   },
   "outputs": [
    {
     "name": "stdout",
     "output_type": "stream",
     "text": [
      "\n",
      "\n",
      "\u001b[1m> Entering new ConversationChain chain...\u001b[0m\n",
      "Prompt after formatting:\n",
      "\u001b[32;1m\u001b[1;3mThe following is a friendly conversation between a human and an AI. The AI is talkative and provides lots of specific details from its context. If the AI does not know the answer to a question, it truthfully says it does not know.\n",
      "\n",
      "Current conversation:\n",
      "\n",
      "Human: Hi, i am not able to start my macbook laptop\n",
      "AI:\u001b[0m\n",
      "\n",
      "\u001b[1m> Finished chain.\u001b[0m\n",
      "Spent a total of 318 tokens\n"
     ]
    },
    {
     "data": {
      "text/plain": [
       "{'input': 'Hi, i am not able to start my macbook laptop',\n",
       " 'history': '',\n",
       " 'response': \"Hello! I'm sorry to hear that you're having trouble with your MacBook. Can you provide me with more details about what happens when you try to start it up?\"}"
      ]
     },
     "execution_count": 22,
     "metadata": {},
     "output_type": "execute_result"
    }
   ],
   "source": [
    "count_tokens(conversation_sum,\"Hi, i am not able to start my macbook laptop\")"
   ]
  },
  {
   "cell_type": "code",
   "execution_count": 24,
   "id": "94b801eb7784543",
   "metadata": {
    "collapsed": false,
    "jupyter": {
     "outputs_hidden": false
    }
   },
   "outputs": [
    {
     "name": "stdout",
     "output_type": "stream",
     "text": [
      "\n",
      "\n",
      "\u001b[1m> Entering new ConversationChain chain...\u001b[0m\n",
      "Prompt after formatting:\n",
      "\u001b[32;1m\u001b[1;3mThe following is a friendly conversation between a human and an AI. The AI is talkative and provides lots of specific details from its context. If the AI does not know the answer to a question, it truthfully says it does not know.\n",
      "\n",
      "Current conversation:\n",
      "The human is having trouble starting their MacBook laptop. The AI expresses sympathy and asks for more details about the issue, such as what happens when they try to turn it on and if they see any lights or hear any sounds.\n",
      "Human: How do i start it up\n",
      "AI:\u001b[0m\n",
      "\n",
      "\u001b[1m> Finished chain.\u001b[0m\n",
      "Spent a total of 487 tokens\n"
     ]
    },
    {
     "data": {
      "text/plain": [
       "{'input': 'How do i start it up',\n",
       " 'history': 'The human is having trouble starting their MacBook laptop. The AI expresses sympathy and asks for more details about the issue, such as what happens when they try to turn it on and if they see any lights or hear any sounds.',\n",
       " 'response': \"I'm sorry to hear that you're having trouble starting up your MacBook. Can you tell me what happens when you try to turn it on? Do you see any lights on the laptop or hear any sounds? This information will help me better understand the issue and provide you with the right solution.\"}"
      ]
     },
     "execution_count": 24,
     "metadata": {},
     "output_type": "execute_result"
    }
   ],
   "source": [
    "count_tokens(conversation_sum,\"How do i start it up\")"
   ]
  },
  {
   "cell_type": "markdown",
   "id": "c65624ee282c1d72",
   "metadata": {
    "collapsed": false,
    "jupyter": {
     "outputs_hidden": false
    }
   },
   "source": [
    "# Workshop exercise:\n",
    "Create a chat with a memory that uses ConversationSummaryMemory that chat should be able to answer questions about dogs brands and their characteristics.\n",
    "\n",
    "e.g. \"What kind of dog is a labrador?\""
   ]
  }
 ],
 "metadata": {
  "kernelspec": {
   "display_name": "Python 3 (ipykernel)",
   "language": "python",
   "name": "python3"
  },
  "language_info": {
   "codemirror_mode": {
    "name": "ipython",
    "version": 3
   },
   "file_extension": ".py",
   "mimetype": "text/x-python",
   "name": "python",
   "nbconvert_exporter": "python",
   "pygments_lexer": "ipython3",
   "version": "3.11.0"
  }
 },
 "nbformat": 4,
 "nbformat_minor": 5
}
