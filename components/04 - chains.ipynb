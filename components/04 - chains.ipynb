{
 "cells": [
  {
   "cell_type": "markdown",
   "id": "89756284a303a599",
   "metadata": {
    "collapsed": false,
    "jupyter": {
     "outputs_hidden": false
    }
   },
   "source": [
    "## Chains ⛓️⛓️⛓️\n",
    "Combining different LLM calls and action automatically\n",
    "\n",
    "Ex: Summary #1, Summary #2, Summary #3 > Final Summary\n",
    "\n",
    "Check out [this video](https://www.youtube.com/watch?v=f9_BWhCI4Zo&t=2s) explaining different summarization chain types\n",
    "\n",
    "There are [many applications of chains](https://python.langchain.com/en/latest/modules/chains/how_to_guides.html) search to see which are best for your use case.\n",
    "\n",
    "We'll cover two of them:"
   ]
  },
  {
   "cell_type": "markdown",
   "id": "73c8a5ede6239a08",
   "metadata": {
    "collapsed": false,
    "jupyter": {
     "outputs_hidden": false
    }
   },
   "source": [
    "### 1. Simple Sequential Chains\n",
    "Easy chains where you can use the output of an LLM as an input into another. Good for breaking up tasks (and keeping your LLM focused)"
   ]
  },
  {
   "cell_type": "code",
   "execution_count": 1,
   "id": "2eb8f147c6a40417",
   "metadata": {
    "ExecuteTime": {
     "end_time": "2024-07-13T20:19:21.052993Z",
     "start_time": "2024-07-13T20:19:20.981473Z"
    },
    "collapsed": false,
    "jupyter": {
     "outputs_hidden": false
    }
   },
   "outputs": [],
   "source": [
    "import os\n",
    "\n",
    "from langchain_openai import OpenAI\n",
    "from langchain.chains import LLMChain\n",
    "from langchain.prompts import PromptTemplate\n",
    "from langchain.chains import SimpleSequentialChain\n",
    "from dotenv import load_dotenv, find_dotenv\n",
    "\n",
    "load_dotenv(find_dotenv())\n",
    "\n",
    "openai_api_key = os.environ[\"OPENAI_API_KEY\"]\n",
    "\n",
    "llm = OpenAI(temperature=1, openai_api_key=openai_api_key)"
   ]
  },
  {
   "cell_type": "code",
   "execution_count": 2,
   "id": "1a9dbe49d0b3ef33",
   "metadata": {
    "ExecuteTime": {
     "end_time": "2024-07-13T20:19:21.864591Z",
     "start_time": "2024-07-13T20:19:21.861709Z"
    },
    "collapsed": false,
    "jupyter": {
     "outputs_hidden": false
    }
   },
   "outputs": [],
   "source": [
    "template = \"\"\"Your job is to come up with a classic dish from the area that the users suggests.\n",
    "% USER LOCATION\n",
    "{user_location}\n",
    "\n",
    "YOUR RESPONSE:\n",
    "\"\"\"\n",
    "prompt_template = PromptTemplate(input_variables=[\"user_location\"], template=template)\n",
    "\n",
    "# Holds my 'location' chain\n",
    "location_chain = prompt_template | llm"
   ]
  },
  {
   "cell_type": "code",
   "execution_count": 3,
   "id": "dbec912aaba7cdf5",
   "metadata": {
    "ExecuteTime": {
     "end_time": "2024-07-13T20:19:23.326131Z",
     "start_time": "2024-07-13T20:19:23.323553Z"
    },
    "collapsed": false,
    "jupyter": {
     "outputs_hidden": false
    }
   },
   "outputs": [
    {
     "name": "stderr",
     "output_type": "stream",
     "text": [
      "/Users/yanivbenzvi/develop/tikal/langchain-tutorial/.venv/lib/python3.11/site-packages/langchain_core/_api/deprecation.py:139: LangChainDeprecationWarning: The class `LLMChain` was deprecated in LangChain 0.1.17 and will be removed in 1.0. Use RunnableSequence, e.g., `prompt | llm` instead.\n",
      "  warn_deprecated(\n"
     ]
    }
   ],
   "source": [
    "template = \"\"\"Given a meal, give a short and simple recipe on how to make that dish at home.\n",
    "% MEAL\n",
    "{user_meal}\n",
    "\n",
    "YOUR RESPONSE:\n",
    "\"\"\"\n",
    "prompt_template = PromptTemplate(input_variables=[\"user_meal\"], template=template)\n",
    "\n",
    "# Holds my 'meal' chain\n",
    "meal_chain = LLMChain(llm=llm, prompt=prompt_template)"
   ]
  },
  {
   "cell_type": "code",
   "execution_count": 4,
   "id": "e294f919d95f015e",
   "metadata": {
    "ExecuteTime": {
     "end_time": "2024-07-13T20:20:53.272788Z",
     "start_time": "2024-07-13T20:20:53.267602Z"
    },
    "collapsed": false,
    "jupyter": {
     "outputs_hidden": false
    }
   },
   "outputs": [],
   "source": [
    "chains = location_chain.pipe(meal_chain)"
   ]
  },
  {
   "cell_type": "code",
   "execution_count": 5,
   "id": "14cab97cd743e998",
   "metadata": {
    "ExecuteTime": {
     "end_time": "2024-07-13T20:20:57.514145Z",
     "start_time": "2024-07-13T20:20:53.707077Z"
    },
    "collapsed": false,
    "jupyter": {
     "outputs_hidden": false
    }
   },
   "outputs": [
    {
     "data": {
      "text/plain": [
       "{'user_meal': 'One classic dish from Rome is Cacio e Pepe. Made with just three simple ingredients - pasta, cheese, and black pepper - this dish has been a staple in Roman cuisine for centuries. The pasta is cooked until al dente and then tossed with a creamy sauce made from the cheese and pasta water. The freshly ground black pepper adds a unique spicy kick to the dish. Cacio e Pepe is a simple yet delicious representation of the traditional flavors of Rome.',\n",
       " 'text': 'To make Cacio e Pepe at home, bring a pot of salted water to a boil and cook your choice of pasta until al dente. While the pasta is cooking, finely grate Pecorino Romano cheese. In a separate pan, melt butter and slowly add in pasta water until a creamy consistency is achieved. Once the pasta is cooked, drain and add it to the pan with the butter and water mixture. Slowly stir in the grated cheese until it melts and creates a smooth sauce. Serve the pasta with a generous amount of freshly ground black pepper on top. Enjoy your homemade Cacio e Pepe!'}"
      ]
     },
     "execution_count": 5,
     "metadata": {},
     "output_type": "execute_result"
    }
   ],
   "source": [
    "chains.invoke(input={\"user_location\": \"rome\"})"
   ]
  },
  {
   "cell_type": "code",
   "execution_count": 6,
   "id": "a2546edb11c92584",
   "metadata": {
    "ExecuteTime": {
     "end_time": "2024-07-13T20:24:35.657424Z",
     "start_time": "2024-07-13T20:24:35.645733Z"
    },
    "collapsed": false,
    "jupyter": {
     "outputs_hidden": false
    }
   },
   "outputs": [],
   "source": [
    "# pipe operator is implemented by __or__ magic method in runnable class\n",
    "chains = location_chain | meal_chain"
   ]
  },
  {
   "cell_type": "code",
   "execution_count": 7,
   "id": "4c0374c35e078556",
   "metadata": {
    "ExecuteTime": {
     "end_time": "2024-07-13T21:28:33.460072Z",
     "start_time": "2024-07-13T21:28:28.697775Z"
    },
    "collapsed": false,
    "jupyter": {
     "outputs_hidden": false
    }
   },
   "outputs": [
    {
     "data": {
      "text/plain": [
       "{'user_meal': 'One classic dish from Rome is spaghetti alla carbonara, a dish that originated in the Lazio region. This dish is made with spaghetti pasta, egg, pecorino cheese, guanciale (cured pork jowl), and black pepper. The name \"carbonara\" comes from the Italian word for coal, referring to the black pepper that gives the dish its characteristic specks. The dish is popular among locals and tourists alike and is a staple in many Italian restaurants. It is believed that the dish was first created as a hearty meal for Italian charcoal workers, and it has since become a beloved Roman dish worldwide. ',\n",
       " 'text': ' \\nTo make spaghetti alla carbonara at home, start by boiling a pot of salted water and cooking the spaghetti until al dente. While the pasta is cooking, fry slices of guanciale in a pan until crispy. In a separate bowl, beat eggs and add grated pecorino cheese. Once the spaghetti is cooked, drain it and add it to the pan with the guanciale. Turn off the heat and quickly add the egg and cheese mixture, stirring it into the spaghetti until it becomes creamy. Add black pepper to taste and serve hot, garnished with extra cheese and parsley, if desired. Enjoy your homemade spaghetti alla carbonara!'}"
      ]
     },
     "execution_count": 7,
     "metadata": {},
     "output_type": "execute_result"
    }
   ],
   "source": [
    "result = chains.invoke(input={\"user_location\": \"rome\"})\n",
    "result"
   ]
  },
  {
   "cell_type": "code",
   "execution_count": 8,
   "id": "c4aa4f5b0426ba79",
   "metadata": {
    "ExecuteTime": {
     "end_time": "2024-07-13T21:28:44.560696Z",
     "start_time": "2024-07-13T21:28:44.555552Z"
    },
    "collapsed": false,
    "jupyter": {
     "outputs_hidden": false
    }
   },
   "outputs": [
    {
     "data": {
      "text/plain": [
       "'One classic dish from Rome is spaghetti alla carbonara, a dish that originated in the Lazio region. This dish is made with spaghetti pasta, egg, pecorino cheese, guanciale (cured pork jowl), and black pepper. The name \"carbonara\" comes from the Italian word for coal, referring to the black pepper that gives the dish its characteristic specks. The dish is popular among locals and tourists alike and is a staple in many Italian restaurants. It is believed that the dish was first created as a hearty meal for Italian charcoal workers, and it has since become a beloved Roman dish worldwide. '"
      ]
     },
     "execution_count": 8,
     "metadata": {},
     "output_type": "execute_result"
    }
   ],
   "source": [
    "result.get('user_meal')"
   ]
  },
  {
   "cell_type": "code",
   "execution_count": 9,
   "id": "e6fb13cb704abf56",
   "metadata": {
    "ExecuteTime": {
     "end_time": "2024-07-13T21:29:08.423639Z",
     "start_time": "2024-07-13T21:29:08.416142Z"
    },
    "collapsed": false,
    "jupyter": {
     "outputs_hidden": false
    }
   },
   "outputs": [
    {
     "name": "stdout",
     "output_type": "stream",
     "text": [
      " \n",
      "To make spaghetti alla carbonara at home, start by boiling a pot of salted water and cooking the spaghetti until al dente. While the pasta is cooking, fry slices of guanciale in a pan until crispy. In a separate bowl, beat eggs and add grated pecorino cheese. Once the spaghetti is cooked, drain it and add it to the pan with the guanciale. Turn off the heat and quickly add the egg and cheese mixture, stirring it into the spaghetti until it becomes creamy. Add black pepper to taste and serve hot, garnished with extra cheese and parsley, if desired. Enjoy your homemade spaghetti alla carbonara!\n"
     ]
    }
   ],
   "source": [
    "print(result.get('text'))"
   ]
  },
  {
   "cell_type": "markdown",
   "id": "c041ddf1866958fd",
   "metadata": {
    "collapsed": false,
    "jupyter": {
     "outputs_hidden": false
    }
   },
   "source": [
    "### branching chains\n",
    "In LangChain v0.1 of langchain, we introduced the ability to create branching chains using the `BranchingChain` class. This allows you to create a chain that can take multiple paths based on the output of a previous chain."
   ]
  }
 ],
 "metadata": {
  "kernelspec": {
   "display_name": "Python 3 (ipykernel)",
   "language": "python",
   "name": "python3"
  },
  "language_info": {
   "codemirror_mode": {
    "name": "ipython",
    "version": 3
   },
   "file_extension": ".py",
   "mimetype": "text/x-python",
   "name": "python",
   "nbconvert_exporter": "python",
   "pygments_lexer": "ipython3",
   "version": "3.11.0"
  }
 },
 "nbformat": 4,
 "nbformat_minor": 5
}
