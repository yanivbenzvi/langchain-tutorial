{
 "cells": [
  {
   "cell_type": "markdown",
   "source": [
    "## Chains ⛓️⛓️⛓️\n",
    "Combining different LLM calls and action automatically\n",
    "\n",
    "Ex: Summary #1, Summary #2, Summary #3 > Final Summary\n",
    "\n",
    "Check out [this video](https://www.youtube.com/watch?v=f9_BWhCI4Zo&t=2s) explaining different summarization chain types\n",
    "\n",
    "There are [many applications of chains](https://python.langchain.com/en/latest/modules/chains/how_to_guides.html) search to see which are best for your use case.\n",
    "\n",
    "We'll cover two of them:"
   ],
   "metadata": {
    "collapsed": false
   },
   "id": "89756284a303a599"
  },
  {
   "cell_type": "markdown",
   "source": [
    "### 1. Simple Sequential Chains\n",
    "Easy chains where you can use the output of an LLM as an input into another. Good for breaking up tasks (and keeping your LLM focused)"
   ],
   "metadata": {
    "collapsed": false
   },
   "id": "73c8a5ede6239a08"
  },
  {
   "cell_type": "code",
   "outputs": [],
   "source": [
    "import os\n",
    "\n",
    "from langchain_openai import OpenAI\n",
    "from langchain.chains import LLMChain\n",
    "from langchain.prompts import PromptTemplate\n",
    "from langchain.chains import SimpleSequentialChain\n",
    "from dotenv import load_dotenv, find_dotenv\n",
    "\n",
    "load_dotenv(find_dotenv())\n",
    "\n",
    "openai_api_key = os.environ[\"OPENAI_API_KEY\"]\n",
    "\n",
    "llm = OpenAI(temperature=1, openai_api_key=openai_api_key)"
   ],
   "metadata": {
    "collapsed": false,
    "ExecuteTime": {
     "end_time": "2024-07-13T20:19:21.052993Z",
     "start_time": "2024-07-13T20:19:20.981473Z"
    }
   },
   "id": "2eb8f147c6a40417",
   "execution_count": 19
  },
  {
   "cell_type": "code",
   "outputs": [],
   "source": [
    "template = \"\"\"Your job is to come up with a classic dish from the area that the users suggests.\n",
    "% USER LOCATION\n",
    "{user_location}\n",
    "\n",
    "YOUR RESPONSE:\n",
    "\"\"\"\n",
    "prompt_template = PromptTemplate(input_variables=[\"user_location\"], template=template)\n",
    "\n",
    "# Holds my 'location' chain\n",
    "location_chain = prompt_template | llm"
   ],
   "metadata": {
    "collapsed": false,
    "ExecuteTime": {
     "end_time": "2024-07-13T20:19:21.864591Z",
     "start_time": "2024-07-13T20:19:21.861709Z"
    }
   },
   "id": "1a9dbe49d0b3ef33",
   "execution_count": 20
  },
  {
   "cell_type": "code",
   "outputs": [],
   "source": [
    "template = \"\"\"Given a meal, give a short and simple recipe on how to make that dish at home.\n",
    "% MEAL\n",
    "{user_meal}\n",
    "\n",
    "YOUR RESPONSE:\n",
    "\"\"\"\n",
    "prompt_template = PromptTemplate(input_variables=[\"user_meal\"], template=template)\n",
    "\n",
    "# Holds my 'meal' chain\n",
    "meal_chain = LLMChain(llm=llm, prompt=prompt_template)"
   ],
   "metadata": {
    "collapsed": false,
    "ExecuteTime": {
     "end_time": "2024-07-13T20:19:23.326131Z",
     "start_time": "2024-07-13T20:19:23.323553Z"
    }
   },
   "id": "dbec912aaba7cdf5",
   "execution_count": 21
  },
  {
   "cell_type": "code",
   "outputs": [],
   "source": [
    "chains = location_chain.pipe(meal_chain)"
   ],
   "metadata": {
    "collapsed": false,
    "ExecuteTime": {
     "end_time": "2024-07-13T20:20:53.272788Z",
     "start_time": "2024-07-13T20:20:53.267602Z"
    }
   },
   "id": "e294f919d95f015e",
   "execution_count": 27
  },
  {
   "cell_type": "code",
   "outputs": [
    {
     "data": {
      "text/plain": "{'user_meal': \"\\nOne classic dish from Rome is cacio e pepe, a simple yet delicious pasta dish made with only a few ingredients. It consists of spaghetti or tonnarelli pasta tossed with a sauce made from grated pecorino romano cheese and black pepper. The end result is a creamy, peppery and cheesy pasta that is a staple in traditional Roman cuisine. It's often served as a first course or as a side dish for meat or fish. This dish has been enjoyed in Rome since ancient times, making it a true classic that represents the rich culinary history of the city.\",\n 'text': 'To make cacio e pepe at home, bring a pot of salted water to a boil and cook the spaghetti or tonnarelli pasta according to package instructions until al dente. In a separate pan, toast freshly cracked black pepper until fragrant. Then, add the cooked pasta to the pan with the pepper and a splash of cooking water. Slowly sprinkle in grated pecorino romano cheese, stirring constantly until it forms a creamy sauce. Serve hot and garnish with additional cheese and black pepper, if desired. Enjoy your homemade cacio e pepe!'}"
     },
     "execution_count": 28,
     "metadata": {},
     "output_type": "execute_result"
    }
   ],
   "source": [
    "chains.invoke(input={\"user_location\": \"rome\"})"
   ],
   "metadata": {
    "collapsed": false,
    "ExecuteTime": {
     "end_time": "2024-07-13T20:20:57.514145Z",
     "start_time": "2024-07-13T20:20:53.707077Z"
    }
   },
   "id": "14cab97cd743e998",
   "execution_count": 28
  },
  {
   "cell_type": "code",
   "outputs": [],
   "source": [
    "# pipe operator is implemented by __or__ magic method in runnable class\n",
    "chains = location_chain | meal_chain"
   ],
   "metadata": {
    "collapsed": false,
    "ExecuteTime": {
     "end_time": "2024-07-13T20:24:35.657424Z",
     "start_time": "2024-07-13T20:24:35.645733Z"
    }
   },
   "id": "a2546edb11c92584",
   "execution_count": 30
  },
  {
   "cell_type": "code",
   "outputs": [],
   "source": [
    "result = chains.invoke(input={\"user_location\": \"rome\"})\n",
    "result"
   ],
   "metadata": {
    "collapsed": false,
    "ExecuteTime": {
     "end_time": "2024-07-13T21:28:33.460072Z",
     "start_time": "2024-07-13T21:28:28.697775Z"
    }
   },
   "id": "4c0374c35e078556",
   "execution_count": 32
  },
  {
   "cell_type": "code",
   "outputs": [
    {
     "data": {
      "text/plain": "'One classic dish from Rome is cacio e pepe, which translates to \"cheese and pepper\". This simple yet flavorful pasta dish consists of spaghetti or bucatini tossed with Pecorino Romano cheese and freshly ground black pepper. The cheese and pepper are combined with starchy pasta water to create a creamy and delectable sauce. This dish has been a staple of Roman cuisine for centuries and can be found in almost every traditional trattoria or restaurant in Rome. It is a must-try for anyone visiting the Eternal City.'"
     },
     "execution_count": 34,
     "metadata": {},
     "output_type": "execute_result"
    }
   ],
   "source": [
    "result.get('user_meal')"
   ],
   "metadata": {
    "collapsed": false,
    "ExecuteTime": {
     "end_time": "2024-07-13T21:28:44.560696Z",
     "start_time": "2024-07-13T21:28:44.555552Z"
    }
   },
   "id": "c4aa4f5b0426ba79",
   "execution_count": 34
  },
  {
   "cell_type": "code",
   "outputs": [
    {
     "name": "stdout",
     "output_type": "stream",
     "text": [
      "Recipe for Cacio e Pepe:\n",
      "\n",
      "Ingredients:\n",
      "- 1 pound spaghetti or bucatini pasta\n",
      "- 1 cup grated Pecorino Romano cheese\n",
      "- 2 tablespoons freshly ground black pepper\n",
      "- Salt to taste\n",
      "\n",
      "Instructions:\n",
      "1. Bring a large pot of salted water to a boil. Add pasta and cook according to package instructions until al dente.\n",
      "\n",
      "2. While the pasta is cooking, combine the grated Pecorino Romano cheese and black pepper in a small bowl.\n",
      "\n",
      "3. Once the pasta is cooked, reserve 1 cup of the starchy pasta water before draining the pasta.\n",
      "\n",
      "4. In a separate large pan, heat a tablespoon of olive oil over medium heat. Add the cooked pasta and a splash of the reserved pasta water to the pan and toss to coat.\n",
      "\n",
      "5. Gradually add the cheese and pepper mixture to the pasta, stirring constantly until a creamy sauce forms. If the sauce is too thick, add more of the reserved pasta water.\n",
      "\n",
      "6. Taste and add salt if necessary.\n",
      "\n",
      "7. Serve hot, garnished with additional black pepper and grated Pecorino Romano cheese. Enjoy your homemade cacio e pepe!\n"
     ]
    }
   ],
   "source": [
    "print(result.get('text'))"
   ],
   "metadata": {
    "collapsed": false,
    "ExecuteTime": {
     "end_time": "2024-07-13T21:29:08.423639Z",
     "start_time": "2024-07-13T21:29:08.416142Z"
    }
   },
   "id": "e6fb13cb704abf56",
   "execution_count": 37
  },
  {
   "cell_type": "markdown",
   "source": [
    "### branching chains\n",
    "In LangChain v0.1 of langchain, we introduced the ability to create branching chains using the `BranchingChain` class. This allows you to create a chain that can take multiple paths based on the output of a previous chain."
   ],
   "metadata": {
    "collapsed": false
   },
   "id": "c041ddf1866958fd"
  }
 ],
 "metadata": {
  "kernelspec": {
   "display_name": "Python 3 (ipykernel)",
   "language": "python",
   "name": "python3"
  },
  "language_info": {
   "codemirror_mode": {
    "name": "ipython",
    "version": 3
   },
   "file_extension": ".py",
   "mimetype": "text/x-python",
   "name": "python",
   "nbconvert_exporter": "python",
   "pygments_lexer": "ipython3",
   "version": "3.11.0"
  }
 },
 "nbformat": 4,
 "nbformat_minor": 5
}
